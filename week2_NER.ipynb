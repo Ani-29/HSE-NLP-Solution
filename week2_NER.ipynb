{
  "nbformat": 4,
  "nbformat_minor": 0,
  "metadata": {
    "kernelspec": {
      "name": "python3",
      "display_name": "Python 3"
    },
    "language_info": {
      "codemirror_mode": {
        "name": "ipython",
        "version": 3
      },
      "file_extension": ".py",
      "mimetype": "text/x-python",
      "name": "python",
      "nbconvert_exporter": "python",
      "pygments_lexer": "ipython3",
      "version": "3.4.3"
    },
    "colab": {
      "name": "Copy of week2-NER.ipynb",
      "provenance": [],
      "collapsed_sections": [
        "8oR6MkRgqn9T",
        "aIZObA8rqn9k"
      ]
    },
    "accelerator": "GPU"
  },
  "cells": [
    {
      "cell_type": "markdown",
      "metadata": {
        "collapsed": true,
        "id": "Rn4eYW4Fqn7m",
        "colab_type": "text"
      },
      "source": [
        "# Recognize named entities on Twitter with LSTMs\n",
        "\n",
        "In this assignment, you will use a recurrent neural network to solve Named Entity Recognition (NER) problem. NER is a common task in natural language processing systems. It serves for extraction such entities from the text as persons, organizations, locations, etc. In this task you will experiment to recognize named entities from Twitter.\n",
        "\n",
        "For example, we want to extract persons' and organizations' names from the text. Than for the input text:\n",
        "\n",
        "    Ian Goodfellow works for Google Brain\n",
        "\n",
        "a NER model needs to provide the following sequence of tags:\n",
        "\n",
        "    B-PER I-PER    O     O   B-ORG  I-ORG\n",
        "\n",
        "Where *B-* and *I-* prefixes stand for the beginning and inside of the entity, while *O* stands for out of tag or no tag. Markup with the prefix scheme is called *BIO markup*. This markup is introduced for distinguishing of consequent entities with similar types.\n",
        "\n",
        "A solution of the task will be based on neural networks, particularly, on Bi-Directional Long Short-Term Memory Networks (Bi-LSTMs).\n",
        "\n",
        "### Libraries\n",
        "\n",
        "For this task you will need the following libraries:\n",
        " - [Tensorflow](https://www.tensorflow.org) — an open-source software library for Machine Intelligence.\n",
        " - [Numpy](http://www.numpy.org) — a package for scientific computing.\n",
        " \n",
        "If you have never worked with Tensorflow, you would probably need to read some tutorials during your work on this assignment, e.g. [this one](https://www.tensorflow.org/tutorials/recurrent) could be a good starting point. "
      ]
    },
    {
      "cell_type": "markdown",
      "metadata": {
        "id": "3CI74JADqn7p",
        "colab_type": "text"
      },
      "source": [
        "### Data\n",
        "\n",
        "The following cell will download all data required for this assignment into the folder `week2/data`."
      ]
    },
    {
      "cell_type": "code",
      "metadata": {
        "id": "6aQ3gY_6raOi",
        "colab_type": "code",
        "outputId": "a3795357-3afc-4109-dd4c-fb0952e95c08",
        "colab": {
          "base_uri": "https://localhost:8080/",
          "height": 204
        }
      },
      "source": [
        "! wget https://raw.githubusercontent.com/hse-aml/natural-language-processing/master/setup_google_colab.py -O setup_google_colab.py\n",
        "import setup_google_colab\n",
        "# please, uncomment the week you're working on\n",
        "# setup_google_colab.setup_week1()  \n",
        "setup_google_colab.setup_week2()\n",
        "# setup_google_colab.setup_week3()\n",
        "# setup_google_colab.setup_week4()\n",
        "# setup_google_colab.setup_project()\n",
        "# setup_google_colab.setup_honor()"
      ],
      "execution_count": 1,
      "outputs": [
        {
          "output_type": "stream",
          "text": [
            "--2019-11-15 08:55:30--  https://raw.githubusercontent.com/hse-aml/natural-language-processing/master/setup_google_colab.py\n",
            "Resolving raw.githubusercontent.com (raw.githubusercontent.com)... 151.101.0.133, 151.101.64.133, 151.101.128.133, ...\n",
            "Connecting to raw.githubusercontent.com (raw.githubusercontent.com)|151.101.0.133|:443... connected.\n",
            "HTTP request sent, awaiting response... 200 OK\n",
            "Length: 1991 (1.9K) [text/plain]\n",
            "Saving to: ‘setup_google_colab.py’\n",
            "\n",
            "\rsetup_google_colab.   0%[                    ]       0  --.-KB/s               \rsetup_google_colab. 100%[===================>]   1.94K  --.-KB/s    in 0s      \n",
            "\n",
            "2019-11-15 08:55:30 (30.6 MB/s) - ‘setup_google_colab.py’ saved [1991/1991]\n",
            "\n"
          ],
          "name": "stdout"
        }
      ]
    },
    {
      "cell_type": "code",
      "metadata": {
        "id": "MRTTe-ncqn7q",
        "colab_type": "code",
        "outputId": "e6caf3f5-638d-42c7-d240-be2d3a5b8158",
        "colab": {
          "base_uri": "https://localhost:8080/",
          "height": 68
        }
      },
      "source": [
        "import sys\n",
        "sys.path.append(\"..\")\n",
        "from common.download_utils import download_week2_resources\n",
        "\n",
        "download_week2_resources()"
      ],
      "execution_count": 2,
      "outputs": [
        {
          "output_type": "display_data",
          "data": {
            "application/vnd.jupyter.widget-view+json": {
              "model_id": "e3e892a50d3f40e2a63a4255790589ba",
              "version_minor": 0,
              "version_major": 2
            },
            "text/plain": [
              "HBox(children=(IntProgress(value=0, max=849548), HTML(value='')))"
            ]
          },
          "metadata": {
            "tags": []
          }
        },
        {
          "output_type": "stream",
          "text": [
            "\n"
          ],
          "name": "stdout"
        },
        {
          "output_type": "display_data",
          "data": {
            "application/vnd.jupyter.widget-view+json": {
              "model_id": "da17e812cc934e1b890bd1f65e429971",
              "version_minor": 0,
              "version_major": 2
            },
            "text/plain": [
              "HBox(children=(IntProgress(value=0, max=103771), HTML(value='')))"
            ]
          },
          "metadata": {
            "tags": []
          }
        },
        {
          "output_type": "stream",
          "text": [
            "\n"
          ],
          "name": "stdout"
        },
        {
          "output_type": "display_data",
          "data": {
            "application/vnd.jupyter.widget-view+json": {
              "model_id": "1f38ffac00f2412d93245bd866a5cc1a",
              "version_minor": 0,
              "version_major": 2
            },
            "text/plain": [
              "HBox(children=(IntProgress(value=0, max=106837), HTML(value='')))"
            ]
          },
          "metadata": {
            "tags": []
          }
        },
        {
          "output_type": "stream",
          "text": [
            "\n"
          ],
          "name": "stdout"
        }
      ]
    },
    {
      "cell_type": "markdown",
      "metadata": {
        "id": "_9dZ_xJ8qn7t",
        "colab_type": "text"
      },
      "source": [
        "### Load the Twitter Named Entity Recognition corpus\n",
        "\n",
        "We will work with a corpus, which contains tweets with NE tags. Every line of a file contains a pair of a token (word/punctuation symbol) and a tag, separated by a whitespace. Different tweets are separated by an empty line.\n",
        "\n",
        "The function *read_data* reads a corpus from the *file_path* and returns two lists: one with tokens and one with the corresponding tags. You need to complete this function by adding a code, which will replace a user's nickname to `<USR>` token and any URL to `<URL>` token. You could think that a URL and a nickname are just strings which start with *http://* or *https://* in case of URLs and a *@* symbol for nicknames."
      ]
    },
    {
      "cell_type": "code",
      "metadata": {
        "id": "7p0PmwzFsc5_",
        "colab_type": "code",
        "colab": {}
      },
      "source": [
        "import re"
      ],
      "execution_count": 0,
      "outputs": []
    },
    {
      "cell_type": "code",
      "metadata": {
        "id": "XjnbP3alqn7v",
        "colab_type": "code",
        "colab": {}
      },
      "source": [
        "def read_data(file_path):\n",
        "    tokens = []\n",
        "    tags = []\n",
        "    \n",
        "    tweet_tokens = []\n",
        "    tweet_tags = []\n",
        "    for line in open(file_path, encoding='utf-8'):\n",
        "        line = line.strip()\n",
        "        if not line:\n",
        "            if tweet_tokens:\n",
        "                tokens.append(tweet_tokens)\n",
        "                tags.append(tweet_tags)\n",
        "            tweet_tokens = []\n",
        "            tweet_tags = []\n",
        "        else:\n",
        "            token, tag = line.split()\n",
        "            # Replace all urls with <URL> token\n",
        "            # Replace all users with <USR> token\n",
        "\n",
        "            ######################################\n",
        "            ######### YOUR CODE HERE #############\n",
        "            ######################################\n",
        "            token=re.sub(r'@[\\w]*','<USR>',token)\n",
        "            token = re.sub(r\"http\\S+\", \"<URL>\", token)\n",
        "            tweet_tokens.append(token)\n",
        "            tweet_tags.append(tag)\n",
        "            \n",
        "    return tokens, tags"
      ],
      "execution_count": 0,
      "outputs": []
    },
    {
      "cell_type": "markdown",
      "metadata": {
        "id": "ud9B4xKvqn7y",
        "colab_type": "text"
      },
      "source": [
        "And now we can load three separate parts of the dataset:\n",
        " - *train* data for training the model;\n",
        " - *validation* data for evaluation and hyperparameters tuning;\n",
        " - *test* data for final evaluation of the model."
      ]
    },
    {
      "cell_type": "code",
      "metadata": {
        "id": "pXmu2D2bqn7z",
        "colab_type": "code",
        "colab": {}
      },
      "source": [
        "train_tokens, train_tags = read_data('data/train.txt')\n",
        "validation_tokens, validation_tags = read_data('data/validation.txt')\n",
        "test_tokens, test_tags = read_data('data/test.txt')"
      ],
      "execution_count": 0,
      "outputs": []
    },
    {
      "cell_type": "markdown",
      "metadata": {
        "id": "JJe2DTiKqn72",
        "colab_type": "text"
      },
      "source": [
        "You should always understand what kind of data you deal with. For this purpose, you can print the data running the following cell:"
      ]
    },
    {
      "cell_type": "code",
      "metadata": {
        "id": "HdKIX1QIqn73",
        "colab_type": "code",
        "outputId": "04894b3d-4799-4f4c-9b9d-6a6f70a19d93",
        "colab": {
          "base_uri": "https://localhost:8080/",
          "height": 1000
        }
      },
      "source": [
        "for i in range(3):\n",
        "    for token, tag in zip(train_tokens[i], train_tags[i]):\n",
        "        print('%s\\t%s' % (token, tag))\n",
        "    print()"
      ],
      "execution_count": 6,
      "outputs": [
        {
          "output_type": "stream",
          "text": [
            "RT\tO\n",
            "<USR>\tO\n",
            ":\tO\n",
            "Online\tO\n",
            "ticket\tO\n",
            "sales\tO\n",
            "for\tO\n",
            "Ghostland\tB-musicartist\n",
            "Observatory\tI-musicartist\n",
            "extended\tO\n",
            "until\tO\n",
            "6\tO\n",
            "PM\tO\n",
            "EST\tO\n",
            "due\tO\n",
            "to\tO\n",
            "high\tO\n",
            "demand\tO\n",
            ".\tO\n",
            "Get\tO\n",
            "them\tO\n",
            "before\tO\n",
            "they\tO\n",
            "sell\tO\n",
            "out\tO\n",
            "...\tO\n",
            "\n",
            "Apple\tB-product\n",
            "MacBook\tI-product\n",
            "Pro\tI-product\n",
            "A1278\tI-product\n",
            "13.3\tI-product\n",
            "\"\tI-product\n",
            "Laptop\tI-product\n",
            "-\tI-product\n",
            "MD101LL/A\tI-product\n",
            "(\tO\n",
            "June\tO\n",
            ",\tO\n",
            "2012\tO\n",
            ")\tO\n",
            "-\tO\n",
            "Full\tO\n",
            "read\tO\n",
            "by\tO\n",
            "eBay\tB-company\n",
            "<URL>\tO\n",
            "<URL>\tO\n",
            "\n",
            "Happy\tO\n",
            "Birthday\tO\n",
            "<USR>\tO\n",
            "!\tO\n",
            "May\tO\n",
            "Allah\tB-person\n",
            "s.w.t\tO\n",
            "bless\tO\n",
            "you\tO\n",
            "with\tO\n",
            "goodness\tO\n",
            "and\tO\n",
            "happiness\tO\n",
            ".\tO\n",
            "\n"
          ],
          "name": "stdout"
        }
      ]
    },
    {
      "cell_type": "markdown",
      "metadata": {
        "id": "fHrHls21qn76",
        "colab_type": "text"
      },
      "source": [
        "### Prepare dictionaries\n",
        "\n",
        "To train a neural network, we will use two mappings: \n",
        "- {token}$\\to${token id}: address the row in embeddings matrix for the current token;\n",
        "- {tag}$\\to${tag id}: one-hot ground truth probability distribution vectors for computing the loss at the output of the network.\n",
        "\n",
        "Now you need to implement the function *build_dict* which will return {token or tag}$\\to${index} and vice versa. "
      ]
    },
    {
      "cell_type": "code",
      "metadata": {
        "id": "HZhC0Zrmqn77",
        "colab_type": "code",
        "colab": {}
      },
      "source": [
        "from collections import defaultdict"
      ],
      "execution_count": 0,
      "outputs": []
    },
    {
      "cell_type": "code",
      "metadata": {
        "id": "lfd6uNnhqn7-",
        "colab_type": "code",
        "colab": {}
      },
      "source": [
        "def build_dict(tokens_or_tags, special_tokens):\n",
        "    \"\"\"\n",
        "        tokens_or_tags: a list of lists of tokens or tags\n",
        "        special_tokens: some special tokens\n",
        "    \"\"\"\n",
        "    # Create a dictionary with default value 0\n",
        "    tok2idx = defaultdict(lambda: 0)\n",
        "    idx2tok = []\n",
        "    \n",
        "    # Create mappings from tokens (or tags) to indices and vice versa.\n",
        "    # At first, add special tokens (or tags) to the dictionaries.\n",
        "    # The first special token must have index 0.\n",
        "    \n",
        "    # Mapping tok2idx should contain each token or tag only once. \n",
        "    # To do so, you should:\n",
        "    # 1. extract unique tokens/tags from the tokens_or_tags variable, which is not\n",
        "    #    occur in special_tokens (because they could have non-empty intersection)\n",
        "    # 2. index them (for example, you can add them into the list idx2tok\n",
        "    # 3. for each token/tag save the index into tok2idx).\n",
        "    for i,sp_tok in enumerate(special_tokens):\n",
        "      idx2tok.append(sp_tok)\n",
        "      tok2idx[sp_tok]=i\n",
        "    for j,tok_or_tag in enumerate(tokens_or_tags):\n",
        "      #print(tok_or_tag)\n",
        "      #break\n",
        "      for k,t_o_t in enumerate(tok_or_tag):\n",
        "        if t_o_t not in tok2idx.keys():\n",
        "          i+=1\n",
        "          idx2tok.append(t_o_t)\n",
        "\n",
        "          tok2idx[t_o_t]=i\n",
        "    ######################################\n",
        "    ######### YOUR CODE HERE #############\n",
        "    ######################################\n",
        "    \n",
        "    return tok2idx, idx2tok"
      ],
      "execution_count": 0,
      "outputs": []
    },
    {
      "cell_type": "markdown",
      "metadata": {
        "id": "HlU1ITotqn8B",
        "colab_type": "text"
      },
      "source": [
        "After implementing the function *build_dict* you can make dictionaries for tokens and tags. Special tokens in our case will be:\n",
        " - `<UNK>` token for out of vocabulary tokens;\n",
        " - `<PAD>` token for padding sentence to the same length when we create batches of sentences."
      ]
    },
    {
      "cell_type": "code",
      "metadata": {
        "id": "B1U_VtFGqn8C",
        "colab_type": "code",
        "colab": {}
      },
      "source": [
        "special_tokens = ['<UNK>', '<PAD>']\n",
        "special_tags = ['O']\n",
        "\n",
        "# Create dictionaries \n",
        "token2idx, idx2token = build_dict(train_tokens + validation_tokens, special_tokens)\n",
        "tag2idx, idx2tag = build_dict(train_tags, special_tags)"
      ],
      "execution_count": 0,
      "outputs": []
    },
    {
      "cell_type": "code",
      "metadata": {
        "id": "AW0w-6LKkOlZ",
        "colab_type": "code",
        "colab": {
          "base_uri": "https://localhost:8080/",
          "height": 1000
        },
        "outputId": "8fc001ea-927f-4bcb-8afd-309be6a2abaf"
      },
      "source": [
        "idx2token"
      ],
      "execution_count": 80,
      "outputs": [
        {
          "output_type": "execute_result",
          "data": {
            "text/plain": [
              "['<UNK>',\n",
              " '<PAD>',\n",
              " (0, 'RT'),\n",
              " (1, '<USR>'),\n",
              " (2, ':'),\n",
              " (3, 'Online'),\n",
              " (4, 'ticket'),\n",
              " (5, 'sales'),\n",
              " (6, 'for'),\n",
              " (7, 'Ghostland'),\n",
              " (8, 'Observatory'),\n",
              " (9, 'extended'),\n",
              " (10, 'until'),\n",
              " (11, '6'),\n",
              " (12, 'PM'),\n",
              " (13, 'EST'),\n",
              " (14, 'due'),\n",
              " (15, 'to'),\n",
              " (16, 'high'),\n",
              " (17, 'demand'),\n",
              " (18, '.'),\n",
              " (19, 'Get'),\n",
              " (20, 'them'),\n",
              " (21, 'before'),\n",
              " (22, 'they'),\n",
              " (23, 'sell'),\n",
              " (24, 'out'),\n",
              " (25, '...'),\n",
              " (0, 'Apple'),\n",
              " (1, 'MacBook'),\n",
              " (2, 'Pro'),\n",
              " (3, 'A1278'),\n",
              " (4, '13.3'),\n",
              " (5, '\"'),\n",
              " (6, 'Laptop'),\n",
              " (7, '-'),\n",
              " (8, 'MD101LL/A'),\n",
              " (9, '('),\n",
              " (10, 'June'),\n",
              " (11, ','),\n",
              " (12, '2012'),\n",
              " (13, ')'),\n",
              " (14, '-'),\n",
              " (15, 'Full'),\n",
              " (16, 'read'),\n",
              " (17, 'by'),\n",
              " (18, 'eBay'),\n",
              " (19, '<URL>'),\n",
              " (20, '<URL>'),\n",
              " (0, 'Happy'),\n",
              " (1, 'Birthday'),\n",
              " (2, '<USR>'),\n",
              " (3, '!'),\n",
              " (4, 'May'),\n",
              " (5, 'Allah'),\n",
              " (6, 's.w.t'),\n",
              " (7, 'bless'),\n",
              " (8, 'you'),\n",
              " (9, 'with'),\n",
              " (10, 'goodness'),\n",
              " (11, 'and'),\n",
              " (12, 'happiness'),\n",
              " (13, '.'),\n",
              " (0, '<USR>'),\n",
              " (1, 'the'),\n",
              " (2, 'quest'),\n",
              " (3, 'line'),\n",
              " (4, 'im'),\n",
              " (5, 'assuming'),\n",
              " (6, 'it'),\n",
              " (7, 'will'),\n",
              " (8, 'be'),\n",
              " (9, 'the'),\n",
              " (10, 'same'),\n",
              " (11, 'way'),\n",
              " (12, 'with'),\n",
              " (13, 'awe'),\n",
              " (14, 'thur'),\n",
              " (3, '<USR>'),\n",
              " (4, '<USR>'),\n",
              " (5, 'still'),\n",
              " (6, 'perception'),\n",
              " (7, ','),\n",
              " (8, 'and'),\n",
              " (9, 'what'),\n",
              " (10, 'you'),\n",
              " (11, 'key'),\n",
              " (12, 'off'),\n",
              " (13, 'may'),\n",
              " (14, 'differ'),\n",
              " (15, 'from'),\n",
              " (16, 'me'),\n",
              " (17, '.'),\n",
              " (18, 'Back'),\n",
              " (19, 'to'),\n",
              " (20, 'Selma'),\n",
              " (21, 'example'),\n",
              " (22, ','),\n",
              " (23, 'iow'),\n",
              " (24, '.'),\n",
              " (0, 'Amazon'),\n",
              " (1, 'Kindle'),\n",
              " (2, 'Fire'),\n",
              " (3, '1st'),\n",
              " (4, 'Generation'),\n",
              " (5, '8GB'),\n",
              " (6, ','),\n",
              " (7, 'Wi-Fi'),\n",
              " (8, ','),\n",
              " (9, '7in'),\n",
              " (10, '-'),\n",
              " (11, 'Black'),\n",
              " (12, '-'),\n",
              " (13, 'Full'),\n",
              " (14, 'read'),\n",
              " (15, 'by'),\n",
              " (16, 'eBay'),\n",
              " (17, '<URL>'),\n",
              " (18, '<URL>'),\n",
              " (1, \"I'll\"),\n",
              " (2, 'call'),\n",
              " (3, 'u'),\n",
              " (4, 'after'),\n",
              " (5, 'class'),\n",
              " (6, 'pooky'),\n",
              " (7, ';D'),\n",
              " (0, 'TL_jp'),\n",
              " (1, 'August'),\n",
              " (2, '29'),\n",
              " (3, ','),\n",
              " (4, '2015'),\n",
              " (5, 'at'),\n",
              " (6, '01:25'),\n",
              " (7, 'AM'),\n",
              " (8, '<URL>'),\n",
              " (1, 'Wie'),\n",
              " (2, 'staat'),\n",
              " (3, 'daar'),\n",
              " (4, 'nou'),\n",
              " (5, 'met'),\n",
              " (6, 'de'),\n",
              " (7, 'microfoon'),\n",
              " (8, 'links'),\n",
              " (9, ';-)'),\n",
              " (10, '<URL>'),\n",
              " (0, 'Why'),\n",
              " (1, 'do'),\n",
              " (2, 'I'),\n",
              " (3, 'have'),\n",
              " (4, 'an'),\n",
              " (5, 'exam'),\n",
              " (6, 'tomorrow'),\n",
              " (7, 'morning'),\n",
              " (8, '?'),\n",
              " (0, 'Big'),\n",
              " (1, 'Day'),\n",
              " (2, 'tomorrow'),\n",
              " (3, '-'),\n",
              " (4, 'Thanks'),\n",
              " (5, 'to'),\n",
              " (6, 'all'),\n",
              " (7, 'of'),\n",
              " (8, 'Team'),\n",
              " (9, 'Pioneers'),\n",
              " (10, 'who'),\n",
              " (11, 'have'),\n",
              " (12, 'been'),\n",
              " (13, 'busy'),\n",
              " (14, 'unwrapping'),\n",
              " (15, 'tables'),\n",
              " (16, 'and'),\n",
              " (17, 'unpacking'),\n",
              " (18, 'boxes'),\n",
              " (20, 'ensure'),\n",
              " (21, 'school'),\n",
              " (22, 'is'),\n",
              " (23, 'ready'),\n",
              " (24, '!'),\n",
              " (1, 'Ive'),\n",
              " (2, 'heard'),\n",
              " (3, 'of'),\n",
              " (4, 'that'),\n",
              " (5, '.'),\n",
              " (6, \"Hadn't\"),\n",
              " (7, 'heard'),\n",
              " (8, 'it'),\n",
              " (9, 'called'),\n",
              " (10, 'that'),\n",
              " (11, 'before'),\n",
              " (12, '.'),\n",
              " (13, 'I'),\n",
              " (14, 'considered'),\n",
              " (15, 'it'),\n",
              " (16, 'but'),\n",
              " (17, 'my'),\n",
              " (18, 'hair'),\n",
              " (19, 'is'),\n",
              " (20, 'so'),\n",
              " (21, 'oily'),\n",
              " (23, 'I'),\n",
              " (24, 'think'),\n",
              " (25, 'I'),\n",
              " (26, 'would'),\n",
              " (27, 'look'),\n",
              " (28, 'dirty'),\n",
              " (29, '.'),\n",
              " (30, ':)'),\n",
              " (0, 'Life'),\n",
              " (1, 'may'),\n",
              " (2, 'feel'),\n",
              " (3, 'somewhat'),\n",
              " (4, 'unstable'),\n",
              " (5, 'today'),\n",
              " (6, 'as'),\n",
              " (7, 'your'),\n",
              " (8, 'self-esteem'),\n",
              " (9, 'soar'),\n",
              " (10, '...'),\n",
              " (11, 'More'),\n",
              " (12, 'for'),\n",
              " (13, 'Aquarius'),\n",
              " (14, '<URL>'),\n",
              " (0, '#BREAKING'),\n",
              " (1, ':'),\n",
              " (2, 'NEW'),\n",
              " (3, ':'),\n",
              " (4, '1'),\n",
              " (5, 'dead'),\n",
              " (7, 'as'),\n",
              " (8, 'many'),\n",
              " (9, 'as'),\n",
              " (10, '15'),\n",
              " (11, 'injured'),\n",
              " (12, 'in'),\n",
              " (13, 'Fort'),\n",
              " (14, 'Hood'),\n",
              " (15, 'shooting'),\n",
              " (16, '.'),\n",
              " (17, 'SWAT'),\n",
              " (18, ','),\n",
              " (19, '21'),\n",
              " (20, 'ambulances'),\n",
              " (21, 'now'),\n",
              " (22, 'on'),\n",
              " (23, 'scene'),\n",
              " (25, '-'),\n",
              " (26, 'KWTX'),\n",
              " (27, '-'),\n",
              " (28, 'CBS-TV'),\n",
              " (29, '#FortHood'),\n",
              " (0, '#4GElite2'),\n",
              " (1, 'A'),\n",
              " (2, 'Premium'),\n",
              " (3, 'Budget'),\n",
              " (4, 'Phone'),\n",
              " (5, '!'),\n",
              " (6, 'Promising'),\n",
              " (7, 'Future'),\n",
              " (8, 'Updates'),\n",
              " (9, '!'),\n",
              " (10, 'ELITE'),\n",
              " (11, '2'),\n",
              " (12, 'is'),\n",
              " (13, 'Better'),\n",
              " (14, 'than'),\n",
              " (15, 'Anything'),\n",
              " (16, 'Before'),\n",
              " (17, '!'),\n",
              " (18, 'Launch'),\n",
              " (19, 'on'),\n",
              " (20, '8'),\n",
              " (21, 'Nov'),\n",
              " (22, 'On'),\n",
              " (23, '<USR>'),\n",
              " (24, '<USR>'),\n",
              " (3, 'PSA'),\n",
              " (4, ':'),\n",
              " (5, 'roll'),\n",
              " (6, 'up'),\n",
              " (7, 'the'),\n",
              " (8, 'rim'),\n",
              " (9, 'starts'),\n",
              " (10, 'Monday'),\n",
              " (11, '!!'),\n",
              " (0, 'The'),\n",
              " (1, 'bank'),\n",
              " (2, 'teller'),\n",
              " (3, 'I'),\n",
              " (4, 'always'),\n",
              " (5, 'go'),\n",
              " (6, 'to'),\n",
              " (7, 'wants'),\n",
              " (8, 'me'),\n",
              " (9, '.'),\n",
              " (10, 'Lol'),\n",
              " (11, '.'),\n",
              " (12, 'No'),\n",
              " (13, 'shit'),\n",
              " (14, '.'),\n",
              " (15, 'She'),\n",
              " (16, 'left'),\n",
              " (17, 'me'),\n",
              " (18, 'wide'),\n",
              " (19, 'open'),\n",
              " (20, 'for'),\n",
              " (21, 'tomorrow'),\n",
              " (22, '.'),\n",
              " (23, 'Too'),\n",
              " (24, 'bad'),\n",
              " (26, 'already'),\n",
              " (27, 'have'),\n",
              " (28, 'fucking'),\n",
              " (29, 'plans'),\n",
              " (30, '!'),\n",
              " (2, '#LASD'),\n",
              " (3, 'Arson/Explosives'),\n",
              " (4, 'Detail'),\n",
              " (5, '('),\n",
              " (6, 'Bomb'),\n",
              " (7, 'Squad'),\n",
              " (8, ')'),\n",
              " (9, 'on'),\n",
              " (10, 'scene'),\n",
              " (11, 'assisting'),\n",
              " (12, 'at'),\n",
              " (13, 'Santa'),\n",
              " (14, 'Monica'),\n",
              " (15, 'College'),\n",
              " (16, 're'),\n",
              " (17, ':'),\n",
              " (18, 'shooting'),\n",
              " (19, 'incident'),\n",
              " (20, '<USR>'),\n",
              " (0, 'the'),\n",
              " (1, 'group'),\n",
              " (2, 'Maunalua'),\n",
              " (3, 'will'),\n",
              " (4, 'be'),\n",
              " (5, 'playing'),\n",
              " (7, '<USR>'),\n",
              " (8, 'at'),\n",
              " (9, 'Noon'),\n",
              " (10, '!'),\n",
              " (0, '#Retweet'),\n",
              " (1, '#siguemeytesigo'),\n",
              " (2, '#autofollowback'),\n",
              " (3, '#teamfollowback'),\n",
              " (4, '#MGWV'),\n",
              " (5, '#tfbjp'),\n",
              " (6, '#f4f'),\n",
              " (7, '#followtrain'),\n",
              " (8, '#followtrick'),\n",
              " (9, 'August'),\n",
              " (10, '20'),\n",
              " (12, '2015'),\n",
              " (13, 'at'),\n",
              " (14, '10:16'),\n",
              " (15, 'AM'),\n",
              " (0, 'What'),\n",
              " (1, 'Does'),\n",
              " (2, 'the'),\n",
              " (3, 'Snapchat'),\n",
              " (4, 'Data'),\n",
              " (5, 'Breach'),\n",
              " (6, 'Mean'),\n",
              " (7, 'for'),\n",
              " (8, 'the'),\n",
              " (9, 'Global'),\n",
              " (10, 'Big'),\n",
              " (11, 'Data'),\n",
              " (12, 'Market'),\n",
              " (13, 'in'),\n",
              " (14, 'the'),\n",
              " (15, 'Retail'),\n",
              " (16, 'Sec'),\n",
              " (17, '...'),\n",
              " (19, '#socialmedia'),\n",
              " (20, '#happening'),\n",
              " (4, 'AKO'),\n",
              " (5, 'HAHAHA'),\n",
              " (6, 'MAY'),\n",
              " (7, 'EXAM'),\n",
              " (8, 'PA'),\n",
              " (9, 'NGA'),\n",
              " (10, 'KAMI'),\n",
              " (11, 'MAGKASUNOD'),\n",
              " (12, 'NA'),\n",
              " (13, 'SUBJECT'),\n",
              " (14, '!'),\n",
              " (15, 'HAHAHA'),\n",
              " (16, 'FIRST'),\n",
              " (17, 'AND'),\n",
              " (18, 'SECOND'),\n",
              " (19, 'PERIOD'),\n",
              " (20, 'PA'),\n",
              " (21, '#ALDUBSaveMaine'),\n",
              " (3, 'Somerset'),\n",
              " (4, 'is'),\n",
              " (5, '7-1'),\n",
              " (6, 'on'),\n",
              " (7, 'games'),\n",
              " (8, 'played'),\n",
              " (10, 'a'),\n",
              " (11, 'Friday'),\n",
              " (12, '#GetPatriotic'),\n",
              " (13, '<URL>'),\n",
              " (0, '#NEWS'),\n",
              " (1, '#MASHABLE'),\n",
              " (2, '|'),\n",
              " (4, 'Responds'),\n",
              " (6, 'New'),\n",
              " (7, 'Year'),\n",
              " (8, \"'s\"),\n",
              " (9, 'Eve'),\n",
              " (10, 'Security'),\n",
              " (11, 'Breach'),\n",
              " (12, '<URL>'),\n",
              " (13, '|'),\n",
              " (14, '#TECH'),\n",
              " (15, '-'),\n",
              " (16, '<USR>'),\n",
              " (0, '1'),\n",
              " (1, 'week'),\n",
              " (2, 'til'),\n",
              " (3, 'my'),\n",
              " (4, 'birthday'),\n",
              " (5, '!!'),\n",
              " (0, '\"'),\n",
              " (1, 'I'),\n",
              " (2, 'hate'),\n",
              " (3, 'mornings'),\n",
              " (4, '.'),\n",
              " (5, 'One'),\n",
              " (6, 'of'),\n",
              " (7, 'these'),\n",
              " (8, 'days'),\n",
              " (9, ','),\n",
              " (10, 'i'),\n",
              " (11, 'will'),\n",
              " (12, 'watch'),\n",
              " (13, 'Apollo'),\n",
              " (14, 'will'),\n",
              " (15, 'burn'),\n",
              " (17, 'Ironic'),\n",
              " (18, 'but'),\n",
              " (19, 'he'),\n",
              " (20, 'will'),\n",
              " (21, 'just'),\n",
              " (22, 'like'),\n",
              " (23, 'how'),\n",
              " (24, 'the'),\n",
              " (25, 'sun'),\n",
              " (26, \"'s\"),\n",
              " (27, 'gonna'),\n",
              " (28, 'set'),\n",
              " (29, 'off'),\n",
              " (30, 'someday'),\n",
              " (31, '.\"'),\n",
              " (0, '<USR>-'),\n",
              " (1, 'he'),\n",
              " (2, \"'s\"),\n",
              " (3, 'pitching'),\n",
              " (4, 'Saturday'),\n",
              " (6, 'He'),\n",
              " (7, 'had'),\n",
              " (8, 'a'),\n",
              " (9, 'really'),\n",
              " (10, 'good'),\n",
              " (11, 'year'),\n",
              " (13, 'AAA-'),\n",
              " (14, 'he'),\n",
              " (15, \"'s\"),\n",
              " (16, 'a'),\n",
              " (17, 'lefty'),\n",
              " (19, 'they'),\n",
              " (20, 'can'),\n",
              " (21, 'last'),\n",
              " (22, 'forever'),\n",
              " (23, '.'),\n",
              " (1, 'Human'),\n",
              " (2, 'Problem'),\n",
              " (3, 'at'),\n",
              " (4, 'the'),\n",
              " (5, 'Heart'),\n",
              " (7, 'Snapchat’s'),\n",
              " (8, 'Employee'),\n",
              " (9, 'Data'),\n",
              " (10, 'Breach'),\n",
              " (11, '<URL>'),\n",
              " (12, 'pic.twitter.com/H0nul1eQLq'),\n",
              " (3, '2'),\n",
              " (4, 'days'),\n",
              " (5, 'left'),\n",
              " (6, '.'),\n",
              " (7, '#TheIncredibleTrueStory'),\n",
              " (8, 'available'),\n",
              " (9, 'everywhere'),\n",
              " (10, 'Friday'),\n",
              " (11, 'November'),\n",
              " (12, '13th'),\n",
              " (3, 'i'),\n",
              " (4, 'hate'),\n",
              " (5, 'it'),\n",
              " (6, 'when'),\n",
              " (7, 'my'),\n",
              " (8, 'parents'),\n",
              " (9, 'want'),\n",
              " (10, 'me'),\n",
              " (11, 'to'),\n",
              " (12, 'come'),\n",
              " (13, 'home'),\n",
              " (14, 'early'),\n",
              " (17, 'party'),\n",
              " (19, 'but'),\n",
              " (20, 'i'),\n",
              " (21, 'wanna'),\n",
              " (22, 'stay'),\n",
              " (23, 'really'),\n",
              " (24, 'late'),\n",
              " (25, '#ATeenageThought'),\n",
              " (1, '#TBRList'),\n",
              " (2, '<URL>'),\n",
              " (0, 'signing'),\n",
              " (1, 'along'),\n",
              " (2, 'to'),\n",
              " (3, 'Remembering'),\n",
              " (4, 'Sunday'),\n",
              " (0, 'Anyone'),\n",
              " (1, 'up'),\n",
              " (2, 'for'),\n",
              " (3, 'some'),\n",
              " (4, 'late'),\n",
              " (5, 'night'),\n",
              " (6, 'trivia'),\n",
              " (7, 'tonight'),\n",
              " (9, '10pm'),\n",
              " (10, 'at'),\n",
              " (11, 'Summits'),\n",
              " (13, 'Let'),\n",
              " (14, 'me'),\n",
              " (15, 'know'),\n",
              " (16, '!'),\n",
              " (3, 'TIKET'),\n",
              " (4, 'PROMO'),\n",
              " (5, 'Ambon'),\n",
              " (6, '-'),\n",
              " (7, 'Jakarta'),\n",
              " (8, '|'),\n",
              " (9, '1-10'),\n",
              " (10, 'Feb'),\n",
              " (11, '2015'),\n",
              " (12, '|'),\n",
              " (13, 'Info'),\n",
              " (14, 'klik'),\n",
              " (15, '<URL>'),\n",
              " (16, '<URL>'),\n",
              " (0, 'Man'),\n",
              " (1, 'Hospitalized'),\n",
              " (2, 'After'),\n",
              " (3, 'Shooting'),\n",
              " (4, 'on'),\n",
              " (5, 'Bishop'),\n",
              " (6, 'Ford'),\n",
              " (7, 'Freeway'),\n",
              " (8, ':'),\n",
              " (9, 'Police'),\n",
              " (11, '…'),\n",
              " (0, '800,000'),\n",
              " (1, 'Customers'),\n",
              " (2, \"'\"),\n",
              " (3, 'detail'),\n",
              " (4, 'stolen'),\n",
              " (5, 'in'),\n",
              " (6, 'Data'),\n",
              " (7, 'Breach'),\n",
              " (9, 'French'),\n",
              " (10, 'Telecom'),\n",
              " (11, \"'\"),\n",
              " (12, 'Orange'),\n",
              " (13, \"'\"),\n",
              " (15, '…'),\n",
              " (16, '#Security'),\n",
              " (0, 'joy_redona'),\n",
              " (1, '#PushAwardsLizQuens'),\n",
              " (0, 'Hahaha'),\n",
              " (1, 'wala'),\n",
              " (2, 'mare'),\n",
              " (3, 'may'),\n",
              " (4, 'tweet'),\n",
              " (5, 'lng'),\n",
              " (6, 'n'),\n",
              " (7, 'nkaka'),\n",
              " (8, 'hb'),\n",
              " (9, 'hahaha'),\n",
              " (0, 'Every'),\n",
              " (1, 'night'),\n",
              " (2, '&amp;'),\n",
              " (3, 'every'),\n",
              " (4, 'day'),\n",
              " (0, '$LEG'),\n",
              " (1, '-'),\n",
              " (2, 'SELL'),\n",
              " (3, 'Signal'),\n",
              " (4, 'at'),\n",
              " (5, '43.34'),\n",
              " (7, 'Oct'),\n",
              " (8, '21'),\n",
              " (11, 'By'),\n",
              " (13, ','),\n",
              " (14, 'Trading'),\n",
              " (15, 'Signals'),\n",
              " (16, 'Robot'),\n",
              " (17, '#stock'),\n",
              " (18, '#trading'),\n",
              " (19, '#trade'),\n",
              " (20, '#investing'),\n",
              " (4, 'All'),\n",
              " (5, 'worldly'),\n",
              " (6, 'cuisines'),\n",
              " (7, 'are'),\n",
              " (8, 'Insipid'),\n",
              " (9, 'in'),\n",
              " (10, 'front'),\n",
              " (11, 'of'),\n",
              " (12, '#MSG2in447'),\n",
              " (14, 's'),\n",
              " (15, 'Elixir'),\n",
              " (16, 'Thats'),\n",
              " (17, 'why'),\n",
              " (18, 'it'),\n",
              " (20, '1st'),\n",
              " (21, 'choice'),\n",
              " (22, 'of'),\n",
              " (23, 'millions'),\n",
              " (0, 'Its'),\n",
              " (1, 'crazy'),\n",
              " (2, 'that'),\n",
              " (3, 'one'),\n",
              " (5, 'I'),\n",
              " (6, 'have'),\n",
              " (7, 'energy'),\n",
              " (8, 'to'),\n",
              " (9, 'do'),\n",
              " (10, 'laundry'),\n",
              " (12, 'mop'),\n",
              " (13, 'floors'),\n",
              " (14, ','),\n",
              " (15, 'scrub'),\n",
              " (16, 'everything'),\n",
              " (17, 'down'),\n",
              " (18, 'and'),\n",
              " (19, 'the'),\n",
              " (20, 'next'),\n",
              " (21, 'I'),\n",
              " (22, \"don't\"),\n",
              " (23, 'even'),\n",
              " (24, 'feel'),\n",
              " (25, 'like'),\n",
              " (26, 'doing'),\n",
              " (27, 'anything'),\n",
              " (28, '!'),\n",
              " (1, '\"'),\n",
              " (2, 'UGH'),\n",
              " (3, 'AS'),\n",
              " (4, 'IF'),\n",
              " (6, 'pag'),\n",
              " (7, 'maganda'),\n",
              " (8, 'si'),\n",
              " (9, 'Jan'),\n",
              " (10, 'agad'),\n",
              " (11, 'pwede'),\n",
              " (12, 'ako'),\n",
              " (13, 'muna'),\n",
              " (0, 'Today'),\n",
              " (2, 'mall'),\n",
              " (3, 'was'),\n",
              " (4, 'full'),\n",
              " (5, 'of'),\n",
              " (6, 'moms'),\n",
              " (7, 'who'),\n",
              " (8, 'love'),\n",
              " (9, 'scrapbooking'),\n",
              " (10, '.'),\n",
              " (11, 'kill'),\n",
              " (12, 'me'),\n",
              " (1, 'Heyy'),\n",
              " (2, ','),\n",
              " (3, 'how'),\n",
              " (4, 'are'),\n",
              " (5, 'u'),\n",
              " (6, 'today'),\n",
              " (7, '?'),\n",
              " (8, ';)'),\n",
              " (9, 'follow'),\n",
              " (10, '4'),\n",
              " (11, 'follow'),\n",
              " (12, '?'),\n",
              " (3, 'Will'),\n",
              " (4, 'you'),\n",
              " (5, 'be'),\n",
              " (6, 'wearing'),\n",
              " (8, '#lotsofsocks'),\n",
              " (9, 'tomorrow'),\n",
              " (10, 'for'),\n",
              " (11, 'World'),\n",
              " (12, 'Down'),\n",
              " (13, \"'s\"),\n",
              " (14, 'Syndrome'),\n",
              " (15, 'Day'),\n",
              " (16, '?'),\n",
              " (17, 'Natty'),\n",
              " (18, 'is'),\n",
              " (19, '!'),\n",
              " (0, 'So'),\n",
              " (1, 'much'),\n",
              " (2, 'violence'),\n",
              " (3, '.'),\n",
              " (5, 'live'),\n",
              " (6, 'stream'),\n",
              " (7, 'cuts'),\n",
              " (8, 'from'),\n",
              " (9, 'now-finished'),\n",
              " (10, 'presser'),\n",
              " (11, 'on'),\n",
              " (12, 'Cleveland'),\n",
              " (13, 'shooting'),\n",
              " (14, 'back'),\n",
              " (16, 'funeral'),\n",
              " (17, 'of'),\n",
              " (18, 'Akron'),\n",
              " (19, 'officer'),\n",
              " (20, 'killed'),\n",
              " (21, 'by'),\n",
              " (22, 'gunman'),\n",
              " (2, 'merci'),\n",
              " (3, 'mon'),\n",
              " (4, 'prince'),\n",
              " (2, 'Come'),\n",
              " (3, 'get'),\n",
              " (4, 'your'),\n",
              " (5, 'blood'),\n",
              " (6, 'flowing'),\n",
              " (7, 'with'),\n",
              " (8, '<USR>'),\n",
              " (9, '&amp;'),\n",
              " (10, '<USR>'),\n",
              " (11, 'at'),\n",
              " (12, 'The'),\n",
              " (13, 'Heartbeat'),\n",
              " (14, 'tonight'),\n",
              " (15, ','),\n",
              " (16, 'or'),\n",
              " (17, 'as'),\n",
              " (18, 'we'),\n",
              " (19, 'call'),\n",
              " (20, 'it'),\n",
              " (21, 'Hide-and-Go'),\n",
              " (22, 'Sikh'),\n",
              " (23, '!'),\n",
              " (0, 'Just'),\n",
              " (1, 'puffed'),\n",
              " (2, 'on'),\n",
              " (3, 'sour'),\n",
              " (4, 'd'),\n",
              " (5, 'unintentionally'),\n",
              " (6, '...'),\n",
              " (7, \"I'm\"),\n",
              " (8, 'so'),\n",
              " (9, 'high'),\n",
              " (10, 'Idk'),\n",
              " (11, 'when'),\n",
              " (12, 'I'),\n",
              " (13, 'will'),\n",
              " (14, 'come'),\n",
              " (15, 'back'),\n",
              " (16, 'to'),\n",
              " (17, 'earth'),\n",
              " (3, 'B1A4'),\n",
              " (4, 'releases'),\n",
              " (5, 'sweet'),\n",
              " (6, 'teasers'),\n",
              " (8, '6th'),\n",
              " (9, 'mini'),\n",
              " (10, 'album'),\n",
              " (12, 'Sweet'),\n",
              " (13, \"Girl'!\"),\n",
              " (1, 'February'),\n",
              " (2, '02'),\n",
              " (6, '05:03'),\n",
              " (8, 'post5'),\n",
              " (0, 'Colorado'),\n",
              " (1, 'Springs'),\n",
              " (2, 'Police'),\n",
              " (4, 'Officers'),\n",
              " (6, 'encountering'),\n",
              " (7, 'gunfire'),\n",
              " (9, 'shooting'),\n",
              " (10, 'site'),\n",
              " (11, ':'),\n",
              " (12, 'Colorado'),\n",
              " (13, 'Springs'),\n",
              " (14, 'Police'),\n",
              " (15, '...'),\n",
              " (17, '#stocks'),\n",
              " (2, 'prefer'),\n",
              " (3, 'a'),\n",
              " (4, 'GA'),\n",
              " (5, 'announcement'),\n",
              " (6, 'that'),\n",
              " (7, 'they'),\n",
              " (8, 'are'),\n",
              " (9, 'recording'),\n",
              " (10, 'soon'),\n",
              " (11, '.....'),\n",
              " (12, 'it'),\n",
              " (13, 'is'),\n",
              " (14, 'really'),\n",
              " (15, 'a'),\n",
              " (16, 'bad'),\n",
              " (17, 'time'),\n",
              " (18, 'for'),\n",
              " (19, 'GA'),\n",
              " (20, 'fans'),\n",
              " (21, 'at'),\n",
              " (22, 'the'),\n",
              " (23, 'moment'),\n",
              " (24, '....'),\n",
              " (25, 'do'),\n",
              " (26, 'not'),\n",
              " (27, 'like'),\n",
              " (28, '..'),\n",
              " (1, '11'),\n",
              " (2, 'feb'),\n",
              " (3, '..'),\n",
              " (4, 'to'),\n",
              " (5, 'promote'),\n",
              " (6, 'his'),\n",
              " (7, 'film'),\n",
              " (8, 'with'),\n",
              " (9, 'jackie'),\n",
              " (10, 'chan'),\n",
              " (11, '\"'),\n",
              " (12, 'dragon'),\n",
              " (13, 'blade'),\n",
              " (14, '\"'),\n",
              " (0, '2'),\n",
              " (1, 'years'),\n",
              " (2, 'and'),\n",
              " (3, '9'),\n",
              " (4, 'months'),\n",
              " (5, ','),\n",
              " (6, 'but'),\n",
              " (9, 'counting'),\n",
              " (11, 'October'),\n",
              " (12, '24th'),\n",
              " (13, '2017'),\n",
              " (14, \"can't\"),\n",
              " (15, 'come'),\n",
              " (16, 'soon'),\n",
              " (17, 'enough'),\n",
              " (3, 'Ashton'),\n",
              " (4, 'with'),\n",
              " (5, 'a'),\n",
              " (6, 'fan'),\n",
              " (7, 'out'),\n",
              " (8, 'in'),\n",
              " (9, 'London'),\n",
              " (11, '|'),\n",
              " (12, 'April'),\n",
              " (13, '24'),\n",
              " (15, '2015'),\n",
              " (3, 'if'),\n",
              " (5, 'watcing'),\n",
              " (6, 'this'),\n",
              " (7, 'you'),\n",
              " (8, 'dont'),\n",
              " (9, 'accomplish'),\n",
              " (10, 'your'),\n",
              " (11, 'dream'),\n",
              " (12, 'by'),\n",
              " (13, 'tomorrow'),\n",
              " (14, 'idk'),\n",
              " (15, 'yo'),\n",
              " (0, 'Find'),\n",
              " (1, 'us'),\n",
              " (2, 'at'),\n",
              " (3, 'Tipitina'),\n",
              " (4, \"'s\"),\n",
              " (5, 'tonight'),\n",
              " (6, 'and'),\n",
              " (7, 'mention'),\n",
              " (8, 'that'),\n",
              " (9, \"you're\"),\n",
              " (10, 'following'),\n",
              " (11, 'us'),\n",
              " (12, 'on'),\n",
              " (13, 'Twitter'),\n",
              " (14, 'and'),\n",
              " (15, 'get'),\n",
              " (17, 'FREE'),\n",
              " (18, 'Fried'),\n",
              " (19, 'Mac'),\n",
              " (20, 'N'),\n",
              " (21, \"'\"),\n",
              " (22, 'Cheese'),\n",
              " (23, 'ball'),\n",
              " (24, 'with'),\n",
              " (25, 'any'),\n",
              " (26, 'order'),\n",
              " (27, '!'),\n",
              " (0, 'Tomorrow'),\n",
              " (1, 'is'),\n",
              " (2, 'another'),\n",
              " (3, 'day'),\n",
              " (4, '!'),\n",
              " (3, 'Going'),\n",
              " (4, 'into'),\n",
              " (5, 'school'),\n",
              " (7, 'like'),\n",
              " (8, '#KCA'),\n",
              " (9, '#Vote1DUK'),\n",
              " (0, 'Spurs'),\n",
              " (1, 'just'),\n",
              " (2, 'hit'),\n",
              " (3, '+3'),\n",
              " (5, 'Card'),\n",
              " (6, 'is'),\n",
              " (7, 'now'),\n",
              " (8, 'final'),\n",
              " (9, ':'),\n",
              " (10, 'Tuesday'),\n",
              " (12, 'Mavs/Rockets'),\n",
              " (13, 'Under'),\n",
              " (14, '222'),\n",
              " (15, 'Spurs/Clippers'),\n",
              " (16, 'Under'),\n",
              " (17, '205'),\n",
              " (18, 'Spurs'),\n",
              " (19, '+3'),\n",
              " (1, 'birfday'),\n",
              " (3, 'the'),\n",
              " (4, 'only'),\n",
              " (5, 'p-i-m-p'),\n",
              " (6, 'I'),\n",
              " (7, 'know'),\n",
              " (8, '...'),\n",
              " (9, '<USR>'),\n",
              " (11, 'We'),\n",
              " (12, \"'re\"),\n",
              " (13, 'getting'),\n",
              " (15, 'white'),\n",
              " (16, 'boy'),\n",
              " (17, 'wasted'),\n",
              " (18, '\"'),\n",
              " (19, 'tonight'),\n",
              " (20, '!'),\n",
              " (0, \"Don't\"),\n",
              " (1, 'know'),\n",
              " (2, 'if'),\n",
              " (4, 'should'),\n",
              " (5, 'actually'),\n",
              " (6, 'go'),\n",
              " (7, 'to'),\n",
              " (8, 'school'),\n",
              " (0, 'It'),\n",
              " (1, 'hurts'),\n",
              " (2, 'like'),\n",
              " (3, 'there'),\n",
              " (5, 'no'),\n",
              " (7, ':('),\n",
              " (8, '('),\n",
              " (9, '#umaARAGALANG'),\n",
              " (10, 'hahaha'),\n",
              " (0, 'My'),\n",
              " (1, 'mama'),\n",
              " (2, 'just'),\n",
              " (3, 'surprised'),\n",
              " (4, 'me'),\n",
              " (5, 'on'),\n",
              " (6, 'ring'),\n",
              " (7, 'day'),\n",
              " (8, '!!'),\n",
              " (9, 'Ahh'),\n",
              " (10, 'today'),\n",
              " (11, 'just'),\n",
              " (12, 'got'),\n",
              " (13, 'so'),\n",
              " (14, 'much'),\n",
              " (15, 'better'),\n",
              " (0, 'were'),\n",
              " (1, 'too'),\n",
              " (2, 'much'),\n",
              " (4, 'MJ'),\n",
              " (6, 'had'),\n",
              " (7, 'it'),\n",
              " (8, 'but'),\n",
              " (9, 'he'),\n",
              " (10, 'was'),\n",
              " (11, '50'),\n",
              " (12, 'years'),\n",
              " ...]"
            ]
          },
          "metadata": {
            "tags": []
          },
          "execution_count": 80
        }
      ]
    },
    {
      "cell_type": "markdown",
      "metadata": {
        "id": "OXdSQgeBqn8G",
        "colab_type": "text"
      },
      "source": [
        "The next additional functions will help you to create the mapping between tokens and ids for a sentence. "
      ]
    },
    {
      "cell_type": "code",
      "metadata": {
        "id": "nbhelBoTqn8H",
        "colab_type": "code",
        "colab": {}
      },
      "source": [
        "def words2idxs(tokens_list):\n",
        "    return [token2idx[word] for word in tokens_list]\n",
        "\n",
        "def tags2idxs(tags_list):\n",
        "    return [tag2idx[tag] for tag in tags_list]\n",
        "\n",
        "def idxs2words(idxs):\n",
        "    return [idx2token[idx] for idx in idxs]\n",
        "\n",
        "def idxs2tags(idxs):\n",
        "    return [idx2tag[idx] for idx in idxs]"
      ],
      "execution_count": 0,
      "outputs": []
    },
    {
      "cell_type": "markdown",
      "metadata": {
        "id": "WPGZaF_Hqn8L",
        "colab_type": "text"
      },
      "source": [
        "### Generate batches\n",
        "\n",
        "Neural Networks are usually trained with batches. It means that weight updates of the network are based on several sequences at every single time. The tricky part is that all sequences within a batch need to have the same length. So we will pad them with a special `<PAD>` token. It is also a good practice to provide RNN with sequence lengths, so it can skip computations for padding parts. We provide the batching function *batches_generator* readily available for you to save time. "
      ]
    },
    {
      "cell_type": "code",
      "metadata": {
        "id": "1_iVXC2Uqn8N",
        "colab_type": "code",
        "colab": {}
      },
      "source": [
        "def batches_generator(batch_size, tokens, tags,\n",
        "                      shuffle=True, allow_smaller_last_batch=True):\n",
        "    \"\"\"Generates padded batches of tokens and tags.\"\"\"\n",
        "    \n",
        "    n_samples = len(tokens)\n",
        "    if shuffle:\n",
        "        order = np.random.permutation(n_samples)\n",
        "    else:\n",
        "        order = np.arange(n_samples)\n",
        "\n",
        "    n_batches = n_samples // batch_size\n",
        "    if allow_smaller_last_batch and n_samples % batch_size:\n",
        "        n_batches += 1\n",
        "\n",
        "    for k in range(n_batches):\n",
        "        batch_start = k * batch_size\n",
        "        batch_end = min((k + 1) * batch_size, n_samples)\n",
        "        current_batch_size = batch_end - batch_start\n",
        "        x_list = []\n",
        "        y_list = []\n",
        "        max_len_token = 0\n",
        "        for idx in order[batch_start: batch_end]:\n",
        "            x_list.append(words2idxs(tokens[idx]))\n",
        "            y_list.append(tags2idxs(tags[idx]))\n",
        "            max_len_token = max(max_len_token, len(tags[idx]))\n",
        "            \n",
        "        # Fill in the data into numpy nd-arrays filled with padding indices.\n",
        "        x = np.ones([current_batch_size, max_len_token], dtype=np.int32) * token2idx['<PAD>']\n",
        "        y = np.ones([current_batch_size, max_len_token], dtype=np.int32) * tag2idx['O']\n",
        "        lengths = np.zeros(current_batch_size, dtype=np.int32)\n",
        "        for n in range(current_batch_size):\n",
        "            utt_len = len(x_list[n])\n",
        "            x[n, :utt_len] = x_list[n]\n",
        "            lengths[n] = utt_len\n",
        "            y[n, :utt_len] = y_list[n]\n",
        "        yield x, y, lengths"
      ],
      "execution_count": 0,
      "outputs": []
    },
    {
      "cell_type": "markdown",
      "metadata": {
        "id": "psTvIX4dqn8Q",
        "colab_type": "text"
      },
      "source": [
        "## Build a recurrent neural network\n",
        "\n",
        "This is the most important part of the assignment. Here we will specify the network architecture based on TensorFlow building blocks. It's fun and easy as a lego constructor! We will create an LSTM network which will produce probability distribution over tags for each token in a sentence. To take into account both right and left contexts of the token, we will use Bi-Directional LSTM (Bi-LSTM). Dense layer will be used on top to perform tag classification.  "
      ]
    },
    {
      "cell_type": "code",
      "metadata": {
        "id": "UL5P8JNfqn8R",
        "colab_type": "code",
        "outputId": "0b7700b3-b36b-4aa6-caf2-1f3531c8d3e7",
        "colab": {
          "base_uri": "https://localhost:8080/",
          "height": 63
        }
      },
      "source": [
        "import tensorflow as tf\n",
        "import numpy as np"
      ],
      "execution_count": 13,
      "outputs": [
        {
          "output_type": "display_data",
          "data": {
            "text/html": [
              "<p style=\"color: red;\">\n",
              "The default version of TensorFlow in Colab will soon switch to TensorFlow 2.x.<br>\n",
              "We recommend you <a href=\"https://www.tensorflow.org/guide/migrate\" target=\"_blank\">upgrade</a> now \n",
              "or ensure your notebook will continue to use TensorFlow 1.x via the <code>%tensorflow_version 1.x</code> magic:\n",
              "<a href=\"https://colab.research.google.com/notebooks/tensorflow_version.ipynb\" target=\"_blank\">more info</a>.</p>\n"
            ],
            "text/plain": [
              "<IPython.core.display.HTML object>"
            ]
          },
          "metadata": {
            "tags": []
          }
        }
      ]
    },
    {
      "cell_type": "code",
      "metadata": {
        "id": "4JP7fql4qn8V",
        "colab_type": "code",
        "colab": {}
      },
      "source": [
        "class BiLSTMModel():\n",
        "    pass"
      ],
      "execution_count": 0,
      "outputs": []
    },
    {
      "cell_type": "markdown",
      "metadata": {
        "collapsed": true,
        "id": "av_P-e1Mqn8Y",
        "colab_type": "text"
      },
      "source": [
        "First, we need to create [placeholders](https://www.tensorflow.org/versions/master/api_docs/python/tf/placeholder) to specify what data we are going to feed into the network during the execution time.  For this task we will need the following placeholders:\n",
        " - *input_batch* — sequences of words (the shape equals to [batch_size, sequence_len]);\n",
        " - *ground_truth_tags* — sequences of tags (the shape equals to [batch_size, sequence_len]);\n",
        " - *lengths* — lengths of not padded sequences (the shape equals to [batch_size]);\n",
        " - *dropout_ph* — dropout keep probability; this placeholder has a predefined value 1;\n",
        " - *learning_rate_ph* — learning rate; we need this placeholder because we want to change the value during training.\n",
        "\n",
        "It could be noticed that we use *None* in the shapes in the declaration, which means that data of any size can be feeded. \n",
        "\n",
        "You need to complete the function *declare_placeholders*."
      ]
    },
    {
      "cell_type": "code",
      "metadata": {
        "id": "lToIMqJsqn8Z",
        "colab_type": "code",
        "colab": {}
      },
      "source": [
        "def declare_placeholders(self):\n",
        "    \"\"\"Specifies placeholders for the model.\"\"\"\n",
        "\n",
        "    # Placeholders for input and ground truth output.\n",
        "    self.input_batch = tf.placeholder(dtype=tf.int32, shape=[None, None], name='input_batch') \n",
        "    self.ground_truth_tags = tf.placeholder(dtype=tf.int32,shape=[None,None],name='label_batch')\n",
        "  \n",
        "    # Placeholder for lengths of the sequences.\n",
        "    self.lengths = tf.placeholder(dtype=tf.int32, shape=[None], name='lengths') \n",
        "    \n",
        "    # Placeholder for a dropout keep probability. If we don't feed\n",
        "    # a value for this placeholder, it will be equal to 1.0.\n",
        "    self.dropout_ph = tf.placeholder_with_default(tf.cast(1.0, tf.float32), shape=[])\n",
        "    \n",
        "    # Placeholder for a learning rate (tf.float32).\n",
        "    self.learning_rate_ph =tf.placeholder(dtype=tf.float32,shape=[])"
      ],
      "execution_count": 0,
      "outputs": []
    },
    {
      "cell_type": "code",
      "metadata": {
        "id": "F3BcQXcUqn8b",
        "colab_type": "code",
        "colab": {}
      },
      "source": [
        "BiLSTMModel.__declare_placeholders = classmethod(declare_placeholders)"
      ],
      "execution_count": 0,
      "outputs": []
    },
    {
      "cell_type": "markdown",
      "metadata": {
        "collapsed": true,
        "id": "WxoicF25qn8e",
        "colab_type": "text"
      },
      "source": [
        "Now, let us specify the layers of the neural network. First, we need to perform some preparatory steps: \n",
        " \n",
        "- Create embeddings matrix with [tf.Variable](https://www.tensorflow.org/api_docs/python/tf/Variable). Specify its name (*embeddings_matrix*), type  (*tf.float32*), and initialize with random values.\n",
        "- Create forward and backward LSTM cells. TensorFlow provides a number of RNN cells ready for you. We suggest that you use *LSTMCell*, but you can also experiment with other types, e.g. GRU cells. [This](http://colah.github.io/posts/2015-08-Understanding-LSTMs/) blogpost could be interesting if you want to learn more about the differences.\n",
        "- Wrap your cells with [DropoutWrapper](https://www.tensorflow.org/api_docs/python/tf/contrib/rnn/DropoutWrapper). Dropout is an important regularization technique for neural networks. Specify all keep probabilities using the dropout placeholder that we created before.\n",
        " \n",
        "After that, you can build the computation graph that transforms an input_batch:\n",
        "\n",
        "- [Look up](https://www.tensorflow.org/api_docs/python/tf/nn/embedding_lookup) embeddings for an *input_batch* in the prepared *embedding_matrix*.\n",
        "- Pass the embeddings through [Bidirectional Dynamic RNN](https://www.tensorflow.org/api_docs/python/tf/nn/bidirectional_dynamic_rnn) with the specified forward and backward cells. Use the lengths placeholder here to avoid computations for padding tokens inside the RNN.\n",
        "- Create a dense layer on top. Its output will be used directly in loss function.  \n",
        " \n",
        "Fill in the code below. In case you need to debug something, the easiest way is to check that tensor shapes of each step match the expected ones. \n",
        " "
      ]
    },
    {
      "cell_type": "code",
      "metadata": {
        "id": "oHcsmLeIaXss",
        "colab_type": "code",
        "colab": {
          "base_uri": "https://localhost:8080/",
          "height": 34
        },
        "outputId": "9b924f2c-b302-4ed0-972d-ba614cbcb7da"
      },
      "source": [
        "token2idx['<UNK>']"
      ],
      "execution_count": 54,
      "outputs": [
        {
          "output_type": "execute_result",
          "data": {
            "text/plain": [
              "0"
            ]
          },
          "metadata": {
            "tags": []
          },
          "execution_count": 54
        }
      ]
    },
    {
      "cell_type": "code",
      "metadata": {
        "id": "esL_zVIDqn8f",
        "colab_type": "code",
        "colab": {}
      },
      "source": [
        "def build_layers(self, vocabulary_size, embedding_dim, n_hidden_rnn, n_tags):\n",
        "    \"\"\"Specifies bi-LSTM architecture and computes logits for inputs.\"\"\"\n",
        "    \n",
        "    # Create embedding variable (tf.Variable) with dtype tf.float32\n",
        "    initial_embedding_matrix = np.random.randn(vocabulary_size, embedding_dim) / np.sqrt(embedding_dim)\n",
        "    embedding_matrix_variable = tf.Variable(initial_embedding_matrix,dtype=tf.float32,name='embeddings_matrix')\n",
        "    \n",
        "    # Create RNN cells (for example, tf.nn.rnn_cell.BasicLSTMCell) with n_hidden_rnn number of units \n",
        "    # and dropout (tf.nn.rnn_cell.DropoutWrapper), initializing all *_keep_prob with dropout placeholder.\n",
        "    forward_cell =  tf.nn.rnn_cell.DropoutWrapper(tf.compat.v1.nn.rnn_cell.LSTMCell(num_units=n_hidden_rnn,use_peepholes=True,name='forward_lstm'),input_keep_prob=self.dropout_ph,output_keep_prob=self.dropout_ph)\n",
        "    backward_cell =  tf.nn.rnn_cell.DropoutWrapper(tf.compat.v1.nn.rnn_cell.LSTMCell(num_units=n_hidden_rnn,use_peepholes=True,name='back_lstm'),input_keep_prob=self.dropout_ph,output_keep_prob=self.dropout_ph)\n",
        "\n",
        "    # Look up embeddings for self.input_batch (tf.nn.embedding_lookup).\n",
        "    # Shape: [batch_size, sequence_len, embedding_dim].\n",
        "    embeddings =  tf.nn.embedding_lookup(embedding_matrix_variable,self.input_batch)\n",
        "    \n",
        "    # Pass them through Bidirectional Dynamic RNN (tf.nn.bidirectional_dynamic_rnn).\n",
        "    # Shape: [batch_size, sequence_len, 2 * n_hidden_rnn]. \n",
        "    # Also don't forget to initialize sequence_length as self.lengths and dtype as tf.float32.\n",
        "    (rnn_output_fw, rnn_output_bw), _ =  tf.nn.bidirectional_dynamic_rnn(forward_cell,backward_cell,inputs=embeddings,sequence_length=self.lengths,dtype=tf.float32)\n",
        "    rnn_output = tf.concat([rnn_output_fw, rnn_output_bw], axis=2)\n",
        "\n",
        "    # Dense layer on top.\n",
        "    # Shape: [batch_size, sequence_len, n_tags].   \n",
        "    self.logits = tf.layers.dense(rnn_output, n_tags, activation=None)"
      ],
      "execution_count": 0,
      "outputs": []
    },
    {
      "cell_type": "code",
      "metadata": {
        "id": "ZVH2oiDJqn8i",
        "colab_type": "code",
        "colab": {}
      },
      "source": [
        "BiLSTMModel.__build_layers = classmethod(build_layers)"
      ],
      "execution_count": 0,
      "outputs": []
    },
    {
      "cell_type": "markdown",
      "metadata": {
        "id": "H-jMN3okqn8m",
        "colab_type": "text"
      },
      "source": [
        "To compute the actual predictions of the neural network, you need to apply [softmax](https://www.tensorflow.org/api_docs/python/tf/nn/softmax) to the last layer and find the most probable tags with [argmax](https://www.tensorflow.org/api_docs/python/tf/argmax)."
      ]
    },
    {
      "cell_type": "code",
      "metadata": {
        "id": "Mjpu-7Qwqn8m",
        "colab_type": "code",
        "colab": {}
      },
      "source": [
        "def compute_predictions(self):\n",
        "    \"\"\"Transforms logits to probabilities and finds the most probable tags.\"\"\"\n",
        "    \n",
        "    # Create softmax (tf.nn.softmax) function\n",
        "    softmax_output = tf.nn.softmax(self.logits,name='softmax')\n",
        "    \n",
        "    # Use argmax (tf.argmax) to get the most probable tags\n",
        "    # Don't forget to set axis=-1\n",
        "    # otherwise argmax will be calculated in a wrong way\n",
        "    self.predictions = tf.math.argmax(softmax_output,axis=-1)"
      ],
      "execution_count": 0,
      "outputs": []
    },
    {
      "cell_type": "code",
      "metadata": {
        "id": "IW_e34afqn8r",
        "colab_type": "code",
        "colab": {}
      },
      "source": [
        "BiLSTMModel.__compute_predictions = classmethod(compute_predictions)"
      ],
      "execution_count": 0,
      "outputs": []
    },
    {
      "cell_type": "markdown",
      "metadata": {
        "collapsed": true,
        "id": "QObFuYESqn8v",
        "colab_type": "text"
      },
      "source": [
        "During training we do not need predictions of the network, but we need a loss function. We will use [cross-entropy loss](http://ml-cheatsheet.readthedocs.io/en/latest/loss_functions.html#cross-entropy), efficiently implemented in TF as \n",
        "[cross entropy with logits](https://www.tensorflow.org/api_docs/python/tf/nn/softmax_cross_entropy_with_logits_v2). Note that it should be applied to logits of the model (not to softmax probabilities!). Also note,  that we do not want to take into account loss terms coming from `<PAD>` tokens. So we need to mask them out, before computing [mean](https://www.tensorflow.org/api_docs/python/tf/reduce_mean)."
      ]
    },
    {
      "cell_type": "code",
      "metadata": {
        "id": "LMDPgxkhqn8v",
        "colab_type": "code",
        "colab": {}
      },
      "source": [
        "def compute_loss(self, n_tags, PAD_index):\n",
        "    \"\"\"Computes masked cross-entopy loss with logits.\"\"\"\n",
        "    \n",
        "    # Create cross entropy function function (tf.nn.softmax_cross_entropy_with_logits_v2)\n",
        "    ground_truth_tags_one_hot = tf.one_hot(self.ground_truth_tags, n_tags)\n",
        "    loss_tensor =  tf.nn.softmax_cross_entropy_with_logits_v2(ground_truth_tags_one_hot,self.logits)\n",
        "    \n",
        "    mask = tf.cast(tf.not_equal(self.input_batch, PAD_index), tf.float32)\n",
        "    # Create loss function which doesn't operate with <PAD> tokens (tf.reduce_mean)\n",
        "    # Be careful that the argument of tf.reduce_mean should be\n",
        "    # multiplication of mask and loss_tensor.\n",
        "    self.loss =  tf.reduce_mean(loss_tensor*mask)"
      ],
      "execution_count": 0,
      "outputs": []
    },
    {
      "cell_type": "code",
      "metadata": {
        "id": "DDge-gz1qn8y",
        "colab_type": "code",
        "colab": {}
      },
      "source": [
        "BiLSTMModel.__compute_loss = classmethod(compute_loss)"
      ],
      "execution_count": 0,
      "outputs": []
    },
    {
      "cell_type": "markdown",
      "metadata": {
        "id": "DZmVUbNBqn81",
        "colab_type": "text"
      },
      "source": [
        "The last thing to specify is how we want to optimize the loss. \n",
        "We suggest that you use [Adam](https://www.tensorflow.org/api_docs/python/tf/train/AdamOptimizer) optimizer with a learning rate from the corresponding placeholder. \n",
        "You will also need to apply clipping to eliminate exploding gradients. It can be easily done with [clip_by_norm](https://www.tensorflow.org/api_docs/python/tf/clip_by_norm) function. "
      ]
    },
    {
      "cell_type": "code",
      "metadata": {
        "id": "QI14I3G1qn82",
        "colab_type": "code",
        "colab": {}
      },
      "source": [
        "def perform_optimization(self):\n",
        "    \"\"\"Specifies the optimizer and train_op for the model.\"\"\"\n",
        "    \n",
        "    # Create an optimizer (tf.train.AdamOptimizer)\n",
        "    self.optimizer =  tf.train.AdamOptimizer(learning_rate=self.learning_rate_ph)\n",
        "    self.grads_and_vars = self.optimizer.compute_gradients(self.loss)\n",
        "    \n",
        "    # Gradient clipping (tf.clip_by_norm) for self.grads_and_vars\n",
        "    # Pay attention that you need to apply this operation only for gradients \n",
        "    # because self.grads_and_vars also contains variables.\n",
        "    # list comprehension might be useful in this case.\n",
        "    clip_norm = tf.cast(1.0, tf.float32)\n",
        "    self.grads_and_vars =[ (tf.clip_by_norm(gv[0], clip_norm),gv[1]) for gv in self.grads_and_vars]\n",
        "    \n",
        "    self.train_op = self.optimizer.apply_gradients(self.grads_and_vars)"
      ],
      "execution_count": 0,
      "outputs": []
    },
    {
      "cell_type": "code",
      "metadata": {
        "id": "-E2N7jXGqn86",
        "colab_type": "code",
        "colab": {}
      },
      "source": [
        "BiLSTMModel.__perform_optimization = classmethod(perform_optimization)"
      ],
      "execution_count": 0,
      "outputs": []
    },
    {
      "cell_type": "markdown",
      "metadata": {
        "collapsed": true,
        "id": "ATMxaU82qn89",
        "colab_type": "text"
      },
      "source": [
        "Congratulations! You have specified all the parts of your network. You may have noticed, that we didn't deal with any real data yet, so what you have written is just recipes on how the network should function.\n",
        "Now we will put them to the constructor of our Bi-LSTM class to use it in the next section. "
      ]
    },
    {
      "cell_type": "code",
      "metadata": {
        "id": "NZjDCFqSqn89",
        "colab_type": "code",
        "colab": {}
      },
      "source": [
        "def init_model(self, vocabulary_size, n_tags, embedding_dim, n_hidden_rnn, PAD_index):\n",
        "    self.__declare_placeholders()\n",
        "    self.__build_layers(vocabulary_size, embedding_dim, n_hidden_rnn, n_tags)\n",
        "    self.__compute_predictions()\n",
        "    self.__compute_loss(n_tags, PAD_index)\n",
        "    self.__perform_optimization()"
      ],
      "execution_count": 0,
      "outputs": []
    },
    {
      "cell_type": "code",
      "metadata": {
        "id": "F_853auKqn9A",
        "colab_type": "code",
        "colab": {}
      },
      "source": [
        "BiLSTMModel.__init__ = classmethod(init_model)"
      ],
      "execution_count": 0,
      "outputs": []
    },
    {
      "cell_type": "markdown",
      "metadata": {
        "id": "LS6V0FjTqn9E",
        "colab_type": "text"
      },
      "source": [
        "## Train the network and predict tags"
      ]
    },
    {
      "cell_type": "markdown",
      "metadata": {
        "collapsed": true,
        "id": "e5YYSTwXqn9E",
        "colab_type": "text"
      },
      "source": [
        "[Session.run](https://www.tensorflow.org/api_docs/python/tf/Session#run) is a point which initiates computations in the graph that we have defined. To train the network, we need to compute *self.train_op*, which was declared in *perform_optimization*. To predict tags, we just need to compute *self.predictions*. Anyway, we need to feed actual data through the placeholders that we defined before. "
      ]
    },
    {
      "cell_type": "code",
      "metadata": {
        "id": "j1j_y_jDqn9F",
        "colab_type": "code",
        "colab": {}
      },
      "source": [
        "def train_on_batch(self, session, x_batch, y_batch, lengths, learning_rate, dropout_keep_probability):\n",
        "    feed_dict = {self.input_batch: x_batch,\n",
        "                 self.ground_truth_tags: y_batch,\n",
        "                 self.learning_rate_ph: learning_rate,\n",
        "                 self.dropout_ph: dropout_keep_probability,\n",
        "                 self.lengths: lengths}\n",
        "    \n",
        "    session.run(self.train_op, feed_dict=feed_dict)"
      ],
      "execution_count": 0,
      "outputs": []
    },
    {
      "cell_type": "code",
      "metadata": {
        "id": "AYcBKtAxqn9J",
        "colab_type": "code",
        "colab": {}
      },
      "source": [
        "BiLSTMModel.train_on_batch = classmethod(train_on_batch)"
      ],
      "execution_count": 0,
      "outputs": []
    },
    {
      "cell_type": "markdown",
      "metadata": {
        "id": "gfwF8Dhlqn9N",
        "colab_type": "text"
      },
      "source": [
        "Implement the function *predict_for_batch* by initializing *feed_dict* with input *x_batch* and *lengths* and running the *session* for *self.predictions*."
      ]
    },
    {
      "cell_type": "code",
      "metadata": {
        "id": "NXFxDm4-qn9N",
        "colab_type": "code",
        "colab": {}
      },
      "source": [
        "def predict_for_batch(self, session, x_batch, lengths):\n",
        "    feed_dict = {self.input_batch: x_batch,\n",
        "                 self.lengths: lengths}\n",
        "    predictions=session.run(self.predictions,feed_dict=feed_dict)\n",
        "    return predictions"
      ],
      "execution_count": 0,
      "outputs": []
    },
    {
      "cell_type": "code",
      "metadata": {
        "id": "_2mqP8F2qn9Q",
        "colab_type": "code",
        "colab": {}
      },
      "source": [
        "BiLSTMModel.predict_for_batch = classmethod(predict_for_batch)"
      ],
      "execution_count": 0,
      "outputs": []
    },
    {
      "cell_type": "markdown",
      "metadata": {
        "id": "8oR6MkRgqn9T",
        "colab_type": "text"
      },
      "source": [
        "We finished with necessary methods of our BiLSTMModel model and almost ready to start experimenting.\n",
        "\n",
        "### Evaluation \n",
        "To simplify the evaluation process we provide two functions for you:\n",
        " - *predict_tags*: uses a model to get predictions and transforms indices to tokens and tags;\n",
        " - *eval_conll*: calculates precision, recall and F1 for the results."
      ]
    },
    {
      "cell_type": "code",
      "metadata": {
        "id": "LpBPyiWsqn9U",
        "colab_type": "code",
        "colab": {}
      },
      "source": [
        "from evaluation import precision_recall_f1"
      ],
      "execution_count": 0,
      "outputs": []
    },
    {
      "cell_type": "code",
      "metadata": {
        "id": "zwjWMQ_xqn9W",
        "colab_type": "code",
        "colab": {}
      },
      "source": [
        "def predict_tags(model, session, token_idxs_batch, lengths):\n",
        "    \"\"\"Performs predictions and transforms indices to tokens and tags.\"\"\"\n",
        "    \n",
        "    tag_idxs_batch = model.predict_for_batch(session, token_idxs_batch, lengths)\n",
        "    \n",
        "    tags_batch, tokens_batch = [], []\n",
        "    for tag_idxs, token_idxs in zip(tag_idxs_batch, token_idxs_batch):\n",
        "        tags, tokens = [], []\n",
        "        for tag_idx, token_idx in zip(tag_idxs, token_idxs):\n",
        "            #print(tag_idx)\n",
        "            tags.append(idx2tag[tag_idx])\n",
        "            tokens.append(idx2token[token_idx])\n",
        "        tags_batch.append(tags)\n",
        "        tokens_batch.append(tokens)\n",
        "    return tags_batch, tokens_batch\n",
        "    \n",
        "    \n",
        "def eval_conll(model, session, tokens, tags, short_report=True):\n",
        "    \"\"\"Computes NER quality measures using CONLL shared task script.\"\"\"\n",
        "    \n",
        "    y_true, y_pred = [], []\n",
        "    for x_batch, y_batch, lengths in batches_generator(1, tokens, tags):\n",
        "        tags_batch, tokens_batch = predict_tags(model, session, x_batch, lengths)\n",
        "        if len(x_batch[0]) != len(tags_batch[0]):\n",
        "            raise Exception(\"Incorrect length of prediction for the input, \"\n",
        "                            \"expected length: %i, got: %i\" % (len(x_batch[0]), len(tags_batch[0])))\n",
        "        predicted_tags = []\n",
        "        ground_truth_tags = []\n",
        "        for gt_tag_idx, pred_tag, token in zip(y_batch[0], tags_batch[0], tokens_batch[0]): \n",
        "            if token != '<PAD>':\n",
        "                ground_truth_tags.append(idx2tag[gt_tag_idx])\n",
        "                predicted_tags.append(pred_tag)\n",
        "\n",
        "        # We extend every prediction and ground truth sequence with 'O' tag\n",
        "        # to indicate a possible end of entity.\n",
        "        y_true.extend(ground_truth_tags + ['O'])\n",
        "        y_pred.extend(predicted_tags + ['O'])\n",
        "    # print(ground_truth_tags)\n",
        "    # print(tags_batch)\n",
        "    # print(y_pred)\n",
        "    # print(y_true)\n",
        "    results = precision_recall_f1(y_true, y_pred, print_results=True, short_report=short_report)\n",
        "    return results"
      ],
      "execution_count": 0,
      "outputs": []
    },
    {
      "cell_type": "markdown",
      "metadata": {
        "id": "j9SbwSTWqn9Y",
        "colab_type": "text"
      },
      "source": [
        "## Run your experiment"
      ]
    },
    {
      "cell_type": "markdown",
      "metadata": {
        "id": "H5l5P6Roqn9Z",
        "colab_type": "text"
      },
      "source": [
        "Create *BiLSTMModel* model with the following parameters:\n",
        " - *vocabulary_size* — number of tokens;\n",
        " - *n_tags* — number of tags;\n",
        " - *embedding_dim* — dimension of embeddings, recommended value: 200;\n",
        " - *n_hidden_rnn* — size of hidden layers for RNN, recommended value: 200;\n",
        " - *PAD_index* — an index of the padding token (`<PAD>`).\n",
        "\n",
        "Set hyperparameters. You might want to start with the following recommended values:\n",
        "- *batch_size*: 32;\n",
        "- 4 epochs;\n",
        "- starting value of *learning_rate*: 0.005\n",
        "- *learning_rate_decay*: a square root of 2;\n",
        "- *dropout_keep_probability*: try several values: 0.1, 0.5, 0.9.\n",
        "\n",
        "However, feel free to conduct more experiments to tune hyperparameters and earn extra points for the assignment."
      ]
    },
    {
      "cell_type": "code",
      "metadata": {
        "id": "KsfXuklkXB-U",
        "colab_type": "code",
        "colab": {
          "base_uri": "https://localhost:8080/",
          "height": 34
        },
        "outputId": "4c438de7-2d35-4083-9e46-11938225919e"
      },
      "source": [
        "len(token2idx)"
      ],
      "execution_count": 98,
      "outputs": [
        {
          "output_type": "execute_result",
          "data": {
            "text/plain": [
              "20489"
            ]
          },
          "metadata": {
            "tags": []
          },
          "execution_count": 98
        }
      ]
    },
    {
      "cell_type": "code",
      "metadata": {
        "id": "GccMMjZclmpY",
        "colab_type": "code",
        "colab": {
          "base_uri": "https://localhost:8080/",
          "height": 34
        },
        "outputId": "afa5dbe6-3864-4934-b41c-9f791b31baa4"
      },
      "source": [
        "len(tag2idx)"
      ],
      "execution_count": 99,
      "outputs": [
        {
          "output_type": "execute_result",
          "data": {
            "text/plain": [
              "21"
            ]
          },
          "metadata": {
            "tags": []
          },
          "execution_count": 99
        }
      ]
    },
    {
      "cell_type": "code",
      "metadata": {
        "id": "vzmVEYGUqn9a",
        "colab_type": "code",
        "colab": {}
      },
      "source": [
        "tf.reset_default_graph()\n",
        "\n",
        "model = BiLSTMModel(vocabulary_size=len(token2idx),n_tags=len(tag2idx),embedding_dim=200,n_hidden_rnn=200,PAD_index=token2idx['<PAD>'])\n",
        "\n",
        "batch_size = 32\n",
        "n_epochs = 4\n",
        "learning_rate = 0.005\n",
        "learning_rate_decay = np.sqrt(2)\n",
        "dropout_keep_probability = 0.9"
      ],
      "execution_count": 0,
      "outputs": []
    },
    {
      "cell_type": "markdown",
      "metadata": {
        "id": "1gINmE9pqn9c",
        "colab_type": "text"
      },
      "source": [
        "If you got an error *\"Tensor conversion requested dtype float64 for Tensor with dtype float32\"* in this point, check if there are variables without dtype initialised. Set the value of dtype equals to *tf.float32* for such variables."
      ]
    },
    {
      "cell_type": "markdown",
      "metadata": {
        "id": "PmkuI0AXqn9d",
        "colab_type": "text"
      },
      "source": [
        "Finally, we are ready to run the training!"
      ]
    },
    {
      "cell_type": "code",
      "metadata": {
        "id": "kUv8s5xnk6dY",
        "colab_type": "code",
        "colab": {
          "base_uri": "https://localhost:8080/",
          "height": 34
        },
        "outputId": "7d1e3a13-f946-42be-f9ac-df50389a89f6"
      },
      "source": [
        "len(idx2tag)"
      ],
      "execution_count": 101,
      "outputs": [
        {
          "output_type": "execute_result",
          "data": {
            "text/plain": [
              "21"
            ]
          },
          "metadata": {
            "tags": []
          },
          "execution_count": 101
        }
      ]
    },
    {
      "cell_type": "code",
      "metadata": {
        "id": "ylnW9IQYqn9e",
        "colab_type": "code",
        "colab": {
          "base_uri": "https://localhost:8080/",
          "height": 816
        },
        "outputId": "05d23d28-139c-4208-aea9-a70863659581"
      },
      "source": [
        "sess = tf.Session()\n",
        "sess.run(tf.global_variables_initializer())\n",
        "\n",
        "print('Start training... \\n')\n",
        "for epoch in range(n_epochs):\n",
        "    # For each epoch evaluate the model on train and validation data\n",
        "    print('-' * 20 + ' Epoch {} '.format(epoch+1) + 'of {} '.format(n_epochs) + '-' * 20)\n",
        "    print('Train data evaluation:')\n",
        "    eval_conll(model, sess, train_tokens, train_tags, short_report=True)\n",
        "    print('Validation data evaluation:')\n",
        "    eval_conll(model, sess, validation_tokens, validation_tags, short_report=True)\n",
        "    \n",
        "    # Train the model\n",
        "    for x_batch, y_batch, lengths in batches_generator(batch_size, train_tokens, train_tags):\n",
        "        model.train_on_batch(sess, x_batch, y_batch, lengths, learning_rate, dropout_keep_probability)\n",
        "        \n",
        "    # Decaying the learning rate\n",
        "    learning_rate = learning_rate / learning_rate_decay\n",
        "    \n",
        "print('...training finished.')"
      ],
      "execution_count": 102,
      "outputs": [
        {
          "output_type": "stream",
          "text": [
            "Start training... \n",
            "\n",
            "-------------------- Epoch 1 of 4 --------------------\n",
            "Train data evaluation:\n",
            "processed 105778 tokens with 4489 phrases; found: 71666 phrases; correct: 151.\n",
            "\n",
            "precision:  0.21%; recall:  3.36%; F1:  0.40\n",
            "\n",
            "Validation data evaluation:\n",
            "processed 12836 tokens with 537 phrases; found: 8690 phrases; correct: 20.\n",
            "\n",
            "precision:  0.23%; recall:  3.72%; F1:  0.43\n",
            "\n",
            "-------------------- Epoch 2 of 4 --------------------\n",
            "Train data evaluation:\n",
            "processed 105778 tokens with 4489 phrases; found: 2799 phrases; correct: 1052.\n",
            "\n",
            "precision:  37.58%; recall:  23.44%; F1:  28.87\n",
            "\n",
            "Validation data evaluation:\n",
            "processed 12836 tokens with 537 phrases; found: 220 phrases; correct: 87.\n",
            "\n",
            "precision:  39.55%; recall:  16.20%; F1:  22.99\n",
            "\n",
            "-------------------- Epoch 3 of 4 --------------------\n",
            "Train data evaluation:\n",
            "processed 105778 tokens with 4489 phrases; found: 4823 phrases; correct: 2846.\n",
            "\n",
            "precision:  59.01%; recall:  63.40%; F1:  61.13\n",
            "\n",
            "Validation data evaluation:\n",
            "processed 12836 tokens with 537 phrases; found: 384 phrases; correct: 181.\n",
            "\n",
            "precision:  47.14%; recall:  33.71%; F1:  39.31\n",
            "\n",
            "-------------------- Epoch 4 of 4 --------------------\n",
            "Train data evaluation:\n",
            "processed 105778 tokens with 4489 phrases; found: 4786 phrases; correct: 3754.\n",
            "\n",
            "precision:  78.44%; recall:  83.63%; F1:  80.95\n",
            "\n",
            "Validation data evaluation:\n",
            "processed 12836 tokens with 537 phrases; found: 404 phrases; correct: 193.\n",
            "\n",
            "precision:  47.77%; recall:  35.94%; F1:  41.02\n",
            "\n",
            "...training finished.\n"
          ],
          "name": "stdout"
        }
      ]
    },
    {
      "cell_type": "markdown",
      "metadata": {
        "id": "IlceVqJGqn9h",
        "colab_type": "text"
      },
      "source": [
        "Now let us see full quality reports for the final model on train, validation, and test sets. To give you a hint whether you have implemented everything correctly, you might expect F-score about 40% on the validation set.\n",
        "\n",
        "**The output of the cell below (as well as the output of all the other cells) should be present in the notebook for peer2peer review!**"
      ]
    },
    {
      "cell_type": "code",
      "metadata": {
        "id": "1yUesfTjqn9h",
        "colab_type": "code",
        "colab": {
          "base_uri": "https://localhost:8080/",
          "height": 1000
        },
        "outputId": "498eedd1-1468-4b39-eafe-bca5f2e80419"
      },
      "source": [
        "print('-' * 20 + ' Train set quality: ' + '-' * 20)\n",
        "train_results = eval_conll(model, sess, train_tokens, train_tags, short_report=False)\n",
        "\n",
        "print('-' * 20 + ' Validation set quality: ' + '-' * 20)\n",
        "validation_results = eval_conll(model, sess, validation_tokens, validation_tags, short_report=False)\n",
        "\n",
        "print('-' * 20 + ' Test set quality: ' + '-' * 20)\n",
        "test_results = eval_conll(model, sess, test_tokens, test_tags, short_report=False)"
      ],
      "execution_count": 104,
      "outputs": [
        {
          "output_type": "stream",
          "text": [
            "-------------------- Train set quality: --------------------\n",
            "processed 105778 tokens with 4489 phrases; found: 4549 phrases; correct: 4130.\n",
            "\n",
            "precision:  90.79%; recall:  92.00%; F1:  91.39\n",
            "\n",
            "\t     company: precision:   93.71%; recall:   95.02%; F1:   94.36; predicted:   652\n",
            "\n",
            "\t    facility: precision:   86.71%; recall:   87.26%; F1:   86.98; predicted:   316\n",
            "\n",
            "\t     geo-loc: precision:   95.00%; recall:   97.29%; F1:   96.13; predicted:  1020\n",
            "\n",
            "\t       movie: precision:   51.52%; recall:   50.00%; F1:   50.75; predicted:    66\n",
            "\n",
            "\t musicartist: precision:   78.10%; recall:   81.47%; F1:   79.75; predicted:   242\n",
            "\n",
            "\t       other: precision:   90.93%; recall:   94.06%; F1:   92.47; predicted:   783\n",
            "\n",
            "\t      person: precision:   95.49%; recall:   95.49%; F1:   95.49; predicted:   886\n",
            "\n",
            "\t     product: precision:   88.82%; recall:   92.45%; F1:   90.60; predicted:   331\n",
            "\n",
            "\t  sportsteam: precision:   83.25%; recall:   80.18%; F1:   81.69; predicted:   209\n",
            "\n",
            "\t      tvshow: precision:   61.36%; recall:   46.55%; F1:   52.94; predicted:    44\n",
            "\n",
            "-------------------- Validation set quality: --------------------\n",
            "processed 12836 tokens with 537 phrases; found: 369 phrases; correct: 187.\n",
            "\n",
            "precision:  50.68%; recall:  34.82%; F1:  41.28\n",
            "\n",
            "\t     company: precision:   67.44%; recall:   55.77%; F1:   61.05; predicted:    86\n",
            "\n",
            "\t    facility: precision:   47.62%; recall:   29.41%; F1:   36.36; predicted:    21\n",
            "\n",
            "\t     geo-loc: precision:   69.14%; recall:   49.56%; F1:   57.73; predicted:    81\n",
            "\n",
            "\t       movie: precision:    0.00%; recall:    0.00%; F1:    0.00; predicted:     1\n",
            "\n",
            "\t musicartist: precision:   25.00%; recall:   14.29%; F1:   18.18; predicted:    16\n",
            "\n",
            "\t       other: precision:   32.89%; recall:   30.86%; F1:   31.85; predicted:    76\n",
            "\n",
            "\t      person: precision:   47.37%; recall:   24.11%; F1:   31.95; predicted:    57\n",
            "\n",
            "\t     product: precision:   17.65%; recall:    8.82%; F1:   11.76; predicted:    17\n",
            "\n",
            "\t  sportsteam: precision:   28.57%; recall:   20.00%; F1:   23.53; predicted:    14\n",
            "\n",
            "\t      tvshow: precision:    0.00%; recall:    0.00%; F1:    0.00; predicted:     0\n",
            "\n",
            "-------------------- Test set quality: --------------------\n",
            "processed 13258 tokens with 604 phrases; found: 470 phrases; correct: 224.\n",
            "\n",
            "precision:  47.66%; recall:  37.09%; F1:  41.71\n",
            "\n",
            "\t     company: precision:   50.75%; recall:   40.48%; F1:   45.03; predicted:    67\n",
            "\n",
            "\t    facility: precision:   55.17%; recall:   34.04%; F1:   42.11; predicted:    29\n",
            "\n",
            "\t     geo-loc: precision:   74.56%; recall:   51.52%; F1:   60.93; predicted:   114\n",
            "\n",
            "\t       movie: precision:    0.00%; recall:    0.00%; F1:    0.00; predicted:     6\n",
            "\n",
            "\t musicartist: precision:    5.00%; recall:    3.70%; F1:    4.26; predicted:    20\n",
            "\n",
            "\t       other: precision:   32.74%; recall:   35.92%; F1:   34.26; predicted:   113\n",
            "\n",
            "\t      person: precision:   63.08%; recall:   39.42%; F1:   48.52; predicted:    65\n",
            "\n",
            "\t     product: precision:   11.11%; recall:   14.29%; F1:   12.50; predicted:    36\n",
            "\n",
            "\t  sportsteam: precision:   31.58%; recall:   19.35%; F1:   24.00; predicted:    19\n",
            "\n",
            "\t      tvshow: precision:    0.00%; recall:    0.00%; F1:    0.00; predicted:     1\n",
            "\n"
          ],
          "name": "stdout"
        }
      ]
    },
    {
      "cell_type": "markdown",
      "metadata": {
        "id": "aIZObA8rqn9k",
        "colab_type": "text"
      },
      "source": [
        "### Conclusions\n",
        "\n",
        "Could we say that our model is state of the art and the results are acceptable for the task? Definately, we can say so. Nowadays, Bi-LSTM is one of the state of the art approaches for solving NER problem and it outperforms other classical methods. Despite the fact that we used small training corpora (in comparison with usual sizes of corpora in Deep Learning), our results are quite good. In addition, in this task there are many possible named entities and for some of them we have only several dozens of trainig examples, which is definately small. However, the implemented model outperforms classical CRFs for this task. Even better results could be obtained by some combinations of several types of methods, e.g. see [this](https://arxiv.org/abs/1603.01354) paper if you are interested."
      ]
    },
    {
      "cell_type": "code",
      "metadata": {
        "id": "DHoCSfCoqwlJ",
        "colab_type": "code",
        "colab": {}
      },
      "source": [
        ""
      ],
      "execution_count": 0,
      "outputs": []
    }
  ]
}