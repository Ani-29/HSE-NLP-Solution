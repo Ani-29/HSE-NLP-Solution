{
  "nbformat": 4,
  "nbformat_minor": 0,
  "metadata": {
    "kernelspec": {
      "name": "python3",
      "display_name": "Python 3"
    },
    "language_info": {
      "codemirror_mode": {
        "name": "ipython",
        "version": 3
      },
      "file_extension": ".py",
      "mimetype": "text/x-python",
      "name": "python",
      "nbconvert_exporter": "python",
      "pygments_lexer": "ipython3",
      "version": "3.4.3"
    },
    "colab": {
      "name": "week3-Embeddings.ipynb",
      "provenance": []
    },
    "accelerator": "GPU",
    "widgets": {
      "application/vnd.jupyter.widget-state+json": {
        "3eb19859eae34d14922b73e7dede80ce": {
          "model_module": "@jupyter-widgets/controls",
          "model_name": "HBoxModel",
          "state": {
            "_view_name": "HBoxView",
            "_dom_classes": [],
            "_model_name": "HBoxModel",
            "_view_module": "@jupyter-widgets/controls",
            "_model_module_version": "1.5.0",
            "_view_count": null,
            "_view_module_version": "1.5.0",
            "box_style": "",
            "layout": "IPY_MODEL_e0fc99cc378c499a86ad4ae516f249a2",
            "_model_module": "@jupyter-widgets/controls",
            "children": [
              "IPY_MODEL_318ae3ff4593431da92c94af1e4e4223",
              "IPY_MODEL_8aa9130892e8434fb7b6df112685e749"
            ]
          }
        },
        "e0fc99cc378c499a86ad4ae516f249a2": {
          "model_module": "@jupyter-widgets/base",
          "model_name": "LayoutModel",
          "state": {
            "_view_name": "LayoutView",
            "grid_template_rows": null,
            "right": null,
            "justify_content": null,
            "_view_module": "@jupyter-widgets/base",
            "overflow": null,
            "_model_module_version": "1.2.0",
            "_view_count": null,
            "flex_flow": null,
            "width": null,
            "min_width": null,
            "border": null,
            "align_items": null,
            "bottom": null,
            "_model_module": "@jupyter-widgets/base",
            "top": null,
            "grid_column": null,
            "overflow_y": null,
            "overflow_x": null,
            "grid_auto_flow": null,
            "grid_area": null,
            "grid_template_columns": null,
            "flex": null,
            "_model_name": "LayoutModel",
            "justify_items": null,
            "grid_row": null,
            "max_height": null,
            "align_content": null,
            "visibility": null,
            "align_self": null,
            "height": null,
            "min_height": null,
            "padding": null,
            "grid_auto_rows": null,
            "grid_gap": null,
            "max_width": null,
            "order": null,
            "_view_module_version": "1.2.0",
            "grid_template_areas": null,
            "object_position": null,
            "object_fit": null,
            "grid_auto_columns": null,
            "margin": null,
            "display": null,
            "left": null
          }
        },
        "318ae3ff4593431da92c94af1e4e4223": {
          "model_module": "@jupyter-widgets/controls",
          "model_name": "FloatProgressModel",
          "state": {
            "_view_name": "ProgressView",
            "style": "IPY_MODEL_591475e3cdd2466f81ffadab2b3bc915",
            "_dom_classes": [],
            "description": "test.tsv: 100%",
            "_model_name": "FloatProgressModel",
            "bar_style": "success",
            "max": 46408910,
            "_view_module": "@jupyter-widgets/controls",
            "_model_module_version": "1.5.0",
            "value": 46408910,
            "_view_count": null,
            "_view_module_version": "1.5.0",
            "orientation": "horizontal",
            "min": 0,
            "description_tooltip": null,
            "_model_module": "@jupyter-widgets/controls",
            "layout": "IPY_MODEL_295ae7a3ffa04108a22b7913b7608347"
          }
        },
        "8aa9130892e8434fb7b6df112685e749": {
          "model_module": "@jupyter-widgets/controls",
          "model_name": "HTMLModel",
          "state": {
            "_view_name": "HTMLView",
            "style": "IPY_MODEL_8a49305d7aa8458685a2a534e90bffa6",
            "_dom_classes": [],
            "description": "",
            "_model_name": "HTMLModel",
            "placeholder": "​",
            "_view_module": "@jupyter-widgets/controls",
            "_model_module_version": "1.5.0",
            "value": " 46.4M/46.4M [02:32&lt;00:00, 305kB/s]",
            "_view_count": null,
            "_view_module_version": "1.5.0",
            "description_tooltip": null,
            "_model_module": "@jupyter-widgets/controls",
            "layout": "IPY_MODEL_72b6a47fc76f4e2f98eaee101b9f511d"
          }
        },
        "591475e3cdd2466f81ffadab2b3bc915": {
          "model_module": "@jupyter-widgets/controls",
          "model_name": "ProgressStyleModel",
          "state": {
            "_view_name": "StyleView",
            "_model_name": "ProgressStyleModel",
            "description_width": "initial",
            "_view_module": "@jupyter-widgets/base",
            "_model_module_version": "1.5.0",
            "_view_count": null,
            "_view_module_version": "1.2.0",
            "bar_color": null,
            "_model_module": "@jupyter-widgets/controls"
          }
        },
        "295ae7a3ffa04108a22b7913b7608347": {
          "model_module": "@jupyter-widgets/base",
          "model_name": "LayoutModel",
          "state": {
            "_view_name": "LayoutView",
            "grid_template_rows": null,
            "right": null,
            "justify_content": null,
            "_view_module": "@jupyter-widgets/base",
            "overflow": null,
            "_model_module_version": "1.2.0",
            "_view_count": null,
            "flex_flow": null,
            "width": null,
            "min_width": null,
            "border": null,
            "align_items": null,
            "bottom": null,
            "_model_module": "@jupyter-widgets/base",
            "top": null,
            "grid_column": null,
            "overflow_y": null,
            "overflow_x": null,
            "grid_auto_flow": null,
            "grid_area": null,
            "grid_template_columns": null,
            "flex": null,
            "_model_name": "LayoutModel",
            "justify_items": null,
            "grid_row": null,
            "max_height": null,
            "align_content": null,
            "visibility": null,
            "align_self": null,
            "height": null,
            "min_height": null,
            "padding": null,
            "grid_auto_rows": null,
            "grid_gap": null,
            "max_width": null,
            "order": null,
            "_view_module_version": "1.2.0",
            "grid_template_areas": null,
            "object_position": null,
            "object_fit": null,
            "grid_auto_columns": null,
            "margin": null,
            "display": null,
            "left": null
          }
        },
        "8a49305d7aa8458685a2a534e90bffa6": {
          "model_module": "@jupyter-widgets/controls",
          "model_name": "DescriptionStyleModel",
          "state": {
            "_view_name": "StyleView",
            "_model_name": "DescriptionStyleModel",
            "description_width": "",
            "_view_module": "@jupyter-widgets/base",
            "_model_module_version": "1.5.0",
            "_view_count": null,
            "_view_module_version": "1.2.0",
            "_model_module": "@jupyter-widgets/controls"
          }
        },
        "72b6a47fc76f4e2f98eaee101b9f511d": {
          "model_module": "@jupyter-widgets/base",
          "model_name": "LayoutModel",
          "state": {
            "_view_name": "LayoutView",
            "grid_template_rows": null,
            "right": null,
            "justify_content": null,
            "_view_module": "@jupyter-widgets/base",
            "overflow": null,
            "_model_module_version": "1.2.0",
            "_view_count": null,
            "flex_flow": null,
            "width": null,
            "min_width": null,
            "border": null,
            "align_items": null,
            "bottom": null,
            "_model_module": "@jupyter-widgets/base",
            "top": null,
            "grid_column": null,
            "overflow_y": null,
            "overflow_x": null,
            "grid_auto_flow": null,
            "grid_area": null,
            "grid_template_columns": null,
            "flex": null,
            "_model_name": "LayoutModel",
            "justify_items": null,
            "grid_row": null,
            "max_height": null,
            "align_content": null,
            "visibility": null,
            "align_self": null,
            "height": null,
            "min_height": null,
            "padding": null,
            "grid_auto_rows": null,
            "grid_gap": null,
            "max_width": null,
            "order": null,
            "_view_module_version": "1.2.0",
            "grid_template_areas": null,
            "object_position": null,
            "object_fit": null,
            "grid_auto_columns": null,
            "margin": null,
            "display": null,
            "left": null
          }
        },
        "b3d9a043ff4842a98788a023c4b223d2": {
          "model_module": "@jupyter-widgets/controls",
          "model_name": "HBoxModel",
          "state": {
            "_view_name": "HBoxView",
            "_dom_classes": [],
            "_model_name": "HBoxModel",
            "_view_module": "@jupyter-widgets/controls",
            "_model_module_version": "1.5.0",
            "_view_count": null,
            "_view_module_version": "1.5.0",
            "box_style": "",
            "layout": "IPY_MODEL_8c82f4275cff4f0aa450a294621265a8",
            "_model_module": "@jupyter-widgets/controls",
            "children": [
              "IPY_MODEL_ae9c6e71c88f47199a2f8e42cf5514e3",
              "IPY_MODEL_fcf7b0ae823a4f2fb8b05ce566fc5198"
            ]
          }
        },
        "8c82f4275cff4f0aa450a294621265a8": {
          "model_module": "@jupyter-widgets/base",
          "model_name": "LayoutModel",
          "state": {
            "_view_name": "LayoutView",
            "grid_template_rows": null,
            "right": null,
            "justify_content": null,
            "_view_module": "@jupyter-widgets/base",
            "overflow": null,
            "_model_module_version": "1.2.0",
            "_view_count": null,
            "flex_flow": null,
            "width": null,
            "min_width": null,
            "border": null,
            "align_items": null,
            "bottom": null,
            "_model_module": "@jupyter-widgets/base",
            "top": null,
            "grid_column": null,
            "overflow_y": null,
            "overflow_x": null,
            "grid_auto_flow": null,
            "grid_area": null,
            "grid_template_columns": null,
            "flex": null,
            "_model_name": "LayoutModel",
            "justify_items": null,
            "grid_row": null,
            "max_height": null,
            "align_content": null,
            "visibility": null,
            "align_self": null,
            "height": null,
            "min_height": null,
            "padding": null,
            "grid_auto_rows": null,
            "grid_gap": null,
            "max_width": null,
            "order": null,
            "_view_module_version": "1.2.0",
            "grid_template_areas": null,
            "object_position": null,
            "object_fit": null,
            "grid_auto_columns": null,
            "margin": null,
            "display": null,
            "left": null
          }
        },
        "ae9c6e71c88f47199a2f8e42cf5514e3": {
          "model_module": "@jupyter-widgets/controls",
          "model_name": "FloatProgressModel",
          "state": {
            "_view_name": "ProgressView",
            "style": "IPY_MODEL_03d8d5d563184f93ada025fb4255e4da",
            "_dom_classes": [],
            "description": "test_embeddings.tsv: 100%",
            "_model_name": "FloatProgressModel",
            "bar_style": "success",
            "max": 5333,
            "_view_module": "@jupyter-widgets/controls",
            "_model_module_version": "1.5.0",
            "value": 5333,
            "_view_count": null,
            "_view_module_version": "1.5.0",
            "orientation": "horizontal",
            "min": 0,
            "description_tooltip": null,
            "_model_module": "@jupyter-widgets/controls",
            "layout": "IPY_MODEL_0f69cd7e52484067a78f4d5c9d2e37db"
          }
        },
        "fcf7b0ae823a4f2fb8b05ce566fc5198": {
          "model_module": "@jupyter-widgets/controls",
          "model_name": "HTMLModel",
          "state": {
            "_view_name": "HTMLView",
            "style": "IPY_MODEL_fce155ace7fd408e96bd1e37e66ec3ac",
            "_dom_classes": [],
            "description": "",
            "_model_name": "HTMLModel",
            "placeholder": "​",
            "_view_module": "@jupyter-widgets/controls",
            "_model_module_version": "1.5.0",
            "value": " 5.33k/5.33k [00:01&lt;00:00, 4.12kB/s]",
            "_view_count": null,
            "_view_module_version": "1.5.0",
            "description_tooltip": null,
            "_model_module": "@jupyter-widgets/controls",
            "layout": "IPY_MODEL_15842ce436ac49f3a7eeb06939fb4c9e"
          }
        },
        "03d8d5d563184f93ada025fb4255e4da": {
          "model_module": "@jupyter-widgets/controls",
          "model_name": "ProgressStyleModel",
          "state": {
            "_view_name": "StyleView",
            "_model_name": "ProgressStyleModel",
            "description_width": "initial",
            "_view_module": "@jupyter-widgets/base",
            "_model_module_version": "1.5.0",
            "_view_count": null,
            "_view_module_version": "1.2.0",
            "bar_color": null,
            "_model_module": "@jupyter-widgets/controls"
          }
        },
        "0f69cd7e52484067a78f4d5c9d2e37db": {
          "model_module": "@jupyter-widgets/base",
          "model_name": "LayoutModel",
          "state": {
            "_view_name": "LayoutView",
            "grid_template_rows": null,
            "right": null,
            "justify_content": null,
            "_view_module": "@jupyter-widgets/base",
            "overflow": null,
            "_model_module_version": "1.2.0",
            "_view_count": null,
            "flex_flow": null,
            "width": null,
            "min_width": null,
            "border": null,
            "align_items": null,
            "bottom": null,
            "_model_module": "@jupyter-widgets/base",
            "top": null,
            "grid_column": null,
            "overflow_y": null,
            "overflow_x": null,
            "grid_auto_flow": null,
            "grid_area": null,
            "grid_template_columns": null,
            "flex": null,
            "_model_name": "LayoutModel",
            "justify_items": null,
            "grid_row": null,
            "max_height": null,
            "align_content": null,
            "visibility": null,
            "align_self": null,
            "height": null,
            "min_height": null,
            "padding": null,
            "grid_auto_rows": null,
            "grid_gap": null,
            "max_width": null,
            "order": null,
            "_view_module_version": "1.2.0",
            "grid_template_areas": null,
            "object_position": null,
            "object_fit": null,
            "grid_auto_columns": null,
            "margin": null,
            "display": null,
            "left": null
          }
        },
        "fce155ace7fd408e96bd1e37e66ec3ac": {
          "model_module": "@jupyter-widgets/controls",
          "model_name": "DescriptionStyleModel",
          "state": {
            "_view_name": "StyleView",
            "_model_name": "DescriptionStyleModel",
            "description_width": "",
            "_view_module": "@jupyter-widgets/base",
            "_model_module_version": "1.5.0",
            "_view_count": null,
            "_view_module_version": "1.2.0",
            "_model_module": "@jupyter-widgets/controls"
          }
        },
        "15842ce436ac49f3a7eeb06939fb4c9e": {
          "model_module": "@jupyter-widgets/base",
          "model_name": "LayoutModel",
          "state": {
            "_view_name": "LayoutView",
            "grid_template_rows": null,
            "right": null,
            "justify_content": null,
            "_view_module": "@jupyter-widgets/base",
            "overflow": null,
            "_model_module_version": "1.2.0",
            "_view_count": null,
            "flex_flow": null,
            "width": null,
            "min_width": null,
            "border": null,
            "align_items": null,
            "bottom": null,
            "_model_module": "@jupyter-widgets/base",
            "top": null,
            "grid_column": null,
            "overflow_y": null,
            "overflow_x": null,
            "grid_auto_flow": null,
            "grid_area": null,
            "grid_template_columns": null,
            "flex": null,
            "_model_name": "LayoutModel",
            "justify_items": null,
            "grid_row": null,
            "max_height": null,
            "align_content": null,
            "visibility": null,
            "align_self": null,
            "height": null,
            "min_height": null,
            "padding": null,
            "grid_auto_rows": null,
            "grid_gap": null,
            "max_width": null,
            "order": null,
            "_view_module_version": "1.2.0",
            "grid_template_areas": null,
            "object_position": null,
            "object_fit": null,
            "grid_auto_columns": null,
            "margin": null,
            "display": null,
            "left": null
          }
        },
        "bce694e655d64f34b9db07e8d90284dd": {
          "model_module": "@jupyter-widgets/controls",
          "model_name": "HBoxModel",
          "state": {
            "_view_name": "HBoxView",
            "_dom_classes": [],
            "_model_name": "HBoxModel",
            "_view_module": "@jupyter-widgets/controls",
            "_model_module_version": "1.5.0",
            "_view_count": null,
            "_view_module_version": "1.5.0",
            "box_style": "",
            "layout": "IPY_MODEL_3c5434d32dd246d0b1b968542a5a2cec",
            "_model_module": "@jupyter-widgets/controls",
            "children": [
              "IPY_MODEL_9965a0ddfa994632b77eb657a28585fc",
              "IPY_MODEL_33f5173f95da42318df0f7d633cc3447"
            ]
          }
        },
        "3c5434d32dd246d0b1b968542a5a2cec": {
          "model_module": "@jupyter-widgets/base",
          "model_name": "LayoutModel",
          "state": {
            "_view_name": "LayoutView",
            "grid_template_rows": null,
            "right": null,
            "justify_content": null,
            "_view_module": "@jupyter-widgets/base",
            "overflow": null,
            "_model_module_version": "1.2.0",
            "_view_count": null,
            "flex_flow": null,
            "width": null,
            "min_width": null,
            "border": null,
            "align_items": null,
            "bottom": null,
            "_model_module": "@jupyter-widgets/base",
            "top": null,
            "grid_column": null,
            "overflow_y": null,
            "overflow_x": null,
            "grid_auto_flow": null,
            "grid_area": null,
            "grid_template_columns": null,
            "flex": null,
            "_model_name": "LayoutModel",
            "justify_items": null,
            "grid_row": null,
            "max_height": null,
            "align_content": null,
            "visibility": null,
            "align_self": null,
            "height": null,
            "min_height": null,
            "padding": null,
            "grid_auto_rows": null,
            "grid_gap": null,
            "max_width": null,
            "order": null,
            "_view_module_version": "1.2.0",
            "grid_template_areas": null,
            "object_position": null,
            "object_fit": null,
            "grid_auto_columns": null,
            "margin": null,
            "display": null,
            "left": null
          }
        },
        "9965a0ddfa994632b77eb657a28585fc": {
          "model_module": "@jupyter-widgets/controls",
          "model_name": "FloatProgressModel",
          "state": {
            "_view_name": "ProgressView",
            "style": "IPY_MODEL_d5f405a1722f47bb8a1b09dbb7945065",
            "_dom_classes": [],
            "description": "GoogleNews-vectors-negative300.bin.gz: 100%",
            "_model_name": "FloatProgressModel",
            "bar_style": "success",
            "max": 1647046227,
            "_view_module": "@jupyter-widgets/controls",
            "_model_module_version": "1.5.0",
            "value": 1647046227,
            "_view_count": null,
            "_view_module_version": "1.5.0",
            "orientation": "horizontal",
            "min": 0,
            "description_tooltip": null,
            "_model_module": "@jupyter-widgets/controls",
            "layout": "IPY_MODEL_a9fe479862c34a24a25622ac530e2e40"
          }
        },
        "33f5173f95da42318df0f7d633cc3447": {
          "model_module": "@jupyter-widgets/controls",
          "model_name": "HTMLModel",
          "state": {
            "_view_name": "HTMLView",
            "style": "IPY_MODEL_853de0f0c103482ea21fae381b95f9bc",
            "_dom_classes": [],
            "description": "",
            "_model_name": "HTMLModel",
            "placeholder": "​",
            "_view_module": "@jupyter-widgets/controls",
            "_model_module_version": "1.5.0",
            "value": " 1.65G/1.65G [02:29&lt;00:00, 11.0MB/s]",
            "_view_count": null,
            "_view_module_version": "1.5.0",
            "description_tooltip": null,
            "_model_module": "@jupyter-widgets/controls",
            "layout": "IPY_MODEL_99dfbd32ecbb4ef6853c4f8c93584207"
          }
        },
        "d5f405a1722f47bb8a1b09dbb7945065": {
          "model_module": "@jupyter-widgets/controls",
          "model_name": "ProgressStyleModel",
          "state": {
            "_view_name": "StyleView",
            "_model_name": "ProgressStyleModel",
            "description_width": "initial",
            "_view_module": "@jupyter-widgets/base",
            "_model_module_version": "1.5.0",
            "_view_count": null,
            "_view_module_version": "1.2.0",
            "bar_color": null,
            "_model_module": "@jupyter-widgets/controls"
          }
        },
        "a9fe479862c34a24a25622ac530e2e40": {
          "model_module": "@jupyter-widgets/base",
          "model_name": "LayoutModel",
          "state": {
            "_view_name": "LayoutView",
            "grid_template_rows": null,
            "right": null,
            "justify_content": null,
            "_view_module": "@jupyter-widgets/base",
            "overflow": null,
            "_model_module_version": "1.2.0",
            "_view_count": null,
            "flex_flow": null,
            "width": null,
            "min_width": null,
            "border": null,
            "align_items": null,
            "bottom": null,
            "_model_module": "@jupyter-widgets/base",
            "top": null,
            "grid_column": null,
            "overflow_y": null,
            "overflow_x": null,
            "grid_auto_flow": null,
            "grid_area": null,
            "grid_template_columns": null,
            "flex": null,
            "_model_name": "LayoutModel",
            "justify_items": null,
            "grid_row": null,
            "max_height": null,
            "align_content": null,
            "visibility": null,
            "align_self": null,
            "height": null,
            "min_height": null,
            "padding": null,
            "grid_auto_rows": null,
            "grid_gap": null,
            "max_width": null,
            "order": null,
            "_view_module_version": "1.2.0",
            "grid_template_areas": null,
            "object_position": null,
            "object_fit": null,
            "grid_auto_columns": null,
            "margin": null,
            "display": null,
            "left": null
          }
        },
        "853de0f0c103482ea21fae381b95f9bc": {
          "model_module": "@jupyter-widgets/controls",
          "model_name": "DescriptionStyleModel",
          "state": {
            "_view_name": "StyleView",
            "_model_name": "DescriptionStyleModel",
            "description_width": "",
            "_view_module": "@jupyter-widgets/base",
            "_model_module_version": "1.5.0",
            "_view_count": null,
            "_view_module_version": "1.2.0",
            "_model_module": "@jupyter-widgets/controls"
          }
        },
        "99dfbd32ecbb4ef6853c4f8c93584207": {
          "model_module": "@jupyter-widgets/base",
          "model_name": "LayoutModel",
          "state": {
            "_view_name": "LayoutView",
            "grid_template_rows": null,
            "right": null,
            "justify_content": null,
            "_view_module": "@jupyter-widgets/base",
            "overflow": null,
            "_model_module_version": "1.2.0",
            "_view_count": null,
            "flex_flow": null,
            "width": null,
            "min_width": null,
            "border": null,
            "align_items": null,
            "bottom": null,
            "_model_module": "@jupyter-widgets/base",
            "top": null,
            "grid_column": null,
            "overflow_y": null,
            "overflow_x": null,
            "grid_auto_flow": null,
            "grid_area": null,
            "grid_template_columns": null,
            "flex": null,
            "_model_name": "LayoutModel",
            "justify_items": null,
            "grid_row": null,
            "max_height": null,
            "align_content": null,
            "visibility": null,
            "align_self": null,
            "height": null,
            "min_height": null,
            "padding": null,
            "grid_auto_rows": null,
            "grid_gap": null,
            "max_width": null,
            "order": null,
            "_view_module_version": "1.2.0",
            "grid_template_areas": null,
            "object_position": null,
            "object_fit": null,
            "grid_auto_columns": null,
            "margin": null,
            "display": null,
            "left": null
          }
        }
      }
    }
  },
  "cells": [
    {
      "cell_type": "markdown",
      "metadata": {
        "id": "Oc6y69sA1HWZ",
        "colab_type": "text"
      },
      "source": [
        "# Find duplicate questions on StackOverflow by their embeddings\n",
        "\n",
        "In this assignment you will learn how to calculate a similarity for pieces of text. Using this approach you will know how to find duplicate questions from [StackOverflow](https://stackoverflow.com)."
      ]
    },
    {
      "cell_type": "markdown",
      "metadata": {
        "id": "_aVzrDNf1HWe",
        "colab_type": "text"
      },
      "source": [
        "### Libraries\n",
        "\n",
        "In this task you will you will need the following libraries:\n",
        "- [StarSpace](https://github.com/facebookresearch/StarSpace) — a general-purpose model for efficient learning of entity embeddings from Facebook\n",
        "- [Gensim](https://radimrehurek.com/gensim/) — a tool for solving various NLP-related tasks (topic modeling, text representation, ...)\n",
        "- [Numpy](http://www.numpy.org) — a package for scientific computing.\n",
        "- [scikit-learn](http://scikit-learn.org/stable/index.html) — a tool for data mining and data analysis.\n",
        "- [Nltk](http://www.nltk.org) — a platform to work with human language data."
      ]
    },
    {
      "cell_type": "markdown",
      "metadata": {
        "id": "hoyOtS7T1HWf",
        "colab_type": "text"
      },
      "source": [
        "### Data\n",
        "\n",
        "The following cell will download all data required for this assignment into the folder `week3/data`."
      ]
    },
    {
      "cell_type": "code",
      "metadata": {
        "id": "o2Zd-jLs1aLi",
        "colab_type": "code",
        "outputId": "41693565-e5d9-4254-8b70-5143f065b8b3",
        "colab": {
          "base_uri": "https://localhost:8080/",
          "height": 204
        }
      },
      "source": [
        "! wget https://raw.githubusercontent.com/hse-aml/natural-language-processing/master/setup_google_colab.py -O setup_google_colab.py\n",
        "import setup_google_colab\n",
        "# please, uncomment the week you're working on\n",
        "# setup_google_colab.setup_week1()  \n",
        "# setup_google_colab.setup_week2()\n",
        "setup_google_colab.setup_week3()\n",
        "# setup_google_colab.setup_week4()\n",
        "# setup_google_colab.setup_project()\n",
        "# setup_google_colab.setup_honor()"
      ],
      "execution_count": 0,
      "outputs": [
        {
          "output_type": "stream",
          "text": [
            "--2019-12-06 08:42:16--  https://raw.githubusercontent.com/hse-aml/natural-language-processing/master/setup_google_colab.py\n",
            "Resolving raw.githubusercontent.com (raw.githubusercontent.com)... 151.101.0.133, 151.101.64.133, 151.101.128.133, ...\n",
            "Connecting to raw.githubusercontent.com (raw.githubusercontent.com)|151.101.0.133|:443... connected.\n",
            "HTTP request sent, awaiting response... 200 OK\n",
            "Length: 1991 (1.9K) [text/plain]\n",
            "Saving to: ‘setup_google_colab.py’\n",
            "\n",
            "\rsetup_google_colab.   0%[                    ]       0  --.-KB/s               \rsetup_google_colab. 100%[===================>]   1.94K  --.-KB/s    in 0s      \n",
            "\n",
            "2019-12-06 08:42:16 (22.8 MB/s) - ‘setup_google_colab.py’ saved [1991/1991]\n",
            "\n"
          ],
          "name": "stdout"
        }
      ]
    },
    {
      "cell_type": "code",
      "metadata": {
        "id": "loaVNeen1HWg",
        "colab_type": "code",
        "outputId": "9cdd16ca-b4fe-483c-c393-e7522757f06c",
        "colab": {
          "base_uri": "https://localhost:8080/",
          "height": 215,
          "referenced_widgets": [
            "3eb19859eae34d14922b73e7dede80ce",
            "e0fc99cc378c499a86ad4ae516f249a2",
            "318ae3ff4593431da92c94af1e4e4223",
            "8aa9130892e8434fb7b6df112685e749",
            "591475e3cdd2466f81ffadab2b3bc915",
            "295ae7a3ffa04108a22b7913b7608347",
            "8a49305d7aa8458685a2a534e90bffa6",
            "72b6a47fc76f4e2f98eaee101b9f511d",
            "b3d9a043ff4842a98788a023c4b223d2",
            "8c82f4275cff4f0aa450a294621265a8",
            "ae9c6e71c88f47199a2f8e42cf5514e3",
            "fcf7b0ae823a4f2fb8b05ce566fc5198",
            "03d8d5d563184f93ada025fb4255e4da",
            "0f69cd7e52484067a78f4d5c9d2e37db",
            "fce155ace7fd408e96bd1e37e66ec3ac",
            "15842ce436ac49f3a7eeb06939fb4c9e",
            "bce694e655d64f34b9db07e8d90284dd",
            "3c5434d32dd246d0b1b968542a5a2cec",
            "9965a0ddfa994632b77eb657a28585fc",
            "33f5173f95da42318df0f7d633cc3447",
            "d5f405a1722f47bb8a1b09dbb7945065",
            "a9fe479862c34a24a25622ac530e2e40",
            "853de0f0c103482ea21fae381b95f9bc",
            "99dfbd32ecbb4ef6853c4f8c93584207"
          ]
        }
      },
      "source": [
        "import sys\n",
        "sys.path.append(\"..\")\n",
        "from common.download_utils import download_week3_resources\n",
        "\n",
        "download_week3_resources()"
      ],
      "execution_count": 0,
      "outputs": [
        {
          "output_type": "stream",
          "text": [
            "File data/train.tsv is already downloaded.\n",
            "File data/validation.tsv is already downloaded.\n"
          ],
          "name": "stdout"
        },
        {
          "output_type": "display_data",
          "data": {
            "application/vnd.jupyter.widget-view+json": {
              "model_id": "3eb19859eae34d14922b73e7dede80ce",
              "version_minor": 0,
              "version_major": 2
            },
            "text/plain": [
              "HBox(children=(FloatProgress(value=0.0, max=46408910.0), HTML(value='')))"
            ]
          },
          "metadata": {
            "tags": []
          }
        },
        {
          "output_type": "stream",
          "text": [
            "\n"
          ],
          "name": "stdout"
        },
        {
          "output_type": "display_data",
          "data": {
            "application/vnd.jupyter.widget-view+json": {
              "model_id": "b3d9a043ff4842a98788a023c4b223d2",
              "version_minor": 0,
              "version_major": 2
            },
            "text/plain": [
              "HBox(children=(FloatProgress(value=0.0, max=5333.0), HTML(value='')))"
            ]
          },
          "metadata": {
            "tags": []
          }
        },
        {
          "output_type": "stream",
          "text": [
            "\n",
            "Downloading GoogleNews-vectors-negative300.bin.gz (1.5G) for you, it will take a while...\n"
          ],
          "name": "stdout"
        },
        {
          "output_type": "display_data",
          "data": {
            "application/vnd.jupyter.widget-view+json": {
              "model_id": "bce694e655d64f34b9db07e8d90284dd",
              "version_minor": 0,
              "version_major": 2
            },
            "text/plain": [
              "HBox(children=(FloatProgress(value=0.0, max=1647046227.0), HTML(value='')))"
            ]
          },
          "metadata": {
            "tags": []
          }
        },
        {
          "output_type": "stream",
          "text": [
            "\n"
          ],
          "name": "stdout"
        }
      ]
    },
    {
      "cell_type": "markdown",
      "metadata": {
        "id": "aKJ-UmMq1HWk",
        "colab_type": "text"
      },
      "source": [
        "### Grading\n",
        "We will create a grader instace below and use it to collect your answers. Note that these outputs will be stored locally inside grader and will be uploaded to platform only after running submiting function in the last part of this assignment. If you want to make partial submission, you can run that cell any time you want."
      ]
    },
    {
      "cell_type": "code",
      "metadata": {
        "id": "IEf19HjQ1HWl",
        "colab_type": "code",
        "colab": {}
      },
      "source": [
        "from grader import Grader"
      ],
      "execution_count": 0,
      "outputs": []
    },
    {
      "cell_type": "code",
      "metadata": {
        "id": "eWgyCx4Y1HWo",
        "colab_type": "code",
        "colab": {}
      },
      "source": [
        "grader = Grader()"
      ],
      "execution_count": 0,
      "outputs": []
    },
    {
      "cell_type": "markdown",
      "metadata": {
        "id": "4QaGWh_z1HWs",
        "colab_type": "text"
      },
      "source": [
        "## Word embedding\n",
        "\n",
        "To solve the problem, you will use two different models of embeddings:\n",
        "\n",
        " - [Pre-trained word vectors](https://code.google.com/archive/p/word2vec/) from Google which were trained on a part of Google News dataset (about 100 billion words). The model contains 300-dimensional vectors for 3 million words and phrases. `GoogleNews-vectors-negative300.bin.gz` will be downloaded in `download_week3_resources()`.\n",
        " - Representations using StarSpace on StackOverflow data sample. You will need to train them from scratch."
      ]
    },
    {
      "cell_type": "markdown",
      "metadata": {
        "id": "rEAJgPqP1HWu",
        "colab_type": "text"
      },
      "source": [
        "It's always easier to start with pre-trained embeddings. Unpack the pre-trained Goggle's vectors and upload them using the function [KeyedVectors.load_word2vec_format](https://radimrehurek.com/gensim/models/keyedvectors.html) from gensim library with the parameter *binary=True*. If the size of the embeddings is larger than the avaliable memory, you could load only a part of the embeddings by defining the parameter *limit* (recommended: 500000)."
      ]
    },
    {
      "cell_type": "code",
      "metadata": {
        "id": "4_hpacbH1HWv",
        "colab_type": "code",
        "colab": {}
      },
      "source": [
        "import gensim"
      ],
      "execution_count": 0,
      "outputs": []
    },
    {
      "cell_type": "code",
      "metadata": {
        "id": "VFo4lLzW1HWy",
        "colab_type": "code",
        "colab": {}
      },
      "source": [
        "wv_embeddings =gensim.models.KeyedVectors.load_word2vec_format('GoogleNews-vectors-negative300.bin.gz',binary=True)"
      ],
      "execution_count": 0,
      "outputs": []
    },
    {
      "cell_type": "markdown",
      "metadata": {
        "id": "6pwwTtSD1HW1",
        "colab_type": "text"
      },
      "source": [
        "### How to work with Google's word2vec embeddings?\n",
        "\n",
        "Once you have loaded the representations, make sure you can access them. First, you can check if the loaded embeddings contain a word:\n",
        "    \n",
        "    'word' in wv_embeddings\n",
        "    \n",
        "Second, to get the corresponding embedding you can use the square brackets:\n",
        "\n",
        "    wv_embeddings['word']\n",
        " \n",
        "### Checking that the embeddings are correct \n",
        " \n",
        "To prevent any errors during the first stage, we can check that the loaded embeddings are correct. You can call the function *check_embeddings*, implemented below, which runs 3 tests:\n",
        "1. Find the most similar word for provided \"positive\" and \"negative\" words.\n",
        "2. Find which word from the given list doesn’t go with the others.\n",
        "3. Find the most similar word for the provided one.\n",
        "\n",
        "In the right case the function will return the string *These embeddings look good*. Othervise, you need to validate the previous steps."
      ]
    },
    {
      "cell_type": "code",
      "metadata": {
        "id": "0At36fUO1HW1",
        "colab_type": "code",
        "colab": {}
      },
      "source": [
        "def check_embeddings(embeddings):\n",
        "    error_text = \"Something wrong with your embeddings ('%s test isn't correct).\"\n",
        "    most_similar = embeddings.most_similar(positive=['woman', 'king'], negative=['man'])\n",
        "    if len(most_similar) < 1 or most_similar[0][0] != 'queen':\n",
        "        return error_text % \"Most similar\"\n",
        "\n",
        "    doesnt_match = embeddings.doesnt_match(['breakfast', 'cereal', 'dinner', 'lunch'])\n",
        "    if doesnt_match != 'cereal':\n",
        "        return error_text % \"Doesn't match\"\n",
        "    \n",
        "    most_similar_to_given = embeddings.most_similar_to_given('music', ['water', 'sound', 'backpack', 'mouse'])\n",
        "    if most_similar_to_given != 'sound':\n",
        "        return error_text % \"Most similar to given\"\n",
        "    \n",
        "    return \"These embeddings look good.\""
      ],
      "execution_count": 0,
      "outputs": []
    },
    {
      "cell_type": "code",
      "metadata": {
        "id": "-3Z2ZXl31HW6",
        "colab_type": "code",
        "outputId": "cd2621c3-d533-4865-efcd-ba36a50db345",
        "colab": {
          "base_uri": "https://localhost:8080/",
          "height": 88
        }
      },
      "source": [
        "print(check_embeddings(wv_embeddings))"
      ],
      "execution_count": 0,
      "outputs": [
        {
          "output_type": "stream",
          "text": [
            "These embeddings look good.\n"
          ],
          "name": "stdout"
        },
        {
          "output_type": "stream",
          "text": [
            "/usr/local/lib/python3.6/dist-packages/gensim/models/keyedvectors.py:877: FutureWarning: arrays to stack must be passed as a \"sequence\" type such as list or tuple. Support for non-sequence iterables such as generators is deprecated as of NumPy 1.16 and will raise an error in the future.\n",
            "  vectors = vstack(self.word_vec(word, use_norm=True) for word in used_words).astype(REAL)\n"
          ],
          "name": "stderr"
        }
      ]
    },
    {
      "cell_type": "markdown",
      "metadata": {
        "id": "gq4k8pOn1HW_",
        "colab_type": "text"
      },
      "source": [
        "## From word to text embeddings\n",
        "\n",
        "**Task 1 (Question2Vec).** Usually, we have word-based embeddings, but for the task we need to create a representation for the whole question. It could be done in different ways. In our case we will use a **mean** of all word vectors in the question. Now you need to implement the function *question_to_vec*, which calculates the question representation described above. This function should work with the input text as is without any preprocessing.\n",
        "\n",
        "Note that there could be words without the corresponding embeddings. In this case, you can just skip these words and don't take them into account during calculating the result. If the question doesn't contain any known word with embedding, the function should return a zero vector."
      ]
    },
    {
      "cell_type": "code",
      "metadata": {
        "id": "vqou05qY1HXA",
        "colab_type": "code",
        "colab": {}
      },
      "source": [
        "import numpy as np"
      ],
      "execution_count": 0,
      "outputs": []
    },
    {
      "cell_type": "code",
      "metadata": {
        "id": "Ozcl3h1D1HXD",
        "colab_type": "code",
        "colab": {}
      },
      "source": [
        "def question_to_vec(question, embeddings, dim=300):\n",
        "    \"\"\"\n",
        "        question: a string\n",
        "        embeddings: dict where the key is a word and a value is its' embedding\n",
        "        dim: size of the representation\n",
        "\n",
        "        result: vector representation for the question\n",
        "    \"\"\"\n",
        "    ans=np.zeros(dim)\n",
        "    c=0\n",
        "    words=question.split()\n",
        "    for word in words:\n",
        "      if word in embeddings:\n",
        "        emb=embeddings[word]\n",
        "        ans+=emb\n",
        "        c+=1\n",
        "    #print(ans)\n",
        "    if c==0:\n",
        "      return ans\n",
        "    return ans/c"
      ],
      "execution_count": 0,
      "outputs": []
    },
    {
      "cell_type": "markdown",
      "metadata": {
        "id": "587kcsNC1HXF",
        "colab_type": "text"
      },
      "source": [
        "To check the basic correctness of your implementation, run the function *question_to_vec_tests*."
      ]
    },
    {
      "cell_type": "code",
      "metadata": {
        "id": "i0dIxeaD8khX",
        "colab_type": "code",
        "outputId": "740cb75e-57b7-4dfc-d80d-1e3521cfccc7",
        "colab": {
          "base_uri": "https://localhost:8080/",
          "height": 323
        }
      },
      "source": [
        "question_to_vec('',wv_embeddings)"
      ],
      "execution_count": 0,
      "outputs": [
        {
          "output_type": "execute_result",
          "data": {
            "text/plain": [
              "array([0., 0., 0., 0., 0., 0., 0., 0., 0., 0., 0., 0., 0., 0., 0., 0., 0.,\n",
              "       0., 0., 0., 0., 0., 0., 0., 0., 0., 0., 0., 0., 0., 0., 0., 0., 0.,\n",
              "       0., 0., 0., 0., 0., 0., 0., 0., 0., 0., 0., 0., 0., 0., 0., 0., 0.,\n",
              "       0., 0., 0., 0., 0., 0., 0., 0., 0., 0., 0., 0., 0., 0., 0., 0., 0.,\n",
              "       0., 0., 0., 0., 0., 0., 0., 0., 0., 0., 0., 0., 0., 0., 0., 0., 0.,\n",
              "       0., 0., 0., 0., 0., 0., 0., 0., 0., 0., 0., 0., 0., 0., 0., 0., 0.,\n",
              "       0., 0., 0., 0., 0., 0., 0., 0., 0., 0., 0., 0., 0., 0., 0., 0., 0.,\n",
              "       0., 0., 0., 0., 0., 0., 0., 0., 0., 0., 0., 0., 0., 0., 0., 0., 0.,\n",
              "       0., 0., 0., 0., 0., 0., 0., 0., 0., 0., 0., 0., 0., 0., 0., 0., 0.,\n",
              "       0., 0., 0., 0., 0., 0., 0., 0., 0., 0., 0., 0., 0., 0., 0., 0., 0.,\n",
              "       0., 0., 0., 0., 0., 0., 0., 0., 0., 0., 0., 0., 0., 0., 0., 0., 0.,\n",
              "       0., 0., 0., 0., 0., 0., 0., 0., 0., 0., 0., 0., 0., 0., 0., 0., 0.,\n",
              "       0., 0., 0., 0., 0., 0., 0., 0., 0., 0., 0., 0., 0., 0., 0., 0., 0.,\n",
              "       0., 0., 0., 0., 0., 0., 0., 0., 0., 0., 0., 0., 0., 0., 0., 0., 0.,\n",
              "       0., 0., 0., 0., 0., 0., 0., 0., 0., 0., 0., 0., 0., 0., 0., 0., 0.,\n",
              "       0., 0., 0., 0., 0., 0., 0., 0., 0., 0., 0., 0., 0., 0., 0., 0., 0.,\n",
              "       0., 0., 0., 0., 0., 0., 0., 0., 0., 0., 0., 0., 0., 0., 0., 0., 0.,\n",
              "       0., 0., 0., 0., 0., 0., 0., 0., 0., 0., 0.])"
            ]
          },
          "metadata": {
            "tags": []
          },
          "execution_count": 11
        }
      ]
    },
    {
      "cell_type": "code",
      "metadata": {
        "id": "QVT9yom_1HXG",
        "colab_type": "code",
        "colab": {}
      },
      "source": [
        "def question_to_vec_tests():\n",
        "    if (np.zeros(300) != question_to_vec('', wv_embeddings)).any():\n",
        "        return \"You need to return zero vector for empty question.\"\n",
        "    if (np.zeros(300) != question_to_vec('thereisnosuchword', wv_embeddings)).any():\n",
        "        return \"You need to return zero vector for the question, which consists only unknown words.\"\n",
        "    if (wv_embeddings['word'] != question_to_vec('word', wv_embeddings)).any():\n",
        "        return \"You need to check the corectness of your function.\"\n",
        "    if ((wv_embeddings['I'] + wv_embeddings['am']) / 2 != question_to_vec('I am', wv_embeddings)).any():\n",
        "        return \"Your function should calculate a mean of word vectors.\"\n",
        "    if (wv_embeddings['word'] != question_to_vec('thereisnosuchword word', wv_embeddings)).any():\n",
        "        return \"You should not consider words which embeddings are unknown.\"\n",
        "    return \"Basic tests are passed.\""
      ],
      "execution_count": 0,
      "outputs": []
    },
    {
      "cell_type": "code",
      "metadata": {
        "id": "296pvoJ31HXJ",
        "colab_type": "code",
        "outputId": "3b014a46-da49-40ca-d358-5befc3a122fd",
        "colab": {
          "base_uri": "https://localhost:8080/",
          "height": 34
        }
      },
      "source": [
        "print(question_to_vec_tests())"
      ],
      "execution_count": 0,
      "outputs": [
        {
          "output_type": "stream",
          "text": [
            "Basic tests are passed.\n"
          ],
          "name": "stdout"
        }
      ]
    },
    {
      "cell_type": "markdown",
      "metadata": {
        "id": "PPuuij1d1HXL",
        "colab_type": "text"
      },
      "source": [
        "You can submit embeddings for the questions from the file *test_embeddings.tsv* to earn the points. In this task you don't need to transform the text of a question somehow."
      ]
    },
    {
      "cell_type": "code",
      "metadata": {
        "id": "5FlyqBV71HXO",
        "colab_type": "code",
        "outputId": "d48079a9-d337-4911-bf12-fce5e33ef056",
        "colab": {
          "base_uri": "https://localhost:8080/",
          "height": 51
        }
      },
      "source": [
        "import nltk\n",
        "nltk.download('stopwords')\n",
        "from util import array_to_string"
      ],
      "execution_count": 0,
      "outputs": [
        {
          "output_type": "stream",
          "text": [
            "[nltk_data] Downloading package stopwords to /root/nltk_data...\n",
            "[nltk_data]   Unzipping corpora/stopwords.zip.\n"
          ],
          "name": "stderr"
        }
      ]
    },
    {
      "cell_type": "code",
      "metadata": {
        "id": "VN2wzznB1HXR",
        "colab_type": "code",
        "outputId": "dd6ad021-3e6c-4e03-86e8-ed56891006fc",
        "colab": {
          "base_uri": "https://localhost:8080/",
          "height": 102
        }
      },
      "source": [
        "question2vec_result = []\n",
        "for question in open('data/test_embeddings.tsv'):\n",
        "    question = question.strip()\n",
        "    answer = question_to_vec(question, wv_embeddings)\n",
        "    question2vec_result = np.append(question2vec_result, answer)\n",
        "\n",
        "grader.submit_tag('Question2Vec', array_to_string(question2vec_result))"
      ],
      "execution_count": 0,
      "outputs": [
        {
          "output_type": "stream",
          "text": [
            "Current answer for task Question2Vec is: 0.019293891059027776\n",
            "-0.028727213541666668\n",
            "0.046056111653645836\n",
            "0.08525933159722222\n",
            "0.02430555555555...\n"
          ],
          "name": "stdout"
        }
      ]
    },
    {
      "cell_type": "markdown",
      "metadata": {
        "id": "G3o1Ff451HXT",
        "colab_type": "text"
      },
      "source": [
        "Now we have a method to create a representation of any sentence and we are ready for the first evaluation. So, let's check how well our solution (Google's vectors + *question_to_vec*) will work.\n",
        "\n",
        "## Evaluation of text similarity\n",
        "\n",
        "We can imagine that if we use good embeddings, the cosine similarity between the duplicate sentences should be less than for the random ones. Overall, for each pair of duplicate sentences we can generate *R* random negative examples and find out the position of the correct duplicate.  \n",
        "\n",
        "For example, we have the question *\"Exceptions What really happens\"* and we are sure that another question *\"How does the catch keyword determine the type of exception that was thrown\"* is a duplicate. But our model doesn't know it and tries to find out the best option also among questions like *\"How Can I Make These Links Rotate in PHP\"*, *\"NSLog array description not memory address\"* and *\"PECL_HTTP not recognised php ubuntu\"*. The goal of the model is to rank all these 4 questions (1 *positive* and *R* = 3 *negative*) in the way that the correct one is in the first place.\n",
        "\n",
        "However, it is unnatural to count on that the best candidate will be always in the first place. So let us consider the place of the best candidate in the sorted list of candidates and formulate a metric based on it. We can fix some *K* — a reasonalble number of top-ranked elements and *N* — a number of queries (size of the sample).\n",
        "\n",
        "### Hits@K\n",
        "\n",
        "The first simple metric will be a number of correct hits for some *K*:\n",
        "$$ \\text{Hits@K} = \\frac{1}{N}\\sum_{i=1}^N \\, [dup_i \\in topK(q_i)]$$\n",
        "\n",
        "where $q_i$ is the i-th query, $dup_i$ is its duplicate, $topK(q_i)$ is the top K elements of the ranked sentences provided by our model and the operation $[dup_i \\in topK(q_i)]$ equals 1 if the condition is true and 0 otherwise (more details about this operation could be found [here](https://en.wikipedia.org/wiki/Iverson_bracket)).\n",
        "\n",
        "\n",
        "### DCG@K\n",
        "The second one is a simplified [DCG metric](https://en.wikipedia.org/wiki/Discounted_cumulative_gain):\n",
        "\n",
        "$$ \\text{DCG@K} = \\frac{1}{N} \\sum_{i=1}^N\\frac{1}{\\log_2(1+rank_{dup_i})}\\cdot[rank_{dup_i} \\le K] $$\n",
        "\n",
        "where $rank_{dup_i}$ is a position of the duplicate in the sorted list of the nearest sentences for the query $q_i$. According to this metric, the model gets a higher reward for a higher position of the correct answer. If the answer does not appear in topK at all, the reward is zero. "
      ]
    },
    {
      "cell_type": "markdown",
      "metadata": {
        "id": "uKCewhDG1HXU",
        "colab_type": "text"
      },
      "source": [
        "### Evaluation examples\n",
        "\n",
        "Let's calculate the described metrics for the toy example introduced above. In this case $N$ = 1 and the correct candidate for $q_1$ is *\"How does the catch keyword determine the type of exception that was thrown\"*. Consider the following ranking of the candidates:\n",
        "1. *\"How Can I Make These Links Rotate in PHP\"*\n",
        "2. *\"How does the catch keyword determine the type of exception that was thrown\"*\n",
        "3. *\"NSLog array description not memory address\"*\n",
        "4. *\"PECL_HTTP not recognised php ubuntu\"*\n",
        "\n",
        "Using the ranking above, calculate *Hits@K* metric for *K = 1, 2, 4*: \n",
        " \n",
        "- [K = 1] $\\text{Hits@1} = \\frac{1}{1}\\sum_{i=1}^1 \\, [dup_i \\in top1(q_i)] = [dup_1 \\in top1(q_1)] = 0$ because the correct answer doesn't appear in the *top1* list.\n",
        "- [K = 2] $\\text{Hits@2} = \\frac{1}{1}\\sum_{i=1}^1 \\, [dup_i \\in top2(q_i)] = [dup_1 \\in top2(q_1)] = 1$ because $rank_{dup_1} = 2$.\n",
        "- [K = 4] $\\text{Hits@4} = \\frac{1}{1}\\sum_{i=1}^1 \\, [dup_i \\in top4(q_i)] = [dup_1 \\in top4(q_1)] = 1$\n",
        "\n",
        "Using the ranking above, calculate *DCG@K* metric for *K = 1, 2, 4*:\n",
        "\n",
        "- [K = 1] $\\text{DCG@1} = \\frac{1}{1} \\sum_{i=1}^1\\frac{1}{\\log_2(1+rank_{dup_i})}\\cdot[rank_{dup_i} \\le 1] = \\frac{1}{\\log_2(1+rank_{dup_i})}\\cdot[rank_{dup_i} \\le 1] = 0$ because the correct answer doesn't appear in the top1 list.\n",
        "- [K = 2] $\\text{DCG@2} = \\frac{1}{1} \\sum_{i=1}^1\\frac{1}{\\log_2(1+rank_{dup_i})}\\cdot[rank_{dup_i} \\le 2] = \\frac{1}{\\log_2{3}}$, because $rank_{dup_1} = 2$.\n",
        "- [K = 4] $\\text{DCG@4} = \\frac{1}{1} \\sum_{i=1}^1\\frac{1}{\\log_2(1+rank_{dup_i})}\\cdot[rank_{dup_i} \\le 4] = \\frac{1}{\\log_2{3}}$.\n"
      ]
    },
    {
      "cell_type": "markdown",
      "metadata": {
        "id": "0eUQyiXN1HXV",
        "colab_type": "text"
      },
      "source": [
        "**Tasks 2 and 3 (HitsCount and DCGScore).** Implement the functions *hits_count* and *dcg_score* as described above. Each function has two arguments: *dup_ranks* and *k*. *dup_ranks* is a list which contains *values of ranks* of duplicates. For example, *dup_ranks* is *[2]* for the example provided above."
      ]
    },
    {
      "cell_type": "code",
      "metadata": {
        "id": "MsTTXpdg1HXW",
        "colab_type": "code",
        "colab": {}
      },
      "source": [
        "def hits_count(dup_ranks, k):\n",
        "    \"\"\"\n",
        "        dup_ranks: list of duplicates' ranks; one rank per question; \n",
        "                   length is a number of questions which we are looking for duplicates; \n",
        "                   rank is a number from 1 to len(candidates of the question); \n",
        "                   e.g. [2, 3] means that the first duplicate has the rank 2, the second one — 3.\n",
        "        k: number of top-ranked elements (k in Hits@k metric)\n",
        "\n",
        "        result: return Hits@k value for current ranking\n",
        "    \"\"\"\n",
        "    count=0\n",
        "    for i in dup_ranks:\n",
        "      if i<=k:\n",
        "        count+=1\n",
        "    return count/len(dup_ranks)"
      ],
      "execution_count": 0,
      "outputs": []
    },
    {
      "cell_type": "markdown",
      "metadata": {
        "id": "8qYG_nyj1HXZ",
        "colab_type": "text"
      },
      "source": [
        "Test your code on the tiny examples:"
      ]
    },
    {
      "cell_type": "code",
      "metadata": {
        "id": "nqlBanSy1HXa",
        "colab_type": "code",
        "colab": {}
      },
      "source": [
        "def test_hits():\n",
        "    # *Evaluation example*\n",
        "    # answers — dup_i\n",
        "    answers = [\"How does the catch keyword determine the type of exception that was thrown\"]\n",
        "    \n",
        "    # candidates_ranking — the ranked sentences provided by our model\n",
        "    candidates_ranking = [[\"How Can I Make These Links Rotate in PHP\", \n",
        "                           \"How does the catch keyword determine the type of exception that was thrown\",\n",
        "                           \"NSLog array description not memory address\",\n",
        "                           \"PECL_HTTP not recognised php ubuntu\"]]\n",
        "    # dup_ranks — position of the dup_i in the list of ranks +1\n",
        "    dup_ranks = [candidates_ranking[i].index(answers[i]) + 1 for i in range(len(answers))]\n",
        "    \n",
        "    # correct_answers — the expected values of the result for each k from 1 to 4\n",
        "    correct_answers = [0, 1, 1, 1]\n",
        "    for k, correct in enumerate(correct_answers, 1):\n",
        "        if not np.isclose(hits_count(dup_ranks, k), correct):\n",
        "            return \"Check the function.\"\n",
        "    \n",
        "    # Other tests\n",
        "    answers = [\"How does the catch keyword determine the type of exception that was thrown\", \n",
        "               \"Convert Google results object (pure js) to Python object\"]\n",
        "    \n",
        "    # The first test: both duplicates on the first position in ranked list\n",
        "    candidates_ranking = [[\"How does the catch keyword determine the type of exception that was thrown\",\n",
        "                           \"How Can I Make These Links Rotate in PHP\"], \n",
        "                          [\"Convert Google results object (pure js) to Python object\",\n",
        "                           \"WPF- How to update the changes in list item of a list\"]]\n",
        "    dup_ranks = [candidates_ranking[i].index(answers[i]) + 1 for i in range(len(answers))]\n",
        "    correct_answers = [1, 1]\n",
        "    for k, correct in enumerate(correct_answers, 1):\n",
        "        if not np.isclose(hits_count(dup_ranks, k), correct):\n",
        "            return \"Check the function (test: both duplicates on the first position in ranked list).\"\n",
        "        \n",
        "    # The second test: one candidate on the first position, another — on the second\n",
        "    candidates_ranking = [[\"How Can I Make These Links Rotate in PHP\", \n",
        "                           \"How does the catch keyword determine the type of exception that was thrown\"], \n",
        "                          [\"Convert Google results object (pure js) to Python object\",\n",
        "                           \"WPF- How to update the changes in list item of a list\"]]\n",
        "    dup_ranks = [candidates_ranking[i].index(answers[i]) + 1 for i in range(len(answers))]\n",
        "    correct_answers = [0.5, 1]\n",
        "    for k, correct in enumerate(correct_answers, 1):\n",
        "        if not np.isclose(hits_count(dup_ranks, k), correct):\n",
        "            return \"Check the function (test: one candidate on the first position, another — on the second).\"\n",
        "\n",
        "    # The third test: both candidates on the second position\n",
        "    candidates_ranking = [[\"How Can I Make These Links Rotate in PHP\", \n",
        "                           \"How does the catch keyword determine the type of exception that was thrown\"], \n",
        "                          [\"WPF- How to update the changes in list item of a list\",\n",
        "                           \"Convert Google results object (pure js) to Python object\"]]\n",
        "    dup_ranks = [candidates_ranking[i].index(answers[i]) + 1 for i in range(len(answers))]\n",
        "    correct_answers = [0, 1]\n",
        "    for k, correct in enumerate(correct_answers, 1):\n",
        "        if not np.isclose(hits_count(dup_ranks, k), correct):\n",
        "            return \"Check the function (test: both candidates on the second position).\"\n",
        "\n",
        "    return \"Basic test are passed.\""
      ],
      "execution_count": 0,
      "outputs": []
    },
    {
      "cell_type": "code",
      "metadata": {
        "id": "B4SqlpVl1HXd",
        "colab_type": "code",
        "outputId": "54b652d1-dd33-479e-f183-32857ad64bef",
        "colab": {
          "base_uri": "https://localhost:8080/",
          "height": 34
        }
      },
      "source": [
        "print(test_hits())"
      ],
      "execution_count": 0,
      "outputs": [
        {
          "output_type": "stream",
          "text": [
            "Basic test are passed.\n"
          ],
          "name": "stdout"
        }
      ]
    },
    {
      "cell_type": "code",
      "metadata": {
        "id": "sVstKVU61HXk",
        "colab_type": "code",
        "colab": {}
      },
      "source": [
        "def dcg_score(dup_ranks, k):\n",
        "    \"\"\"\n",
        "        dup_ranks: list of duplicates' ranks; one rank per question; \n",
        "                   length is a number of questions which we are looking for duplicates; \n",
        "                   rank is a number from 1 to len(candidates of the question); \n",
        "                   e.g. [2, 3] means that the first duplicate has the rank 2, the second one — 3.\n",
        "        k: number of top-ranked elements (k in DCG@k metric)\n",
        "\n",
        "        result: return DCG@k value for current ranking\n",
        "    \"\"\"\n",
        "    sum1=0\n",
        "    for i in dup_ranks:\n",
        "      if i<=k:\n",
        "        sum1+=1/np.log2(1+i)\n",
        "    return sum1/len(dup_ranks)\n",
        "    ######################################\n",
        "    ######### YOUR CODE HERE #############\n",
        "    ######################################"
      ],
      "execution_count": 0,
      "outputs": []
    },
    {
      "cell_type": "code",
      "metadata": {
        "id": "nGh3dY4r1HXp",
        "colab_type": "code",
        "colab": {}
      },
      "source": [
        "def test_dcg():\n",
        "    # *Evaluation example*\n",
        "    # answers — dup_i\n",
        "    answers = [\"How does the catch keyword determine the type of exception that was thrown\"]\n",
        "    \n",
        "    # candidates_ranking — the ranked sentences provided by our model\n",
        "    candidates_ranking = [[\"How Can I Make These Links Rotate in PHP\", \n",
        "                           \"How does the catch keyword determine the type of exception that was thrown\",\n",
        "                           \"NSLog array description not memory address\",\n",
        "                           \"PECL_HTTP not recognised php ubuntu\"]]\n",
        "    # dup_ranks — position of the dup_i in the list of ranks +1\n",
        "    dup_ranks = [candidates_ranking[i].index(answers[i]) + 1 for i in range(len(answers))]\n",
        "    \n",
        "    # correct_answers — the expected values of the result for each k from 1 to 4\n",
        "    correct_answers = [0, 1 / (np.log2(3)), 1 / (np.log2(3)), 1 / (np.log2(3))]\n",
        "    for k, correct in enumerate(correct_answers, 1):\n",
        "        if not np.isclose(dcg_score(dup_ranks, k), correct):\n",
        "            return \"Check the function.\"\n",
        "    \n",
        "    # Other tests\n",
        "    answers = [\"How does the catch keyword determine the type of exception that was thrown\", \n",
        "               \"Convert Google results object (pure js) to Python object\"]\n",
        "\n",
        "    # The first test: both duplicates on the first position in ranked list\n",
        "    candidates_ranking = [[\"How does the catch keyword determine the type of exception that was thrown\",\n",
        "                           \"How Can I Make These Links Rotate in PHP\"], \n",
        "                          [\"Convert Google results object (pure js) to Python object\",\n",
        "                           \"WPF- How to update the changes in list item of a list\"]]\n",
        "    dup_ranks = [candidates_ranking[i].index(answers[i]) + 1 for i in range(len(answers))]\n",
        "    correct_answers = [1, 1]\n",
        "    for k, correct in enumerate(correct_answers, 1):\n",
        "        if not np.isclose(dcg_score(dup_ranks, k), correct):\n",
        "            return \"Check the function (test: both duplicates on the first position in ranked list).\"\n",
        "        \n",
        "    # The second test: one candidate on the first position, another — on the second\n",
        "    candidates_ranking = [[\"How Can I Make These Links Rotate in PHP\", \n",
        "                           \"How does the catch keyword determine the type of exception that was thrown\"], \n",
        "                          [\"Convert Google results object (pure js) to Python object\",\n",
        "                           \"WPF- How to update the changes in list item of a list\"]]\n",
        "    dup_ranks = [candidates_ranking[i].index(answers[i]) + 1 for i in range(len(answers))]\n",
        "    correct_answers = [0.5, (1 + (1 / (np.log2(3)))) / 2]\n",
        "    for k, correct in enumerate(correct_answers, 1):\n",
        "        if not np.isclose(dcg_score(dup_ranks, k), correct):\n",
        "            return \"Check the function (test: one candidate on the first position, another — on the second).\"\n",
        "        \n",
        "    # The third test: both candidates on the second position\n",
        "    candidates_ranking = [[\"How Can I Make These Links Rotate in PHP\",\n",
        "                           \"How does the catch keyword determine the type of exception that was thrown\"], \n",
        "                          [\"WPF- How to update the changes in list item of a list\",\n",
        "                           \"Convert Google results object (pure js) to Python object\"]]\n",
        "    dup_ranks = [candidates_ranking[i].index(answers[i]) + 1 for i in range(len(answers))]\n",
        "    correct_answers = [0, 1 / (np.log2(3))]\n",
        "    for k, correct in enumerate(correct_answers, 1):\n",
        "        if not np.isclose(dcg_score(dup_ranks, k), correct):\n",
        "            return \"Check the function (test: both candidates on the second position).\"\n",
        "\n",
        "    return \"Basic test are passed.\""
      ],
      "execution_count": 0,
      "outputs": []
    },
    {
      "cell_type": "code",
      "metadata": {
        "id": "Wb82y_zQ1HXr",
        "colab_type": "code",
        "outputId": "aa071253-d980-43ed-9eed-767ea3068479",
        "colab": {
          "base_uri": "https://localhost:8080/",
          "height": 34
        }
      },
      "source": [
        "print(test_dcg())"
      ],
      "execution_count": 0,
      "outputs": [
        {
          "output_type": "stream",
          "text": [
            "Basic test are passed.\n"
          ],
          "name": "stdout"
        }
      ]
    },
    {
      "cell_type": "markdown",
      "metadata": {
        "id": "-vY1DCTO1HXu",
        "colab_type": "text"
      },
      "source": [
        "Submit results of the functions *hits_count* and *dcg_score* for the following examples to earn the points."
      ]
    },
    {
      "cell_type": "code",
      "metadata": {
        "id": "n_qjoNUA1HXw",
        "colab_type": "code",
        "colab": {}
      },
      "source": [
        "test_examples = [\n",
        "    [1],\n",
        "    [1, 2],\n",
        "    [2, 1],\n",
        "    [1, 2, 3],\n",
        "    [1, 2, 3, 4, 5, 6, 7, 8, 9, 10],\n",
        "    [9, 5, 4, 2, 8, 10, 7, 6, 1, 3],\n",
        "    [4, 3, 5, 1, 9, 10, 7, 8, 2, 6],\n",
        "    [5, 1, 7, 6, 2, 3, 8, 9, 10, 4],\n",
        "    [6, 3, 1, 4, 7, 2, 9, 8, 10, 5],\n",
        "    [10, 9, 8, 7, 6, 5, 4, 3, 2, 1],\n",
        "]"
      ],
      "execution_count": 0,
      "outputs": []
    },
    {
      "cell_type": "code",
      "metadata": {
        "id": "--LFdAdj1HXz",
        "colab_type": "code",
        "outputId": "6e7054df-4afa-4c20-e9c5-06174343ea9d",
        "colab": {
          "base_uri": "https://localhost:8080/",
          "height": 323
        }
      },
      "source": [
        "hits_results = []\n",
        "for example in test_examples:\n",
        "    for k in range(len(example)):\n",
        "        hits_results.append(hits_count(example, k + 1))\n",
        "grader.submit_tag('HitsCount', array_to_string(hits_results))"
      ],
      "execution_count": 0,
      "outputs": [
        {
          "output_type": "stream",
          "text": [
            "Current answer for task HitsCount is: 1.0\n",
            "0.5\n",
            "1.0\n",
            "0.5\n",
            "1.0\n",
            "0.3333333333333333\n",
            "0.6666666666666666\n",
            "1.0\n",
            "0.1\n",
            "0.2\n",
            "0.3\n",
            "0.4\n",
            "0.5\n",
            "0.6\n",
            "0.7\n",
            "0.8\n",
            "0.9\n",
            "1....\n"
          ],
          "name": "stdout"
        }
      ]
    },
    {
      "cell_type": "code",
      "metadata": {
        "id": "YxIUrBT81HX3",
        "colab_type": "code",
        "outputId": "1f9c8aa9-0825-49cd-f243-19aeb07464f6",
        "colab": {
          "base_uri": "https://localhost:8080/",
          "height": 153
        }
      },
      "source": [
        "dcg_results = []\n",
        "for example in test_examples:\n",
        "    for k in range(len(example)):\n",
        "        dcg_results.append(dcg_score(example, k + 1))\n",
        "grader.submit_tag('DCGScore', array_to_string(dcg_results))"
      ],
      "execution_count": 0,
      "outputs": [
        {
          "output_type": "stream",
          "text": [
            "Current answer for task DCGScore is: 1.0\n",
            "0.5\n",
            "0.8154648767857288\n",
            "0.5\n",
            "0.8154648767857288\n",
            "0.3333333333333333\n",
            "0.5436432511904858\n",
            "0.7103099178...\n"
          ],
          "name": "stdout"
        }
      ]
    },
    {
      "cell_type": "markdown",
      "metadata": {
        "id": "SeZxqQ9F1HX6",
        "colab_type": "text"
      },
      "source": [
        "##  First solution: pre-trained embeddings"
      ]
    },
    {
      "cell_type": "markdown",
      "metadata": {
        "id": "G3689p1y1HX6",
        "colab_type": "text"
      },
      "source": [
        "We will work with predefined train, validation and test corpora. All the files are tab-separated, but have a different format:\n",
        " - *train* corpus contains similar sentences at the same row.\n",
        " - *validation* corpus contains the following columns: *question*, *similar question*, *negative example 1*, *negative example 2*, ... \n",
        " - *test* corpus contains the following columns: *question*, *example 1*, *example 2*, ...\n",
        "\n",
        "Validation corpus will be used for the intermediate validation of models. The test data will be necessary for submitting the quality of your model in the system."
      ]
    },
    {
      "cell_type": "markdown",
      "metadata": {
        "id": "fGgStmVu1HX7",
        "colab_type": "text"
      },
      "source": [
        "Now you should read *validation* corpus, located at `data/validation.tsv`. You will use it later to evaluate current solution."
      ]
    },
    {
      "cell_type": "code",
      "metadata": {
        "id": "vH3IHUCQ1HX8",
        "colab_type": "code",
        "colab": {}
      },
      "source": [
        "def read_corpus(filename):\n",
        "    data = []\n",
        "    for line in open(filename, encoding='utf-8'):\n",
        "        data.append(line.strip().split('\\t'))\n",
        "    return data"
      ],
      "execution_count": 0,
      "outputs": []
    },
    {
      "cell_type": "code",
      "metadata": {
        "id": "tmX1INq11HYA",
        "colab_type": "code",
        "colab": {}
      },
      "source": [
        "validation = read_corpus('data/validation.tsv')"
      ],
      "execution_count": 0,
      "outputs": []
    },
    {
      "cell_type": "code",
      "metadata": {
        "id": "n2_4NYaE1HYE",
        "colab_type": "code",
        "colab": {}
      },
      "source": [
        "from sklearn.metrics.pairwise import cosine_similarity"
      ],
      "execution_count": 0,
      "outputs": []
    },
    {
      "cell_type": "markdown",
      "metadata": {
        "id": "nvNLTGwT1HYI",
        "colab_type": "text"
      },
      "source": [
        "We will use cosine distance to rank candidate questions which you need to implement in the function *rank_candidates*. The function should return a sorted list of pairs *(initial position in candidates list, candidate)*. Index of some pair corresponds to its rank (the first is the best). For example, if the list of candidates was *[a, b, c]* and the most similar is *c*, then *a* and *b*, the function should return a list *[(2, c), (0, a), (1, b)]*.\n",
        "\n",
        "Pay attention, if you use the function *cosine_similarity* from *sklearn.metrics.pairwise* to calculate similarity because it works in a different way: most similar objects has greatest similarity. It's preferable to use a vectorized version of *cosine_similarity* function. Try to compute similarity at once and not use list comprehension. It should speed up your computations significantly."
      ]
    },
    {
      "cell_type": "code",
      "metadata": {
        "id": "KCJVBaB31HYJ",
        "colab_type": "code",
        "colab": {}
      },
      "source": [
        "def rank_candidates(question, candidates, embeddings, dim=300):\n",
        "    \"\"\"\n",
        "        question: a string\n",
        "        candidates: a list of strings (candidates) which we want to rank\n",
        "        embeddings: some embeddings\n",
        "        dim: dimension of the current embeddings\n",
        "        \n",
        "        result: a list of pairs (initial position in the list, question)\n",
        "    \"\"\"\n",
        "    ques_vec=question_to_vec(question,embeddings,dim=dim)\n",
        "    candidate_vec=[]\n",
        "    for candidate in candidates:\n",
        "      candidate_vec.append(question_to_vec(candidate,embeddings,dim=dim))\n",
        "    sim_result=cosine_similarity(np.array(ques_vec).reshape(1,-1),np.array(candidate_vec))\n",
        "    pair_list=[]\n",
        "    sorted_idx=np.argsort(sim_result[0])\n",
        "    for idx in sorted_idx[::-1]:\n",
        "      pair_list.append((idx,candidates[idx]))\n",
        "    return pair_list\n"
      ],
      "execution_count": 0,
      "outputs": []
    },
    {
      "cell_type": "markdown",
      "metadata": {
        "id": "oMlbFfPw1HYN",
        "colab_type": "text"
      },
      "source": [
        "Test your code on the tiny examples:"
      ]
    },
    {
      "cell_type": "code",
      "metadata": {
        "id": "Hi6QYro91HYO",
        "colab_type": "code",
        "colab": {}
      },
      "source": [
        "def test_rank_candidates():\n",
        "    questions = ['converting string to list', 'Sending array via Ajax fails']\n",
        "    candidates = [['Convert Google results object (pure js) to Python object', \n",
        "                   'C# create cookie from string and send it',\n",
        "                   'How to use jQuery AJAX for an outside domain?'], \n",
        "                  ['Getting all list items of an unordered list in PHP', \n",
        "                   'WPF- How to update the changes in list item of a list', \n",
        "                   'select2 not displaying search results']]\n",
        "    results = [[(1, 'C# create cookie from string and send it'), \n",
        "                (0, 'Convert Google results object (pure js) to Python object'), \n",
        "                (2, 'How to use jQuery AJAX for an outside domain?')],\n",
        "               [(0, 'Getting all list items of an unordered list in PHP'), \n",
        "                (2, 'select2 not displaying search results'), \n",
        "                (1, 'WPF- How to update the changes in list item of a list')]]\n",
        "    for question, q_candidates, result in zip(questions, candidates, results):\n",
        "        ranks = rank_candidates(question, q_candidates, wv_embeddings, 300)\n",
        "        if not np.all(ranks == result):\n",
        "            return \"Check the function.\"\n",
        "    return \"Basic tests are passed.\""
      ],
      "execution_count": 0,
      "outputs": []
    },
    {
      "cell_type": "code",
      "metadata": {
        "id": "T9dkM91l1HYT",
        "colab_type": "code",
        "outputId": "c1c63626-7933-4025-d7a2-c15a0c6de24e",
        "colab": {
          "base_uri": "https://localhost:8080/",
          "height": 34
        }
      },
      "source": [
        "print(test_rank_candidates())"
      ],
      "execution_count": 0,
      "outputs": [
        {
          "output_type": "stream",
          "text": [
            "Basic tests are passed.\n"
          ],
          "name": "stdout"
        }
      ]
    },
    {
      "cell_type": "markdown",
      "metadata": {
        "id": "BAIs69zj1HYY",
        "colab_type": "text"
      },
      "source": [
        "Now we can test the quality of the current approach. Run the next two cells to get the results. Pay attention that calculation of similarity between vectors takes time and this calculation is computed approximately in 10 minutes."
      ]
    },
    {
      "cell_type": "code",
      "metadata": {
        "id": "XWBuBFGJ1HYb",
        "colab_type": "code",
        "outputId": "1b2bfaef-06bf-4536-c69e-32e8b88cad6c",
        "colab": {
          "base_uri": "https://localhost:8080/",
          "height": 357
        }
      },
      "source": [
        "wv_ranking = []\n",
        "for line in validation:\n",
        "    q, *ex = line\n",
        "    ranks = rank_candidates(q, ex, wv_embeddings)\n",
        "    wv_ranking.append([r[0] for r in ranks].index(0) + 1)"
      ],
      "execution_count": 0,
      "outputs": [
        {
          "output_type": "error",
          "ename": "KeyboardInterrupt",
          "evalue": "ignored",
          "traceback": [
            "\u001b[0;31m---------------------------------------------------------------------------\u001b[0m",
            "\u001b[0;31mKeyboardInterrupt\u001b[0m                         Traceback (most recent call last)",
            "\u001b[0;32m<ipython-input-31-44ef4450b14b>\u001b[0m in \u001b[0;36m<module>\u001b[0;34m()\u001b[0m\n\u001b[1;32m      2\u001b[0m \u001b[0;32mfor\u001b[0m \u001b[0mline\u001b[0m \u001b[0;32min\u001b[0m \u001b[0mvalidation\u001b[0m\u001b[0;34m:\u001b[0m\u001b[0;34m\u001b[0m\u001b[0;34m\u001b[0m\u001b[0m\n\u001b[1;32m      3\u001b[0m     \u001b[0mq\u001b[0m\u001b[0;34m,\u001b[0m \u001b[0;34m*\u001b[0m\u001b[0mex\u001b[0m \u001b[0;34m=\u001b[0m \u001b[0mline\u001b[0m\u001b[0;34m\u001b[0m\u001b[0;34m\u001b[0m\u001b[0m\n\u001b[0;32m----> 4\u001b[0;31m     \u001b[0mranks\u001b[0m \u001b[0;34m=\u001b[0m \u001b[0mrank_candidates\u001b[0m\u001b[0;34m(\u001b[0m\u001b[0mq\u001b[0m\u001b[0;34m,\u001b[0m \u001b[0mex\u001b[0m\u001b[0;34m,\u001b[0m \u001b[0mwv_embeddings\u001b[0m\u001b[0;34m)\u001b[0m\u001b[0;34m\u001b[0m\u001b[0;34m\u001b[0m\u001b[0m\n\u001b[0m\u001b[1;32m      5\u001b[0m     \u001b[0mwv_ranking\u001b[0m\u001b[0;34m.\u001b[0m\u001b[0mappend\u001b[0m\u001b[0;34m(\u001b[0m\u001b[0;34m[\u001b[0m\u001b[0mr\u001b[0m\u001b[0;34m[\u001b[0m\u001b[0;36m0\u001b[0m\u001b[0;34m]\u001b[0m \u001b[0;32mfor\u001b[0m \u001b[0mr\u001b[0m \u001b[0;32min\u001b[0m \u001b[0mranks\u001b[0m\u001b[0;34m]\u001b[0m\u001b[0;34m.\u001b[0m\u001b[0mindex\u001b[0m\u001b[0;34m(\u001b[0m\u001b[0;36m0\u001b[0m\u001b[0;34m)\u001b[0m \u001b[0;34m+\u001b[0m \u001b[0;36m1\u001b[0m\u001b[0;34m)\u001b[0m\u001b[0;34m\u001b[0m\u001b[0;34m\u001b[0m\u001b[0m\n",
            "\u001b[0;32m<ipython-input-28-7308750485be>\u001b[0m in \u001b[0;36mrank_candidates\u001b[0;34m(question, candidates, embeddings, dim)\u001b[0m\n\u001b[1;32m     11\u001b[0m     \u001b[0mcandidate_vec\u001b[0m\u001b[0;34m=\u001b[0m\u001b[0;34m[\u001b[0m\u001b[0;34m]\u001b[0m\u001b[0;34m\u001b[0m\u001b[0;34m\u001b[0m\u001b[0m\n\u001b[1;32m     12\u001b[0m     \u001b[0;32mfor\u001b[0m \u001b[0mcandidate\u001b[0m \u001b[0;32min\u001b[0m \u001b[0mcandidates\u001b[0m\u001b[0;34m:\u001b[0m\u001b[0;34m\u001b[0m\u001b[0;34m\u001b[0m\u001b[0m\n\u001b[0;32m---> 13\u001b[0;31m       \u001b[0mcandidate_vec\u001b[0m\u001b[0;34m.\u001b[0m\u001b[0mappend\u001b[0m\u001b[0;34m(\u001b[0m\u001b[0mquestion_to_vec\u001b[0m\u001b[0;34m(\u001b[0m\u001b[0mcandidate\u001b[0m\u001b[0;34m,\u001b[0m\u001b[0membeddings\u001b[0m\u001b[0;34m,\u001b[0m\u001b[0mdim\u001b[0m\u001b[0;34m=\u001b[0m\u001b[0mdim\u001b[0m\u001b[0;34m)\u001b[0m\u001b[0;34m)\u001b[0m\u001b[0;34m\u001b[0m\u001b[0;34m\u001b[0m\u001b[0m\n\u001b[0m\u001b[1;32m     14\u001b[0m     \u001b[0msim_result\u001b[0m\u001b[0;34m=\u001b[0m\u001b[0mcosine_similarity\u001b[0m\u001b[0;34m(\u001b[0m\u001b[0mnp\u001b[0m\u001b[0;34m.\u001b[0m\u001b[0marray\u001b[0m\u001b[0;34m(\u001b[0m\u001b[0mques_vec\u001b[0m\u001b[0;34m)\u001b[0m\u001b[0;34m.\u001b[0m\u001b[0mreshape\u001b[0m\u001b[0;34m(\u001b[0m\u001b[0;36m1\u001b[0m\u001b[0;34m,\u001b[0m\u001b[0;34m-\u001b[0m\u001b[0;36m1\u001b[0m\u001b[0;34m)\u001b[0m\u001b[0;34m,\u001b[0m\u001b[0mnp\u001b[0m\u001b[0;34m.\u001b[0m\u001b[0marray\u001b[0m\u001b[0;34m(\u001b[0m\u001b[0mcandidate_vec\u001b[0m\u001b[0;34m)\u001b[0m\u001b[0;34m)\u001b[0m\u001b[0;34m\u001b[0m\u001b[0;34m\u001b[0m\u001b[0m\n\u001b[1;32m     15\u001b[0m     \u001b[0mpair_list\u001b[0m\u001b[0;34m=\u001b[0m\u001b[0;34m[\u001b[0m\u001b[0;34m]\u001b[0m\u001b[0;34m\u001b[0m\u001b[0;34m\u001b[0m\u001b[0m\n",
            "\u001b[0;32m<ipython-input-10-89c1fad1b003>\u001b[0m in \u001b[0;36mquestion_to_vec\u001b[0;34m(question, embeddings, dim)\u001b[0m\n\u001b[1;32m     13\u001b[0m       \u001b[0;32mif\u001b[0m \u001b[0mword\u001b[0m \u001b[0;32min\u001b[0m \u001b[0membeddings\u001b[0m\u001b[0;34m:\u001b[0m\u001b[0;34m\u001b[0m\u001b[0;34m\u001b[0m\u001b[0m\n\u001b[1;32m     14\u001b[0m         \u001b[0memb\u001b[0m\u001b[0;34m=\u001b[0m\u001b[0membeddings\u001b[0m\u001b[0;34m[\u001b[0m\u001b[0mword\u001b[0m\u001b[0;34m]\u001b[0m\u001b[0;34m\u001b[0m\u001b[0;34m\u001b[0m\u001b[0m\n\u001b[0;32m---> 15\u001b[0;31m         \u001b[0mans\u001b[0m\u001b[0;34m+=\u001b[0m\u001b[0memb\u001b[0m\u001b[0;34m\u001b[0m\u001b[0;34m\u001b[0m\u001b[0m\n\u001b[0m\u001b[1;32m     16\u001b[0m         \u001b[0mc\u001b[0m\u001b[0;34m+=\u001b[0m\u001b[0;36m1\u001b[0m\u001b[0;34m\u001b[0m\u001b[0;34m\u001b[0m\u001b[0m\n\u001b[1;32m     17\u001b[0m     \u001b[0;31m#print(ans)\u001b[0m\u001b[0;34m\u001b[0m\u001b[0;34m\u001b[0m\u001b[0;34m\u001b[0m\u001b[0m\n",
            "\u001b[0;31mKeyboardInterrupt\u001b[0m: "
          ]
        }
      ]
    },
    {
      "cell_type": "code",
      "metadata": {
        "id": "SUw-laOL1HYe",
        "colab_type": "code",
        "colab": {}
      },
      "source": [
        "for k in [1, 5, 10, 100, 500, 1000]:\n",
        "    print(\"DCG@%4d: %.3f | Hits@%4d: %.3f\" % (k, dcg_score(wv_ranking, k), k, hits_count(wv_ranking, k)))"
      ],
      "execution_count": 0,
      "outputs": []
    },
    {
      "cell_type": "markdown",
      "metadata": {
        "id": "iqIHC7_s1HYk",
        "colab_type": "text"
      },
      "source": [
        "If you did all the steps correctly, you should be frustrated by the received results. Let's try to understand why the quality is so low. First of all, when you work with some data it is necessary to have an idea how the data looks like. Print several questions from the data:"
      ]
    },
    {
      "cell_type": "code",
      "metadata": {
        "id": "iiFSCbJB1HYl",
        "colab_type": "code",
        "outputId": "ecaaeb8c-e3eb-4734-b228-284333f10fda",
        "colab": {
          "base_uri": "https://localhost:8080/",
          "height": 88
        }
      },
      "source": [
        "for line in validation[:3]:\n",
        "    q, *examples = line\n",
        "    print(q, *examples[:3])"
      ],
      "execution_count": 0,
      "outputs": [
        {
          "output_type": "stream",
          "text": [
            "How to print a binary heap tree without recursion? How do you best convert a recursive function to an iterative one? How can i use ng-model with directive in angular js flash: drawing and erasing\n",
            "How to start PhoneStateListener programmatically? PhoneStateListener and service Java cast object[] to model WCF and What does this mean?\n",
            "jQuery: Show a div2 when mousenter over div1 is over when hover on div1 depenting on if it is on div2 or not it should act differently How to run selenium in google app engine/cloud? Python Comparing two lists of strings for similarities\n"
          ],
          "name": "stdout"
        }
      ]
    },
    {
      "cell_type": "markdown",
      "metadata": {
        "id": "T9UlUEzd1HYn",
        "colab_type": "text"
      },
      "source": [
        "As you can see, we deal with the raw data. It means that we have many punctuation marks, special characters and unlowercased letters. In our case, it could lead to the situation where we can't find some embeddings, e.g. for the word \"grid?\". \n",
        "\n",
        "To solve this problem you should use the functions *text_prepare* from the previous assignments to prepare the data."
      ]
    },
    {
      "cell_type": "code",
      "metadata": {
        "id": "vt6D7aPt1HYn",
        "colab_type": "code",
        "colab": {}
      },
      "source": [
        "from util import text_prepare"
      ],
      "execution_count": 0,
      "outputs": []
    },
    {
      "cell_type": "markdown",
      "metadata": {
        "id": "zpbAEH5a1HYq",
        "colab_type": "text"
      },
      "source": [
        "Now transform all the questions from the validation set:"
      ]
    },
    {
      "cell_type": "code",
      "metadata": {
        "id": "SE__YVxfQ-nn",
        "colab_type": "code",
        "colab": {}
      },
      "source": [
        ""
      ],
      "execution_count": 0,
      "outputs": []
    },
    {
      "cell_type": "code",
      "metadata": {
        "id": "ryJ3r2Ly1HYr",
        "colab_type": "code",
        "colab": {}
      },
      "source": [
        "prepared_validation = []\n",
        "for line in validation:\n",
        "  p_t=[]\n",
        "  for t in line:\n",
        "    p_t.append(text_prepare(t))\n",
        "  prepared_validation.append(p_t)"
      ],
      "execution_count": 0,
      "outputs": []
    },
    {
      "cell_type": "markdown",
      "metadata": {
        "id": "QTcxilKB1HYt",
        "colab_type": "text"
      },
      "source": [
        "Let's evaluate the approach again after the preparation:"
      ]
    },
    {
      "cell_type": "code",
      "metadata": {
        "id": "BdMY3kyy1HYu",
        "colab_type": "code",
        "colab": {}
      },
      "source": [
        "wv_prepared_ranking = []\n",
        "for line in prepared_validation:\n",
        "    q, *ex = line\n",
        "    ranks = rank_candidates(q, ex, wv_embeddings)\n",
        "    wv_prepared_ranking.append([r[0] for r in ranks].index(0) + 1)"
      ],
      "execution_count": 0,
      "outputs": []
    },
    {
      "cell_type": "code",
      "metadata": {
        "id": "c4sJjFtz1HYw",
        "colab_type": "code",
        "outputId": "0d9524f2-f564-4fbd-a19a-6d753601273f",
        "colab": {
          "base_uri": "https://localhost:8080/",
          "height": 197
        }
      },
      "source": [
        "for k in [1, 5, 10, 100, 500, 1000]:\n",
        "    print(\"DCG@%4d: %.3f | Hits@%4d: %.3f\" % (k, dcg_score(wv_prepared_ranking, k), \n",
        "                                              k, hits_count(wv_prepared_ranking, k)))"
      ],
      "execution_count": 0,
      "outputs": [
        {
          "output_type": "error",
          "ename": "NameError",
          "evalue": "ignored",
          "traceback": [
            "\u001b[0;31m---------------------------------------------------------------------------\u001b[0m",
            "\u001b[0;31mNameError\u001b[0m                                 Traceback (most recent call last)",
            "\u001b[0;32m<ipython-input-1-b0cd82729b62>\u001b[0m in \u001b[0;36m<module>\u001b[0;34m()\u001b[0m\n\u001b[1;32m      1\u001b[0m \u001b[0;32mfor\u001b[0m \u001b[0mk\u001b[0m \u001b[0;32min\u001b[0m \u001b[0;34m[\u001b[0m\u001b[0;36m1\u001b[0m\u001b[0;34m,\u001b[0m \u001b[0;36m5\u001b[0m\u001b[0;34m,\u001b[0m \u001b[0;36m10\u001b[0m\u001b[0;34m,\u001b[0m \u001b[0;36m100\u001b[0m\u001b[0;34m,\u001b[0m \u001b[0;36m500\u001b[0m\u001b[0;34m,\u001b[0m \u001b[0;36m1000\u001b[0m\u001b[0;34m]\u001b[0m\u001b[0;34m:\u001b[0m\u001b[0;34m\u001b[0m\u001b[0;34m\u001b[0m\u001b[0m\n\u001b[0;32m----> 2\u001b[0;31m     print(\"DCG@%4d: %.3f | Hits@%4d: %.3f\" % (k, dcg_score(wv_prepared_ranking, k), \n\u001b[0m\u001b[1;32m      3\u001b[0m                                               k, hits_count(wv_prepared_ranking, k)))\n",
            "\u001b[0;31mNameError\u001b[0m: name 'dcg_score' is not defined"
          ]
        }
      ]
    },
    {
      "cell_type": "markdown",
      "metadata": {
        "id": "icSo15qv1HYz",
        "colab_type": "text"
      },
      "source": [
        "Now, prepare also train and test data, because you will need it in the future:"
      ]
    },
    {
      "cell_type": "code",
      "metadata": {
        "id": "xONqiz-z1HY1",
        "colab_type": "code",
        "colab": {}
      },
      "source": [
        "def prepare_file(in_, out_):\n",
        "    out = open(out_, 'w')\n",
        "    for line in open(in_, encoding='utf8'):\n",
        "        line = line.strip().split('\\t')\n",
        "        new_line = [text_prepare(q) for q in line]\n",
        "        print(*new_line, sep='\\t', file=out)\n",
        "    out.close()"
      ],
      "execution_count": 0,
      "outputs": []
    },
    {
      "cell_type": "code",
      "metadata": {
        "id": "xkJWjPIh1HY5",
        "colab_type": "code",
        "colab": {}
      },
      "source": [
        "prepare_file('data/train.tsv','data/train_prep.tsv')\n",
        "prepare_file('data/test.tsv','data/test_prep.tsv')"
      ],
      "execution_count": 0,
      "outputs": []
    },
    {
      "cell_type": "markdown",
      "metadata": {
        "id": "1aK9JuCL1HY8",
        "colab_type": "text"
      },
      "source": [
        "**Task 4 (W2VTokenizedRanks).** For each question from prepared *test.tsv* submit the ranks of the candidates to earn the points. The calculations should take about 3-5 minutes. Pay attention that the function *rank_candidates* returns a ranking, while in this case you should find a position in this ranking. Ranks should start with 1."
      ]
    },
    {
      "cell_type": "code",
      "metadata": {
        "id": "GkZmIvm-1HY9",
        "colab_type": "code",
        "colab": {}
      },
      "source": [
        "from util import matrix_to_string"
      ],
      "execution_count": 0,
      "outputs": []
    },
    {
      "cell_type": "code",
      "metadata": {
        "id": "rouN4XNR1HY-",
        "colab_type": "code",
        "outputId": "94d76db1-0661-4c7c-bcc0-d15138b17f44",
        "colab": {
          "base_uri": "https://localhost:8080/",
          "height": 54
        }
      },
      "source": [
        "w2v_ranks_results = []\n",
        "prepared_test_data = 'data/test_prep.tsv'\n",
        "for line in open(prepared_test_data):\n",
        "    q, *ex = line.strip().split('\\t')\n",
        "    ranks = rank_candidates(q, ex, wv_embeddings,300)\n",
        "    ranked_candidates = [r[0] for r in ranks]\n",
        "    w2v_ranks_results.append([ranked_candidates.index(i) + 1 for i in range(len(ranked_candidates))])\n",
        "    \n",
        "grader.submit_tag('W2VTokenizedRanks', matrix_to_string(w2v_ranks_results))"
      ],
      "execution_count": 0,
      "outputs": [
        {
          "output_type": "stream",
          "text": [
            "Current answer for task W2VTokenizedRanks is: 95\t94\t7\t9\t64\t37\t32\t93\t24\t100\t98\t17\t60\t6\t97\t49\t70\t38\t42\t96\t30\t21\t2\t65\t67\t45\t27\t26\t57\t62\t11\t88\t56\t66\t7...\n"
          ],
          "name": "stdout"
        }
      ]
    },
    {
      "cell_type": "markdown",
      "metadata": {
        "id": "hvV-cecU1HZA",
        "colab_type": "text"
      },
      "source": [
        "## Advanced solution: StarSpace embeddings\n",
        "\n",
        "Now you are ready to train your own word embeddings! In particular, you need to train embeddings specially for our task of duplicates detection. Unfortunately, StarSpace cannot be run on Windows and we recommend to use provided\n",
        "[docker container](https://github.com/hse-aml/natural-language-processing/blob/master/Docker-tutorial.md) or other alternatives. Don't delete results of this task because you will need it in the final project.\n",
        "\n",
        "### How it works and what's the main difference with word2vec?\n",
        "The main point in this section is that StarSpace can be trained specifically for some tasks. In contrast to word2vec model, which tries to train similar embeddings for words in similar contexts, StarSpace uses embeddings for the whole sentence (just as a sum of embeddings of words and phrases). Despite the fact that in both cases we get word embeddings as a result of the training, StarSpace embeddings are trained using some supervised data, e.g. a set of similar sentence pairs, and thus they can better suit the task.\n",
        "\n",
        "In our case, StarSpace should use two types of sentence pairs for training: \"positive\" and \"negative\". \"Positive\" examples are extracted from the train sample (duplicates, high similarity) and the \"negative\" examples are generated randomly (low similarity assumed). \n",
        "\n",
        "### How to choose the best params for the model?\n",
        "Normally, you would start with some default choice and then run extensive experiments to compare different strategies. However, we have some recommendations ready for you to save your time:\n",
        "- Be careful with choosing the suitable training mode. In this task we want to explore texts similarity which corresponds to *trainMode = 3*.\n",
        "- Use adagrad optimization (parameter *adagrad = true*).\n",
        "- Set the length of phrase equal to 1 (parameter *ngrams*), because we need embeddings only for words.\n",
        "- Don't use a large number of *epochs* (we think that 5 should be enough).\n",
        "- Try dimension *dim* equal to 100.\n",
        "- To compare embeddings usually *cosine* *similarity* is used.\n",
        "- Set *minCount* greater than 1 (for example, 2) if you don't want to get embeddings for extremely rare words.\n",
        "- Parameter *verbose = true* could show you the progress of the training process.\n",
        "- Set parameter *fileFormat* equals *labelDoc*.\n",
        "- Parameter *negSearchLimit* is responsible for a number of negative examples which is used during the training. We think that 10 will be enought for this task.\n",
        "- To increase a speed of training we recommend to set *learning rate* to 0.05."
      ]
    },
    {
      "cell_type": "markdown",
      "metadata": {
        "id": "RVdK8DD51HZB",
        "colab_type": "text"
      },
      "source": [
        "Train StarSpace embeddings for unigrams on the train dataset. You don't need to change the format of the input data. Just don't forget to use prepared version of the training data. \n",
        "\n",
        "If you follow the instruction, the training process will take about 1 hour. The size of the embeddings' dictionary should be approximately 100 000 (number of lines in the result file). If you got significantly more than this number, try to check all the instructions above."
      ]
    },
    {
      "cell_type": "code",
      "metadata": {
        "id": "xI9NLT8F1HZB",
        "colab_type": "code",
        "outputId": "fea2c2c0-5f5c-4362-8754-590f1a559e1c",
        "colab": {
          "base_uri": "https://localhost:8080/",
          "height": 935
        }
      },
      "source": [
        "!starspace train -trainFile \"data/train_prep.tsv\" -model starspace_embedding \\\n",
        "-trainMode 3 -adagrad true -ngrams 1 -epoch 5 -dim 100 -similarity cosine -minCount 2 \\\n",
        "-verbose true -fileFormat labelDoc -negSearchLimit 10 -lr 0.05"
      ],
      "execution_count": 0,
      "outputs": [
        {
          "output_type": "stream",
          "text": [
            "Arguments: \n",
            "lr: 0.05\n",
            "dim: 100\n",
            "epoch: 5\n",
            "maxTrainTime: 8640000\n",
            "validationPatience: 10\n",
            "saveEveryEpoch: 0\n",
            "loss: hinge\n",
            "margin: 0.05\n",
            "similarity: cosine\n",
            "maxNegSamples: 10\n",
            "negSearchLimit: 10\n",
            "batchSize: 5\n",
            "thread: 10\n",
            "minCount: 2\n",
            "minCountLabel: 1\n",
            "label: __label__\n",
            "label: __label__\n",
            "ngrams: 1\n",
            "bucket: 2000000\n",
            "adagrad: 1\n",
            "trainMode: 3\n",
            "fileFormat: labelDoc\n",
            "normalizeText: 0\n",
            "dropoutLHS: 0\n",
            "dropoutRHS: 0\n",
            "useWeight: 0\n",
            "weightSep: :\n",
            "Start to initialize starspace model.\n",
            "Build dict from input file : data/train_prep.tsv\n",
            "Read 12M words\n",
            "Number of words in dictionary:  95058\n",
            "Number of labels in dictionary: 0\n",
            "Loading data from file : data/train_prep.tsv\n",
            "Total number of examples loaded : 999740\n",
            "Initialized model weights. Model size :\n",
            "matrix : 95058 100\n",
            "Training epoch 0: 0.05 0.01\n",
            "Epoch: 100.0%  lr: 0.040000  loss: 0.043797  eta: 0h13m  tot: 0h3m26s  (20.0%)\n",
            " ---+++                Epoch    0 Train error : 0.04413907 +++--- ☃\n",
            "Training epoch 1: 0.04 0.01\n",
            "Epoch: 100.0%  lr: 0.030020  loss: 0.013435  eta: 0h9m  tot: 0h6m34s  (40.0%)\n",
            " ---+++                Epoch    1 Train error : 0.01330183 +++--- ☃\n",
            "Training epoch 2: 0.03 0.01\n",
            "Epoch: 100.0%  lr: 0.020230  loss: 0.009406  eta: 0h6m  tot: 0h9m37s  (60.0%)\n",
            " ---+++                Epoch    2 Train error : 0.00940813 +++--- ☃\n",
            "Training epoch 3: 0.02 0.01\n",
            "Epoch: 100.0%  lr: 0.010060  loss: 0.007650  eta: 0h3m  tot: 0h12m44s  (80.0%)\n",
            " ---+++                Epoch    3 Train error : 0.00771886 +++--- ☃\n",
            "Training epoch 4: 0.01 0.01\n",
            "Epoch: 100.0%  lr: 0.000030  loss: 0.006797  eta: <1min   tot: 0h15m47s  (100.0%)\n",
            " ---+++                Epoch    4 Train error : 0.00691282 +++--- ☃\n",
            "Saving model to file : starspace_embedding\n",
            "Saving model in tsv format : starspace_embedding.tsv\n"
          ],
          "name": "stdout"
        }
      ]
    },
    {
      "cell_type": "code",
      "metadata": {
        "id": "Ur94ovByogE8",
        "colab_type": "code",
        "colab": {}
      },
      "source": [
        "import pandas as pd"
      ],
      "execution_count": 0,
      "outputs": []
    },
    {
      "cell_type": "code",
      "metadata": {
        "id": "UnEpYUSlnoPu",
        "colab_type": "code",
        "outputId": "7233e450-3dc4-4914-fd76-e71573a894ab",
        "colab": {
          "base_uri": "https://localhost:8080/",
          "height": 1000
        }
      },
      "source": [
        "df=open('data/train_prep.tsv','r')\n",
        "df.readlines()"
      ],
      "execution_count": 0,
      "outputs": [
        {
          "output_type": "execute_result",
          "data": {
            "text/plain": [
              "['converting string list\\tconvert google results object pure js python object\\n',\n",
              " 'html 5 canvas javascript use making interactive drawing tool\\tevent handling geometries threejs\\n',\n",
              " 'sending array via ajax fails\\tgetting list items unordered list php\\n',\n",
              " 'insert cookiecollection cookiecontainer\\tc# create cookie string send\\n',\n",
              " 'updating one element bound observable collection\\twpf update changes list item list\\n',\n",
              " 'mongodb error find\\tretrieve queried element object array mongodb collection\\n',\n",
              " 'select2 displaying search results\\tuse jquery ajax outside domain\\n',\n",
              " 'using reduce merge multiple data frames passing arguments without defining function outside reduce syntax\\tr merge list data frames one data frame missing values row\\n',\n",
              " 'adding prototype javascript object literal\\tjavascript prototype work\\tjavascript setting property undefined prototyped object\\n',\n",
              " 'whats best way get directory assembly executing\\tdependency inversion principle important\\tdependency inversion compile time configured dependency injection aspnet mvc 4 solution\\n',\n",
              " 'min value sql query\\trow minimum value column\\n',\n",
              " 'media queries target desktop tablet mobile\\tmedia queries load resource\\n',\n",
              " 'opaque element transparent wpf\\twpf transparency changing elements bound\\toverride opacity parent control wpf\\n',\n",
              " 'smartthreadpool blocking ui thread\\twhats difference invoke begininvoke\\n',\n",
              " 'adding entity classes dynamically runtime\\tcreate entitymanagerfactory programatically without persistencexml file annotated classes\\n',\n",
              " 'possible use font awesome icon instead select default drop sign\\twould place fontawesome icon select dropdown menu\\n',\n",
              " 'ios 8 buttons horizontal scroll view intercepting pan event scroll work\\tswift uiscrollview working buttons\\n',\n",
              " 'expression type null ineligible implicit conversion\\tscala option type function parameter best practices\\n',\n",
              " 'safe display image using _get path\\tcsrf crosssite request forgery attack example prevention php\\n',\n",
              " 'change scroll bar position css\\tscroll bar top bottom datatables\\thorizontal scrollbar top bottom table\\n',\n",
              " 'possible use sqldbtypestructured pass tablevalued parameters nhibernate\\tcalling sql server stored procedure nhibernate pass list custom data type parameter\\n',\n",
              " 'private public qt signals\\tpeople use __ double underscore much c++\\tqt signals slots permissions\\n',\n",
              " 'ajax request working unless alert used\\tajax working without alert box\\n',\n",
              " 'injecting spring dependency jpa entitylistener\\teventlisteners using hibernate 40 spring 310release\\tinjecting spring bean jpa entity listener\\n',\n",
              " 'get n closest points coordinate firebase\\tlimit number queried items geofire\\n',\n",
              " 'jira login using jsoup\\tjsoupconnect throws 403 error apachehttpclient able fetch content\\n',\n",
              " 'dicom image bufferedimage windows 64\\tdisplay dicom image java application using imagej\\n',\n",
              " 'multiple order linq\\tgroup c# concat\\n',\n",
              " 'character text limit scrollview textblock\\ttextblock cutting text windows phone\\n',\n",
              " 'export excel via ajax vbnet webmethod binary\\texport data set excel raise file download dialog aspnet web method\\n',\n",
              " 'stop event propagation inline onclick attribute\\tstopproagation function called via onclick\\tpass event argument inline event handler javascript\\n',\n",
              " 'smooth animation html5 canvas\\tget smooth animation canvas game\\n',\n",
              " 'embeded document belong_to association mongoid\\tmongoid embedded document belongs_to embedded document\\n',\n",
              " 'use field datetime timestamp\\ttimestamp mysql cached retrieved different timezones\\n',\n",
              " 'length http get limited 2048\\tmaximum length url different browsers\\tmaximum length http get request\\n',\n",
              " 'give priority button\\tstacked buttons\\n',\n",
              " 'delete git branch locally remotely\\tstrip branches git repository\\n',\n",
              " 'javascript save data file system user prompt\\texport csv jquery\\n',\n",
              " 'rotate hoverinfo plotly\\tmake great r reproducible example\\n',\n",
              " 'reference returned assignment operator overload\\tflowing end nonvoid function without returning value produce compiler error\\n',\n",
              " 'golang processes shared memory\\tlinux run process several cores\\n',\n",
              " 'speed comparison sapply composite function\\trs apply family syntactic sugar\\n',\n",
              " 'remove specific value array using jquery\\tremove set items array jquery\\tjavascript remove array array\\n',\n",
              " 'apache web server doesnt allow refresh localhost working fine\\treactrouter urls dont work refreshing writting manually\\tcreate multi page app without node react js react router\\ttell webpack dev server serve indexhtml route\\n',\n",
              " 'get utf8 working java webapps\\tcharset filter causing issue parsing utf8 characters\\tenable reading nonascii characters servlets\\tutf8 url decode encode\\n',\n",
              " 'difference inheritance categories objectivec\\tuse categories\\n',\n",
              " 'problem randomnextgaussian\\trandom normal distribution java returns values outside range\\n',\n",
              " 'nspropertylistserialization alternative\\tnasty nspropertylistserialization leak\\n',\n",
              " 'possible repeat left side left outer join repeat\\tsql rank partition\\n',\n",
              " 'inspecting stl containers visual studio debugging\\teasy way watch vector element debugger\\n',\n",
              " 'download large file binary mode python\\thttp download big file\\n',\n",
              " 'addeventlistener vs onclick\\tassigning function windowonerror preferable windowaddeventlistener error callback\\n',\n",
              " 'way securely give password r application\\tencrypt password r connect oracle db using rodbc\\tset secure passwordprotected connection r server\\n',\n",
              " 'boost include two different versions strong_typedefhpp\\timplicit cast doesnt work boost_strong_typedef boost_spirit_debug_node\\tsimple types higher meaning c++11\\n',\n",
              " 'order headers http response ever matter\\tchange order http headers sent scrapy\\n',\n",
              " 'sub word string\\tscanner skipping nextline using next nextint nextfoo\\n',\n",
              " 'loading jquery chromeextension\\tuse jquery chrome extension\\n',\n",
              " 'targets specified makefile found\\tcant build bitcoin source make wont work\\n',\n",
              " 'starting calendar activity\\terror inserting event calendar intent\\n',\n",
              " 'jar files webcontent webinf lib available java design elements domino designer\\tcontents jar file found using jar design element designer 9\\n',\n",
              " 'stringsxml string arrays always parsed deserialized order\\tsorting stringarray\\tsort android stringsxml alphabetical order\\n',\n",
              " 'use loop get data file one one scripting\\tstrange hashing match time bash scripting\\n',\n",
              " 'display parts text jtable\\tjtable rowfilter rowfilterentry\\n',\n",
              " 'export javascript console log google chrome\\twrite files html5 js\\tjquery console log file\\tsave consolelog chrome file\\n',\n",
              " 'proper syntax using union bit fields inside struct\\tc++ disallow anonymous structs unions\\n',\n",
              " 'get value hash # url using jquery use page load\\twhats easiest way parse anchor current pages location\\n',\n",
              " 'css parent selector\\tuse css hover element parent container\\n',\n",
              " 'error inserting data mysql database\\tuse single quotes double quotes backticks mysql\\n',\n",
              " 'h5validate require repeated password\\tescape regular expression javascript\\n',\n",
              " 'reversible pseudorandom sequence generator\\tmap number range another range collisions\\n',\n",
              " 'make post request redirecting flask\\tredirect one page another along post data flask\\n',\n",
              " 'use sql subqueries versus standard join\\tnested select clause select differences\\n',\n",
              " 'filesystemwatcher create thread\\tget notified file modified outside program\\n',\n",
              " 'sql server 2000 treat select test select test\\tdbodbo valid\\n',\n",
              " 'jquery find radio button value\\tmake radio button selected using value\\n',\n",
              " 'fix error listen eaddrinuse using nodejs\\tubuntu open unblock ports nodejs\\n',\n",
              " 'show entire results show results\\tarbitrary precision number clipped\\n',\n",
              " 'windows ce sdk visual studio 2008\\tpossible compile code wince platform visualstudio windows\\n',\n",
              " 'python equivalent static variables inside function\\tpython cannot increase counter variable function\\n',\n",
              " 'deserialise nested json object dynamic field name\\tgenerics spring resttemplate\\tdeserializing hashmap custom objects jackson\\n',\n",
              " 'open specific page pdf file c#\\tadobe reader command line reference\\n',\n",
              " 'select rows dataframe based values column pandas\\tselect rows dataframe based multiple values column pandas\\n',\n",
              " 'jquery binding two event handlers one button element\\tjquery dom method getelementbyid find element\\n',\n",
              " 'generating series dates\\tuse clause mysql\\n',\n",
              " 'use apache_libcloud django google app engine\\tconfigure django google cloud storage\\n',\n",
              " 'calculate date week number\\tinvert week returned calendargetweekofyear back datetime\\n',\n",
              " 'illegalstateexception fetching contacts asynchronously\\tillegalstateexception couldnt read row 0 col 1 cursorwindow\\n',\n",
              " 'draw cross diagonal lines without using svg html canvas\\tdraw diagonal lines div background css\\n',\n",
              " 'gamedevelopment make spritegame dynamic resolutions\\txna viewport projection spritebatch\\tscale onscreen pixels\\n',\n",
              " 'store timezone info rails\\ttimezone offset rails\\n',\n",
              " 'save variable dropdown menu php\\tdifference singlequoted doublequoted strings php\\n',\n",
              " 'mysqli stmtnum_rows returning 0\\tstmtnum_rows return 0\\n',\n",
              " 'passing html markup aspnet user control\\tmvc wrap content static content usercontrols\\n',\n",
              " 'menu item customization google identity toolkit python\\tcould add menu items gitkit starter kit sign cum user info #navbar\\n',\n",
              " 'symfony2 devlog since weeks im seeing phpinfo lines\\tdisable deprecated warning symfony 2 7\\n',\n",
              " 'need make one instance array access multiple view controllers\\tpassing data view controllers\\n',\n",
              " 'fieldcache frequently updating index\\tlucene docid reliability\\n',\n",
              " 'pairwise comparison rows r\\tr fastest way pairwise comparing character strings similarity\\n',\n",
              " 'parse dates create time series csv\\tparse_dates pandas\\tpandas parse dates csv\\tpython pandas csv parsing\\n',\n",
              " 'free 2d array c\\tfree dynamic memory free\\n',\n",
              " 'localdb deployment client pc\\tcannot attach 2008 r2 database 2008 instance\\n',\n",
              " 'start google chrome specific locale using command line argument\\tuse lang switch chromeexe create chrome instance englishuk\\n',\n",
              " 'add new balls mouse click js html5 canvas\\tadd simple onclick event handler canvas element\\n',\n",
              " 'selenium grid chrome driver webdriverexception path driver executable must set webdriverchromedriver system property\\tchromedriver setup selenium grid 3 node\\n',\n",
              " 'android data binding using include tag\\tandroid databinding cannot cannot find symbol variable error use include tag\\n',\n",
              " 'custom sort array\\tphp custom sorting\\n',\n",
              " 'dynamic page rendering meteor\\tbest practices structuring large meteor app many html template files\\n',\n",
              " 'spread repeated measures multiple variables wide format\\tfunction returns na subset empty\\n',\n",
              " 'regular expression matching hhmm time format\\tjavascript regular expression validate time format 0915\\n',\n",
              " '2 column report r markdown render html aside data frame\\talign two dataframes next knitr\\n',\n",
              " 'truncate double number adding missing zeros end\\tfunctions truncating double java\\n',\n",
              " 'possibility duplicate mongo objectids generated two different collections\\tmongodb query comments along user information\\tcreate unique ids embedded documents mongodb using php\\n',\n",
              " 'maven repository invalid certificate\\tadd aem uber jar dependency maven build\\n',\n",
              " 'simplexmlelement error xml valid\\tstart tag expected found sitemapxml sure whats wrong\\n',\n",
              " 'xsd documentation part build process\\tconvert xsd human readable documentation\\n',\n",
              " 'test case android sqlite connection checking\\ttesting database android providertestcase2 renamingdelegatingcontext\\n',\n",
              " 'difference cursorcount cursorsize mongodb\\tcursorsize cursorcount true equivalent\\n',\n",
              " 'remove fatal error fetching assoc array\\tfindng exact value table php issue\\tvalues table php error\\n',\n",
              " 'run java application maximum maximum heap size available\\tmax amount memory per java process windows\\n',\n",
              " 'simple php code sample serve backbonejs\\tbackbonejs use php\\tsyncing backbone spine application database\\n',\n",
              " 'weird mysql query thats wracking brain\\tselect rows max column value distinct another column sql\\n',\n",
              " 'database backed i18n java webapp\\tstruts2 internationalization using database\\n',\n",
              " 'bufferedreader readline reading thread\\twrite read file simultaneously using java\\tread write data file simultaneously\\n',\n",
              " 'provide examples hard parse xml html regex\\tregex replace node attribute contents\\n',\n",
              " 'kill thread pthread library\\tkill pthread infinite loop outside loop\\tpthread kill child thread main thread\\tkill remaining threads come single one\\n',\n",
              " 'php replace umlauts closest 7bit ascii equivalent utf8 string\\treplace ae strings table\\treplace fields mysql\\n',\n",
              " 'use struct\\tusing new struct allocate heap stack\\tuse struct instead class\\n',\n",
              " 'global action filter aspnet mvc\\tputting common logic every action controller\\n',\n",
              " 'string recognized valid date time\\tdate excel recognized date\\texcel using date time multiple different region formats vb formulas\\n',\n",
              " 'dynamic data binding\\tgetting field value custom control multiple instances custom control\\n',\n",
              " 'use javascript replace\\tsearching values string updating string\\n',\n",
              " 'nicely format floating numbers string without unnecessary decimal 0\\tremove decimal part float number contains 0 java\\n',\n",
              " 'error parsing data orgjsonjsonexception value html type javalangstring\\tnullpointerexception fix\\n',\n",
              " 'vbnet isnothing versus nothing\\tnothing versus isnot nothing\\n',\n",
              " 'scopes lambda arguments rails 4 style\\tvalidates_overlap gem multiple scopes overwriting eachother\\tvalidates_overlap conditional scope\\n',\n",
              " 'canonical way check errors using cuda runtime api\\tcuda fill vector dynamic size device return contents another device function\\tallocation usage cuda device variable different functions\\n',\n",
              " 'perform click event google map maker automatically without clicking marker\\ttrigger onclick event marker google maps v3\\n',\n",
              " 'python django enabling tags modelstextfield\\thtml rendering django text field\\n',\n",
              " 'import error across entire django project\\trunning django tutorial tests fail module named pollstests\\n',\n",
              " 'using emacs autos instansiate stub module inputs0 outputs\\tusing regular expressions verilog port mapping\\tremove port declarations using regexp verilog mode\\n',\n",
              " 'take changes current branch move new branch git\\tmoving one branch another un tracked changes\\n',\n",
              " 'regex match open tags except xhtml selfcontained tags\\tparsing web page source code regex\\n',\n",
              " 'android google maps working builds apk file\\tandroid sha1 release keystore working google maps\\n',\n",
              " 'convert coordinates parent child uiview cgaffinetransform\\tget center uiview contained within uistackview\\n',\n",
              " 'parent parent parent better way\\tmoving multiple parents jquery efficient way\\n',\n",
              " 'sql count group\\tsql select single count opereator\\n',\n",
              " 'flash flex sdk as3 keep keyboard focus\\tthisfocus work properly firefox\\n',\n",
              " 'use python 266 spark biginsights cloud enterprise clusters\\tinstall python modules spark biginsights cloud enterprise\\n',\n",
              " 'come nonconst reference cannot bind temporary object\\tint value allowed c++\\n',\n",
              " 'return random line file interview question\\twhats best way return random line text file using c\\n',\n",
              " 'pass ajax response javascript variable\\treturn response asynchronous call\\n',\n",
              " 'simulating group_concat mysql function microsoft sql server 2005\\tmake query group_concat sql server\\tgroup results three tables\\n',\n",
              " 'error push pull github unable resolve githubcom\\treplicate repository github gitlab frequent updates\\n',\n",
              " 'pass variable settimeout function\\tsettimeout loop working\\tsettimeout forloop print consecutive values\\n',\n",
              " 'place div another\\toverlay one div another div\\n',\n",
              " 'use nodejs windows 7\\texecjsruntimeerror users#index ror\\tobject doesnt support property method rails windows 64bit\\tmichael hartls ruby rails tutorial toy_app user tour\\n',\n",
              " 'echo tab characters bash script\\tformatting output shell script\\n',\n",
              " 'build server broadcast real time video\\tstreaming webcam video flash using mp4 encoding\\n',\n",
              " 'storedprocedure return records insert row table\\tthread messaging system database schema design\\n',\n",
              " 'pass data two activities background activity always running\\tpass data background process another activity\\n',\n",
              " 'gliberror gst_parse_error element zbar\\tpython gstreamer script error message element h264parse\\n',\n",
              " 'process builder gives file directory mac runtime exec works fine\\tcurl command java file getting found\\n',\n",
              " 'sort multidimensional array value\\tmultisort works first depth array\\n',\n",
              " 'sending c++ protocol buffer messages ios\\tprotocol buffer messages via akka io sockets\\n',\n",
              " 'create simple draggable marker openlayers\\tdragging markers ordnance survey openlayers api\\tstyle point vector marker openlayers\\n',\n",
              " 'use final class java\\tdefining class final improves jvm performance\\tfinal classes cannot overridden java\\n',\n",
              " 'using keyword java\\tuse keyword correctly\\tjava way go\\tuse keyword\\n',\n",
              " 'replacing uppercase words ucword\\tdetecting replacing merged words myword word php regex\\n',\n",
              " 'method printing correct value due int division\\tdivision integers java\\n',\n",
              " 'failed resolve comfacebookandroidfacebookandroidsdk440\\tfailed resolve comfacebookandroidfacebookandroidsdk400\\n',\n",
              " 'generate random number array replace duplicates\\tjava8 code resolving intellij idea\\n',\n",
              " 'length n n\\tdouble vs single quotes\\n',\n",
              " 'handle json datetime returned wcf data services odata\\tformat microsoft json date\\textjs 4 displaying wcf datetime\\n',\n",
              " 'css pseudo elements hack ie 7\\tie8 css fontface fonts working content sometimes refresh hard refresh\\tcross browser dom ready\\tbest way check ie less 9 javascript without library\\n',\n",
              " 'import data excel sheet data table c#\\timporting excel datatable quickly\\n',\n",
              " 'use futurewindows standard file open dialogs\\tdelphi gui testing modal forms\\n',\n",
              " 'code output virtual functions like\\tc# keyword usage virtual+override vs new\\n',\n",
              " 'rails issues connection postgresql database\\tmountain lion postgres could connect\\n',\n",
              " 'completely uninstall nodejs reinstall beginning mac os x\\tremoving nodejs mountain lion\\n',\n",
              " 'random color generator\\tmeaning + sign\\tshort hand assignment operator + true meaning\\n',\n",
              " 'r sql server make query joining database table r dataframe\\tlimit col condition\\n',\n",
              " 'c# loop working supossed\\tfloating point math broken\\tmodulus operator working double c#\\n',\n",
              " 'index outside bounds array scriptsrender\\tstylebundle index outside bounds array\\n',\n",
              " 'warning uninitialized objects wrong order construction\\twarnings uninitialized members disappear c++11\\n',\n",
              " 'use css javascript\\tqueryselectorall getelementsbyclassname getelementsby methods return\\n',\n",
              " 'provided default copy constructor volatile\\tadd implicit conversion volatile\\n',\n",
              " 'make folder uncopyable\\tshredding files net\\n',\n",
              " 'use multiple queries entityframwork backed datagridview\\tmultiple clauses linq extension methods\\n',\n",
              " 'fastest way inserting entity framework\\tinsertion large number entities sql server 2012\\tsaving large graph entity framework 5\\timproving bulk insert performance entity framework\\tbulk insert linq entities\\n',\n",
              " 'embedded iframe within svg element\\tpossible embed youtube video svg\\n',\n",
              " 'sql job failed run c#net console application\\tjob sql server agent complete bids\\n',\n",
              " 'plugin found prefix http current project plugin groups orgapachemavenplugins orgcodehausmojo\\tmaven plugin prefix resolution work resolving findbugs jetty\\n',\n",
              " 'size bitmap returned camera via intent\\tandroid resize large bitmap file scaled output file\\n',\n",
              " 'jquery pluggin adding options callback function\\tjquery plugin adding callback functionality\\n',\n",
              " 'higher memory consumption java 8 java 7\\tjava 8 allocating much memory\\n',\n",
              " 'unable read appconfig values class library\\tchange default appconfig runtime\\n',\n",
              " 'determine user access requested page\\ttest aspnet location folder authorization programmaticly\\n',\n",
              " 'make cannot find fortran subroutine\\tdebug fortran 90 compile error specific subroutine generic foo 1\\tfortran 472 481 error specific subroutine generic vode 1\\n',\n",
              " 'could load file assembly one dependencies\\tc# trouble jobject\\n',\n",
              " 'unfinished stubbing detected mockito\\tmockito method behavior\\n',\n",
              " 'explicitly loading entitys collection\\tproper cache usage spring hibernate\\n',\n",
              " 'nonline dependent conditional breakpoints\\tbreakpoints tied lines rather set state\\n',\n",
              " 'know row uitableview selected\\tknow uitableview selected cell\\n',\n",
              " 'long task android quickly\\tget list photo galleries android\\n',\n",
              " 'reading files typolgy folder\\tcorrect way write files\\n',\n",
              " 'move constructor assignment operator impletemented using copyandswap idiom\\tpass parameters correctly\\tmove semantics\\n',\n",
              " 'fragment loads data every time switch tabs\\tdynamically changing fragments inside fragment tab host\\n',\n",
              " 'mvc3 app restarting every pageload\\tcauses application pool iis recycle\\n',\n",
              " 'gmail like url scheme\\tpossible make webpage url iframe url\\n',\n",
              " 'knockout dropdown parent view model\\treturn response asynchronous call\\n',\n",
              " 'dynamically create lexer rule\\tantlr tokens file\\n',\n",
              " 'create hidden field javascript\\tforward get parameter next url\\tget query string values javascript\\n',\n",
              " 'android detect change mediastore connected mtp\\tandroid broadcastevent recieved media files added removed edited mtp devices\\n',\n",
              " 'reading git repository without git\\tbest method language git pull web browser\\n',\n",
              " 'insert c# sqlcommand\\texecute sql c#\\n',\n",
              " 'cloud dataflow bigquery many sources\\tgoogle cloud dataflow bigqueryiowrite occur unknown error http code 500\\n',\n",
              " 'nested object properties dynamic name\\tset object property object property given string name javascript\\tsetting nested object properties dynamic name\\teval new function thing\\n',\n",
              " 'div resizable like textarea\\tcodemirrortextarea resizable like standard textarea\\n',\n",
              " 'get first child group active record\\tmysql order group\\n',\n",
              " 'emojis slowing scrolling uicollectionview\\tscrolling uicollectionview uses lots memory leading crash\\n',\n",
              " 'issue html tags scraping data using beautiful soup\\tparse javascript object declaration doesnt use strings property names using python beautifulsoup\\tparsing variable data javascript tag using python\\n',\n",
              " 'callback function parsing json jquery\\tjsonp\\n',\n",
              " 'aggregates pods special\\tpushback struct vector\\n',\n",
              " 'adding external css html file\\thide email form sumbission\\n',\n",
              " 'overriding protected internal protected\\toverriding overridden methods must accessibility isnt true pagecreatechildcontrols\\n',\n",
              " 'javascript get final result url 302 redirect img src\\tgetting new images url\\n',\n",
              " 'loading 8bpp grayscale bmp c\\twriting bmp image pure c c++ without libraries\\n',\n",
              " 'calculate distance mesh edges\\tdetermine thickness vs width using raycasting\\n',\n",
              " 'securestring password stored database\\tconvert securestring systemstring\\thashing securestring net\\tsecurestring byte c#\\tobtain sha256 string string\\n',\n",
              " 'paginated query using sorting different columns using row_number sql server 2005\\tsql row_number function clause\\tuse row_number\\n',\n",
              " 'android fragments get issue getfragmentmanager\\tandroid fragment manager incompatible types\\n',\n",
              " 'get data like json nsdictionary\\tuse swiftyjson parse json data foundation object loop data\\titerate object dictionary ordered form swift\\n',\n",
              " 'php set timeout script system call set_time_limit working\\tenforce time limit call exec\\n',\n",
              " 'start activity another application\\tcannot start another activity another application\\n',\n",
              " 'exit without error telnet mozrepl\\tcant close scpi telnet session echo use script\\n',\n",
              " 'whats difference ruby namespace conventions\\tway namespace poro class without module\\n',\n",
              " 'x foo\\toperator work\\n',\n",
              " 'double star star parameters\\tpython method function arguments starting asterisk dual asterisk\\tasterisk mean python\\targs kwargs mean\\n',\n",
              " 'recursive fibonacci\\tfibonacci series\\n',\n",
              " 'long notifications stored apns servers\\tlong push notification sit queue removed\\n',\n",
              " 'python managepy migrate error\\tpostgresql password authentication failed user postgres\\n',\n",
              " 'working aroung passing implicit parameter every single template\\taccess play framework 24 guice injector application\\n',\n",
              " 'check visibility software keyboard android\\tcapture virtual keyboard show hide event android\\tmaintain keyboard open closed state edittext app comes foreground\\n',\n",
              " 'bash delete elements array based pattern\\tremoving certain strings array\\n',\n",
              " 'rotate around center point unity c#\\trotate object around specific point space point cursor\\n',\n",
              " 'extract strings double quotes localization\\tregex grabbing values quotation marks\\n',\n",
              " 'ipad screensaver application\\tipad get images custom album device issue\\n',\n",
              " 'microsoftaceoledb120 provider registered local machine\\tc# application stopped working systeminvalidoperationexception\\n',\n",
              " 'way distinguish batch file ran executable\\tget command line arguments processes net c#\\n',\n",
              " 'multiplestep ole db operation generated errors check ole db status value available work done\\tssis access db multiplestep ole db operation generated errors\\n',\n",
              " 'php default lifetime session\\tmake cakephp session infinite\\n',\n",
              " 'simple performance test different results\\tmake frame display 50 times 1 second disappear time displayed\\twrite correct microbenchmark java\\tmake program faster simple\\n',\n",
              " 'reset values pie chart map click reset option dcjs\\tloading external csv file jsfiddle\\n',\n",
              " 'using custom wcf body deserialization without changing uri template deserialization\\tconverting wcf soap service library rest service library mvc\\turitemplates custom wcf 45 webhttpbehavior\\n',\n",
              " 'sublime text generate wrong form_for tag\\tleave parentheses ruby\\n',\n",
              " 'access data javascript ctype pointer type uint8_t\\tmozilla ctypes feeding arraybuffer c array\\n',\n",
              " 'rails activerecordmultiparameterassignmenterrors\\tactiverecordmultiparameterassignmenterrors mean\\n',\n",
              " 'backbonejs elegant way check data ready dataset empty\\tbackbone clean efficient way wait multiple events fetched triggering event\\n',\n",
              " 'visual studio 2010 c++ project remove sdf file\\tparsing issue visual studio 2010 sp1\\n',\n",
              " 'third party library binding callbacks need access class properties\\tvar mean javascript\\n',\n",
              " 'libjsonh used debian\\ttrouble installing rjsonio r 302 debian wheezy 73\\n',\n",
              " 'executorservice job\\tgwt celltable checkboxcell working ie8\\n',\n",
              " 'bind function dom events execute second time triggering event\\tway force event fire given element per element whole document using live\\tusing one together one handler element\\n',\n",
              " 'powermock + easymock private void method without invokation\\tmocking protected method\\tpowermocking new instantiation\\n',\n",
              " 'background postalcodesuffix geocoder address_components\\textracting plus 4 zip code geocoding using google api jquery\\n',\n",
              " 'convert char int c c++\\tc++ convert ascii int char int\\n',\n",
              " 'want generate hash identify given machine java\\tretrieve hard disks unique id using java+jni linux windows mac\\n',\n",
              " 'make great r reproducible example\\tr aggregate data 6monthly periods group\\n',\n",
              " 'show sure want navigate away page changes committed\\tdisable authentication required confirm navigation popup\\n',\n",
              " 'react reduxthunk component doesnt render thisprops\\tredux + thunk + axios + consume external api uncaught typeerror cannot read property 1 undefined\\n',\n",
              " 'strncpy string c programming doesnt perform well second time\\treading string input space character\\n',\n",
              " 'dynamically add values resources c#\\tuse resourcesresx dynamically e add new items dynamically\\n',\n",
              " 'hide cursor swing application\\thide java cursor place screen\\n',\n",
              " 'parallax image sticky header scroll work properly\\tretrieve position x html element\\n',\n",
              " 'blazeds streaming endpoint tomcat 7 working\\ttomcat doesnt blazeds streaming version 7027\\n',\n",
              " 'calling methods companion object\\tmean scala 28 documented\\n',\n",
              " 'java resume download urlconnection\\tfile corrupted downloading merging\\n',\n",
              " 'mule ftp polling stops without error warning\\tcommons net ftpclient hangs indefinitely mule\\n',\n",
              " 'jquery livequery problem\\tdifference div id div class\\tdiv class vs id\\tcss class id interchangeable\\tcss best practice id class\\tcascading style sheets use id class\\n',\n",
              " 'memory comparison faster\\tc array comparison\\n',\n",
              " 'entity framework code first update single property complex type\\ttracking changes complex types entity framework\\n',\n",
              " 'get current user active directory ldap using vba ado connection\\tget current user identity vpn user windows forms app\\tget current logged active directory username vba\\n',\n",
              " 'hosted powershell cannot see cmdlets assembly\\ttrying invoke pscmdlet class within c#\\n',\n",
              " 'using auto layout uitableview dynamic cell layouts variable row heights\\tios8 autosize table cell contains inner table\\n',\n",
              " 'replacing documentwrite problems research still failed\\tcould someone explain documentwrite overwrites entire page\\n',\n",
              " 'rails namescoped model object without module prefix route path\\trails 3 routes modules\\n',\n",
              " 'change eclipse use spaces instead tabs\\tinserting spaces instead tabs files\\n',\n",
              " 'convert int ascii back python\\tcython cast int 65 char\\n',\n",
              " 'apply css div using jquery appears screen\\tcheck element visible scrolling\\tshow hide div passed div\\n',\n",
              " 'cors working chrome\\tcors policy cached image\\n',\n",
              " 'mass update alfresco using cmis\\tfilter folder children using cmis query\\n',\n",
              " 'xslt output unmatched elements two pieces xml\\tfiltering xml tags using xslt\\n',\n",
              " 'angularjs two directives one element\\tnuances scope prototypal prototypical inheritance angularjs\\n',\n",
              " 'printout html5 canvas\\tprinting contents canvas tag\\tcapture html canvas gif jpg png pdf\\n',\n",
              " 'change css class input validation error razor\\tapply twitter bootstrap validation style message aspnet mvc validation\\n',\n",
              " 'read parse csv files c++\\tchecking see mistakes inputted file\\n',\n",
              " 'way convert number words integers\\ttell python convert integers words\\tcode golf number words\\n',\n",
              " 'list goals targets gnu make contain variables definition\\tget list targets makefile\\trake dbmigratereset listed rake\\n',\n",
              " 'things look writing stdallocator replacement stl containers\\tc++ standard library boehm garbage collector\\n',\n",
              " 'mysql failed read autoincrement value storage engine\\tselect insert database\\n',\n",
              " 'php gd add padding image\\tphp gd add padding image keep rectangle\\n',\n",
              " 'give aspnet access private key certificate certificate store\\toperate x509 certificates net code\\n',\n",
              " 'retrieve queried element object array mongodb collection\\tget update nested document mongo db using java\\n',\n",
              " 'trigger function update complete\\tbug update treetable\\n',\n",
              " 'check object shelve\\tpython class inherits object\\tdifference old style new style classes python\\n',\n",
              " 'laravel task scheduler reliable\\tboost asio io_service guarantee execution two parallel call chains\\n',\n",
              " 'possibility solve index sql server\\tclustered non clustered index actually mean\\n',\n",
              " 'combining cbind vectors different length\\tcombine matrixes vectors different length together r\\n',\n",
              " 'automatically adjust columns width fit datagridview\\tautomatically resize columns datagridview control allow user resize columns grid\\n',\n",
              " 'arrays linked lists data structures cmdexe batch script\\tbatch variable definition useable count loop\\n',\n",
              " 'android studio local path doesnt exist\\tgetting local path exist android project intellij idea\\n',\n",
              " 'main thread die\\tmultiple threads using systemoutprintln java\\n',\n",
              " 'mock documentcookie using javascript\\tsafely overriding documentcookie google chrome extension\\n',\n",
              " 'css vertical alignment inline inlineblock elements\\tcss inlineblocks directly side side\\n',\n",
              " 'installing python343 3 tests failed 3 altered execution environment 25 skipped\\tgetting errors failing tests installing python343 lubuntu 1404\\n',\n",
              " 'let asmx file output json\\tcannot call webmethod jquery\\n',\n",
              " 'option use attributes new atl projects removed visual studio 2008\\tload data attributed database class generated mfc application wizard\\n',\n",
              " 'use openmp iterating map\\tc++ openmp nonrandomaccess stl containers possible workaround\\n',\n",
              " 'use result one query another query php mysql\\tshouldnt use mysql_ functions php\\n',\n",
              " 'shouldnt use mysql_ functions php\\tcreate json format\\n',\n",
              " 'delphi capture app window windows10\\tgetwindowrect returns size including invisible borders\\n',\n",
              " 'convert nsarray value int\\tconvert nsstring nsinteger\\n',\n",
              " 'convert ereg expressions preg php\\tform sending function eregi deprecated\\tescape string use mail\\n',\n",
              " 'possible add components uidatepicker\\trewrite uidatepicker component\\n',\n",
              " 'php zip files fly\\tmanipulate archive memory php without creating temporary file disk\\tphp zip 3 small text files force download\\n',\n",
              " 'could read infoplist\\txcode cant open infoplist error says file\\n',\n",
              " 'whats best way check string contains url java android\\ttest string url format\\n',\n",
              " 'allow user install mysql users machine easily connect via java application\\tjava sqlite\\n',\n",
              " 'side effects application level initialization libraries\\tusing application class hackworkaround configuration changes acceptable\\n',\n",
              " 'font list empty imagemagick\\tinstalling additional fonts imagemagick gae flexible environment\\n',\n",
              " 'method http https based current url\\tlink without protocol valid xhtml ie href wwwexamplecom\\n',\n",
              " 'c# use custom extensions generic method\\tdoesnt c# allow static methods implement interface\\n',\n",
              " 'pycharm unit test interactive debug command line doesnt work\\toutput console unittests pycharm 2017\\n',\n",
              " 'show instances missing eclipse debug view\\tcannot drop frame\\n',\n",
              " 'load wpf bitmapimage systemdrawingbitmap\\twpf use systemdrawing wpf\\tshow drawingimage wpf\\tusing image control wpf display systemdrawingbitmap\\n',\n",
              " 'php + mysql transactions examples\\tphp mysql simple code implement transaction commit rollback\\n',\n",
              " 'threadpool sending emails\\tthreadpool memory btstackserver exception net\\n',\n",
              " 'pdo bindparam vs execute\\tsql null insertion working\\tinsert null values using pdo\\n',\n",
              " 'make base class call virtual function\\tcall base implementation overridden virtual method\\tcall virtual method another method base class even current instance derivedclass\\n',\n",
              " 'filtering unsorted list faster filtering sorted list\\tprocessing sorted array slower unsorted array\\tfaster process sorted array unsorted array\\n',\n",
              " 'starting stopping ffmpeg pipeline python\\tpython execute cat subprocess parallel\\n',\n",
              " 'phpintl installation xampp\\tmagento says intl installed php shows\\n',\n",
              " 'javascript position constructor declarations relative use inside function\\tjavascript function declaration evaluation order\\n',\n",
              " 'overriding methods swift extensions\\txcode 8 release fastest smallest os weird issue functional well case\\n',\n",
              " 'show 0 incomplete series highcharts\\tmake highcharts default 0 missing data\\n',\n",
              " 'run sql server stored procedure query value csv\\tsplit insert csv data new table single statement\\n',\n",
              " 'wordpress every seo plugins results admin kicked sufficient permissions\\twordpress + cloudfront flexible ssl ends redirect loop https\\n',\n",
              " 'grab raw raw html within certain xpath local file python\\tget text inside tag lxml\\n',\n",
              " 'see far index regex went unsuccessful match\\tregex compare string see differece\\tdecompile assembly project\\tshow subregex failed match\\n',\n",
              " 'global qualification base specifier\\tglobal qualification class declarations classhead\\tcrazy c++11 syntax struct bar foo\\n',\n",
              " 'angularjs + jquery get dynamic content working angularjs\\tget dynamic content working angularjs button click\\n',\n",
              " 'c# iterating enum indexing systemarray\\titerate enum\\n',\n",
              " 'mysql incorrect datetime format\\tuse big int regular int mysql store timestamp\\n',\n",
              " 'pass value page chrome extension development\\ttrigger event chrome extension popup displayed\\n',\n",
              " 'javacards ide jcop tools eclipse unavailable download\\tselect hello world applet sam card send apdu receive 48 65 6c 6c 6f equivalent hello string\\n',\n",
              " 'fading text bottom section transparent div height stays section overlaying div\\thiding content shadow\\n',\n",
              " 'primefaces 34 datatable doesnt refresh correctly delete row\\tprimefaces datatable row delete delete row ui\\n',\n",
              " 'resize image c#\\tresize added picture ppt slide c#\\tresize image proportionally maxheight maxwidth constraints\\n',\n",
              " 'subtract two 64 bit integers 8086 assembly\\tfile size assembly\\tget file size stat syscall\\n',\n",
              " 'scanning barcode ios 8 displaying barcode\\tbarcode generation within ios app\\tqr code scanning ios application\\tgetting white screenshot\\n',\n",
              " 'eclipse error alert opening graphics layout\\tadt 223 android 44 getting error scene creation #init must called\\n',\n",
              " 'custom redirect authorizationhandler aspnet core\\tcreate custom authorizeattribute aspnet core\\n',\n",
              " 'tell ajaxactionlink onsuccess callback element initiated ajax\\tusing ajaxactionlink\\tjavascript onclick get id clicked button\\n',\n",
              " 'dedicated distributed system handle matlab jobs\\tbuy remote matlab processing time\\n',\n",
              " 'design interface vs ioc di\\tneed ioc container opposed straightforward di code\\n',\n",
              " 'android dex gives bufferoverflowexception building\\tunable execute dex javaniobufferoverflowexception check eclipse log stack trace\\n',\n",
              " 'handle shopping cart payment android app\\tshopping cart api payment gateway paypal least required\\n',\n",
              " 'get column names table sql server\\tuse group concatenate strings sql server\\ttrying format sql query results\\n',\n",
              " 'get indicies unique rows matrix\\tfind indices duplicated rows\\n',\n",
              " 'want send large data ex listt sp using nhibernate net\\tpassing list sql stored procedure\\n',\n",
              " 'get textbox accept numeric input wpf\\tnumeric textbox c# wpf\\n',\n",
              " 'add gridview rows datatable\\tadd gridview rows\\n',\n",
              " 'popping view controller immediately pushing\\tiphone uinavigation issue nested push animation result corrupted navigation bar\\n',\n",
              " 'handling data php json object\\tget data json object\\n',\n",
              " 'uiimageview anyway use 2 content modes time\\talignment uiimageview aspect fit\\n',\n",
              " 'database useragent browser brand mappings exist\\tonline user agent database\\n',\n",
              " 'wix database deployment installation\\twix load items combobox\\n',\n",
              " 'use multiple arrays single foreach loop\\ttwo arrays foreach loop\\n',\n",
              " 'aspnet core rc1 application stopped working started working\\tmethod found newtonsoftjsonjsonserializersettings microsoftaspnetmvcmvcjsonoptionsget_serializersettings\\n',\n",
              " 'sql detect sequence break\\tinsert 0 999999 rows table mysql\\n',\n",
              " 'memory requirements object reference 64 bit jvm\\tbad many references object\\n',\n",
              " 'node app created enclose module getting shuts idle production mode\\tnode js create build commercial usage\\tcreate node js applicaton compiled jxcore commercial usage\\n',\n",
              " 'poedit keywords plurals\\ttranslate cakephps core domain strings poedit\\tmake poedit correctly parse custom ngettext implementation\\n',\n",
              " 'mysql query help\\tsum multiple columns across multiple tables grouping date\\n',\n",
              " 'sort primary date key secondary alphanumeric php\\tphp sort multidimensional array element containing date\\n',\n",
              " 'android check service running dont work\\tcheck service running android\\n',\n",
              " 'matlab import multiple csv files mixed data types\\tread csv files matlab would r\\n',\n",
              " 'develop iphone using windows development machine\\tbuild ios windows\\n',\n",
              " 'ajax call create instance model onclick rails 4\\truby rails structuring data ajax call controller action\\tjqueryajax returns 400 bad request\\n',\n",
              " 'code analyzers recommend dispose idisposable fields\\talways necessary implement idisposable object idisposable member\\n',\n",
              " 'reversing linked list java recursively\\treverse linked list recursively java\\n',\n",
              " 'css prevent child element inheriting parent styles\\tmake parent div webkitfilter affect children\\n',\n",
              " 'cross platform net\\tbest practices portable c#\\n',\n",
              " 'getting 411 length required error parameters long\\tgetting request payload post request java servlet\\n',\n",
              " 'net string immutable\\ttried replace trim cannot remove quotation mark string c#\\n',\n",
              " 'filling custom tableviewcell images\\tdrawing 6 imageviews inside 1 cell\\n',\n",
              " 'mailer error following address failed called mail without connected\\tcalled mail without connected mailed error\\n',\n",
              " 'getting error could find class androidappappopsmanager referenced method comgoogleandroidgmscommongoogleplayservicesutilzza\\table use google place api\\n',\n",
              " 'draw line draggable droppable\\tjsrender call external template nested template\\tjquery x document coordinates dom object\\n',\n",
              " 'pipeline create voronoi meshes\\tvoronoi diagram edges get edges form point1 point2 scipyspatialvoronoi object\\n',\n",
              " 'log search requests android\\tandroid place quick search box application\\n',\n",
              " 'convert pcm samples byte array floating point numbers range 10 10 back\\tchange audio samplerate code currently changed bit depth\\n',\n",
              " 'create sql server ce database delphi\\tconnecting sql compact file sdf using ado connection delphi\\n',\n",
              " 'python unicode windows console\\treading unicode file data bom chars python\\n',\n",
              " 'use angular js validation google api\\tangularjs form validation inside google places directive\\n',\n",
              " 'mwfeedparser inapp web browser instead safari\\tnsxmlparser example\\tbest method parse rss feeds iphone\\n',\n",
              " 'create density plot matplotlib\\tfrequency trail matplotlib\\n',\n",
              " 'comment tests\\tunit test documentation\\n',\n",
              " 'doesnt selector h3nthchild 1 contains work\\ttool use test contains css3 pseudoclass browser\\n',\n",
              " 'jquery animate stop scrolling user scrolls manually\\tslowly scroll page permanently without heavy cpu usage laggy scrolling\\n',\n",
              " 'error facebook video sharing ios objective c\\tshare nsdata phasset video using facebook ios sdk 40 fbsdksharedialog\\n',\n",
              " 'load remote javascript files via address bar\\tfire event formelementeventobserver using prototypejs\\ttrigger event prototype\\n',\n",
              " 'delete duplicates mysql table\\tdelete duplicate record without primary key unique key temp table\\n',\n",
              " 'app engine ssl custom domain within developer console via google apps\\tappengine subdomains modules without wildcard mapping\\n',\n",
              " 'xms xmx parameters starting jvms\\tvm option netbeansproject properties\\txxmaxpermsize\\tset vm options java netbeans platform modular project\\n',\n",
              " 'need insert value based year_num\\tsql server auto increment column without primary key\\n',\n",
              " 'autoupdate library net\\tupdate application files using patching\\n',\n",
              " 'documentgetelementbyid vs jquery\\treplacing contents div using loop jquery\\tjqueryajax inside loop\\tjavascript closure inside loops simple practical example\\n',\n",
              " 'ssis reading multi part text file\\tsplit string access item x\\n',\n",
              " 'adding subview larger cellheight uitableviewcell\\tadjusting positions labels uitableviewcell\\n',\n",
              " 'get name size image javascript\\tjavascript closure inside loops simple practical example\\n',\n",
              " 'cant find light table cheat sheet\\tlight table paredit surround parens\\n',\n",
              " 'want store value html5 input type date element want store exact database\\tconverting date mysql string field\\n',\n",
              " 'cast result malloc\\tpoint one structure another\\n',\n",
              " 'import export collections mongodb database using mongodb java driver\\texport import mongodb databases java\\n',\n",
              " 'flat file retain commas sql data\\tcommas within csv data\\n',\n",
              " 'jpa synchronize persistence context result bulk update delete\\tentitymanager refresh\\n',\n",
              " 'defining type aliases\\tequivalent typedef c#\\tusing statements inside outside namespace\\n',\n",
              " 'branch ahead origin master 3 commits\\tgit branch ahead x commits\\n',\n",
              " 'good openid implementation erlang\\terlang implementation openid use\\n',\n",
              " 'c++\\tpreventing console window closing visual studio c c++ console application\\n',\n",
              " 'python lxml adding deleting tags\\thandle adding elements parents using xpath\\n',\n",
              " 'c++ static member initalization template fun inside\\tstatic field initialization order\\tinitialization order static data inside class template\\n',\n",
              " 'aspnet mvc handleerror\\thandleerror display exception message error page\\n',\n",
              " 'httpclient wont import android studio\\tput apache http legacy jar app libs folder disappeared android studio 14\\tlibs directory android studio\\n',\n",
              " 'c# create window service synchronize ms access sql server\\tmight schedule c# windows service perform task daily\\teasiest language creating windows service\\n',\n",
              " 'authenticating using subdomain route\\tpossible make aspnet mvc route based subdomain\\n',\n",
              " 'communication 2 nodes cluster\\tcommunication local jvms\\n',\n",
              " 'remove specific json oobjects file store file\\tpython wrong way remove element dict\\n',\n",
              " 'refrain handling promise rejection asynchronously\\tthrow exception async function\\n',\n",
              " 'add android studio library\\tadd library project android studio\\n',\n",
              " 'ios deployment target 43 base sdk 60 working ios 6 device\\tios 6 autorotation simulator varies actual ios 6 device\\n',\n",
              " 'c# sql server input\\tbad storage property unknown cause\\n',\n",
              " 'app crashes screen locked\\tstarting activity fragment causes nullpointerexception\\n',\n",
              " 'offset x value starting point matplotlib\\tplotting line thats first value x 0\\n',\n",
              " 'cast result malloc\\tvalgrind invalid free string array c\\n',\n",
              " 'messagequeueexception 0x80004005 access message queuing system denied\\twin service getting permission denied message queuing\\n',\n",
              " 'real aspnet memory leak visual studio blame\\taspnet website memory usage quite high\\n',\n",
              " '# mean lisp\\tnecessary put # cases lisp\\n',\n",
              " 'twitter intents tweet event callback triggering click instead tweet\\tdetect page shared twitter linkedin\\n',\n",
              " 'javafx tableview sort policy\\tjava lambda local variable declaration issue\\n',\n",
              " 'get link href value using htmlagilitypack\\tget links title href value separately html agility pack\\n',\n",
              " 'best practice making ajax call angularjs\\tcalling php file angularjs\\n',\n",
              " 'angularjs tabs ngrepeat\\tangularjs tabs acting weird\\n',\n",
              " 'solve unsupported class version number 520 maximum 510 java17\\terror proguard unsupported class version number\\tunsupported majorminor version 520 visual studio + xamarin\\n',\n",
              " 'sql server error maximum number prefixes maximum 3 join syntax\\tsql server error maximum number prefixes maximum 3 subselect syntax\\n',\n",
              " 'key hash androidfacebook app\\tandroid facebook login working native facebook installed\\n',\n",
              " 'controlling tabs forms c# winform application\\thide tabpage tabcontrol\\n',\n",
              " 'wire gwt hyperlink click handler\\tknow menu item clicked\\n',\n",
              " 'oracle external table options\\tproblem finding list files directory\\n',\n",
              " 'efficient way find next 13rd friday using programming\\tcalculating future occurrences friday 13th\\n',\n",
              " 'figure call llvmtargetmachineemittofile fails called using llvmsys\\tsegfault calling llvm_sys llvmcreatetargetmachine generate object file rust\\n',\n",
              " 'difference xml schema dtd\\tchoose dtd xsd\\tuse xsd dtd xml\\n',\n",
              " 'change language settings locale device\\tandroid settings localepicker honeycomb\\n',\n",
              " 'android studio doesnt show lg g5 connected devices\\tinstall adb interface driver android\\n',\n",
              " 'replace character html entity #257\\tsymbols like database\\tphp multi byte str_replace\\treplace unicode character\\n',\n",
              " 'java classcast vs cast operator\\tuse java 5 method cast class\\twould use javalangclasscast\\n',\n",
              " 'happens modify element stdset\\talternative setlike data structure modifying elements necessary\\n',\n",
              " 'convert string code\\tevaluate custom input conditions java\\n',\n",
              " 'nodejs write input values formular json file submit button pressed\\tput submitted data form json file via nodejs\\n',\n",
              " 'xml json parser used oracle query\\trunning json_object oracle 12102 saying error\\n',\n",
              " 'case objects vs enumerations scala\\tcreating java enum scala\\n',\n",
              " 'grab numbers string array place int array\\tdetermine string integer java\\n',\n",
              " 'lintchecking tools objectivec development\\tobjectivec similar tool like stylecop net\\n',\n",
              " 'error commicrosoftwindowsazuremobileservicesmobileserviceexception error authenticating user\\tsecurity error persist data azure android app\\n',\n",
              " 'fetching core data values using predicate\\tfetching data entity using nspredicate\\n',\n",
              " 'google map directions api cant perform route path request\\tanswer draw path two points using google maps android api v2\\tdraw interactive polyline route google maps v2 android\\n',\n",
              " 'jpa hibernate inheritance multiple levels tables\\tmix inheritance strategies jpa annotations hibernate\\tmapping multilevel inheritance hibernate annotations\\n',\n",
              " 'php 56 ssl certificate verify\\tphp 56 openssl change cert path\\n',\n",
              " 'tablesorter extracting filtered data csv file\\textracting filtered table data\\n',\n",
              " 'non repeating random number array\\tget different random numbers\\n',\n",
              " 'android notification working\\tone time alarm working\\n',\n",
              " 'expand text search class properties include numeric text comparision\\tsearch observablecollection text match\\tdynamic expression tree filter nested collection properties\\n',\n",
              " 'add cookie webclient\\tusing one webclient instance multiple xamlcs files\\n',\n",
              " 'unknown class interface builder file using class inherits generic class storyboard\\tgeneric controller swift 20 using storyboards\\n',\n",
              " 'rule three\\truleofthree becomes ruleoffive c++11\\tpointer member class point heapallocated data\\n',\n",
              " 'run python script elevated privilege windows\\tioerror errno 13 permission denied cpagefilesys\\n',\n",
              " 'add android project jar file another android project\\tuse created jar file another android application\\n',\n",
              " 'numbers string come numbers fals python\\tcheck string number float\\n',\n",
              " 'implement tabhost sliding effect\\tanimating fragmenttabhost\\n',\n",
              " 'class found hadoop job\\tissue azure documentdb hive integrations hdinsight using microsoft hive odbc driver\\n',\n",
              " 'closure axiom instances reasoner correctly classify instances ontology\\towl protege describe class properties\\n',\n",
              " 'combine multiple conditions subset dataframe using\\tmultiple conditions r using specific variable\\n',\n",
              " 'cell select jtable event\\tvalidate jlist selection occur\\n',\n",
              " 'scala ide 400 thinks theres errors outofthebox play framework 237 program\\tmake eclipse see changes play compiled templates\\n',\n",
              " 'say 09 c ++\\tcheck given c++ string char contains digits\\tc++ check string numeric\\tregex matching numbers floating point\\n',\n",
              " 'cannot install cython win7\\tcython installation error\\tinstall cython\\tcannot find vcvarsallbat running python script\\n',\n",
              " 'javascript mechanism autoscroll bottom growing page\\tautomatically scroll browser window div grows\\tscroll automatically bottom page\\n',\n",
              " 'activemodel forbidden error rails 400\\twriting nested form ror\\n',\n",
              " 'merge array javascript objects based key property multilevel\\tmerge properties two javascript objects dynamically\\n',\n",
              " 'show internet explorers history control\\tget internet explorer download history\\n',\n",
              " 'passing data view controllers\\tpassing data view controllers yes know\\n',\n",
              " 'wpf mvvm background uielement doesnt change notifypropertychanged\\twpf togglebutton ischecked trigger\\n',\n",
              " 'use nsscanner\\tdescribes nil best whats really\\n',\n",
              " 'contact form issue able send mail every time\\tconnection timed error using smtp send emails delphi\\tsending email php mail\\n',\n",
              " 'wpf tabcontrol databinding\\tbind property wpf tabitem mvvm way\\n',\n",
              " 'json api specification suggest use hyphen minus separate words member names\\tunable access json property dash\\n',\n",
              " 'update check issue updating entity using datacontext attach method\\tentity attachment issues linq\\tmuch overhead update check linq updates\\n',\n",
              " 'install pillow mac\\tfail installation pillow python module linux\\n',\n",
              " 'modify r code plot kind gantt chart\\tgantt style time line plot base r\\n',\n",
              " 'setinterval chrome doesnt work\\tsetinterval working properly chrome\\tvar functionname function vs function functionname\\n',\n",
              " 'determine element css class jquery\\tcheck element class\\n',\n",
              " 'internet explorer passes undefined success callback fetching 30mb data\\tjquery ajax response undefined internet explorer\\n',\n",
              " 'strip escape html tags android\\tparsing json data weather app\\tandroid parse json data web server display listview\\n',\n",
              " 'silverlight 4 equivalent wpf xstatic\\tdynamically setting header text silverlight datagrid column\\tsilverlight datagrid header binding constant\\n',\n",
              " 'shouldnt use mysql_ functions php\\treturn control web page another php webpage called\\n',\n",
              " 'errors statements r shiny checkboxgroupinput\\tcheckboxgroupinput statements data included\\n',\n",
              " 'upload file using selenium webdriver java\\tupload file using selenium ide 291\\n',\n",
              " 'issue using custom font native typeface cannot made\\tandroid exception setting custom font\\tusing custom font android textview using xml\\tchange font list items list view\\n',\n",
              " 'read shared file ubuntu samba using c#\\taccess remote directory c#\\n',\n",
              " 'determine k using kmeans clustering\\tpython k means clustering\\n',\n",
              " 'using numeric_limitsmax constant expressions\\tnumeric_limittmin max constants\\tstdnumeric_limitstmax function\\n',\n",
              " 'advantage using heredoc php\\tyoutube iframe api wordpress\\n',\n",
              " 'single type compile time list concat clang\\tput template typename keywords\\n',\n",
              " 'iphone unusual crashing app loading occurs ios4\\tget error 0x8badf00d iphone app usual suspect\\n',\n",
              " 'toupper expressioncall\\tcall toupper expression tree linq\\tcase insensitive string compare linqtosql\\n',\n",
              " 'javascript post request like form submit\\tsend javascript variable data php\\n',\n",
              " 'enter quotes java string\\tcheck char string\\tjava using stringindexof check apostrophe character\\n',\n",
              " 'good embedded database use c#\\tapp without remote database\\n',\n",
              " 'simple date java frameworks embedding movies within swing application\\tjavafx playing hd movies ubuntu low fps\\n',\n",
              " 'segmentation fault main\\tsegmentation fault big array size\\n',\n",
              " 'encode string utf8\\tjava converter working symbols cyrillic etc\\n',\n",
              " 'c++ cant convert string wstring\\tsubstr characters instead bytes\\tc++ convert string char wstring wchar_t\\n',\n",
              " 'possible use mysql sqlalchemy flask mysql socket isnt tmp\\tcreate link change pythonmysql socket location\\n',\n",
              " 'ssl cert issue accessing wso2 endpoints android app\\ttrust anchor found android ssl connection\\n',\n",
              " 'google maps api v2 make markers clickable\\tandroid google map clicked marker opens new activity bigger window\\tdont snap marker click android map v2\\n',\n",
              " 'split string list\\tpython slicing string pointing special character\\tpython partition split\\n',\n",
              " 'stop play function printing\\thide output subprocess python 27\\n',\n",
              " 'titanium importing widget inside another widget controller\\timport widget alloy titanium\\n',\n",
              " 'handle hyperlink click event outlook mail c#\\tcall outlook macro using vbscript email hyper links\\n',\n",
              " 'transformation particular sequence\\txslt node transformation predefined order\\tkeep original xml element sequence transformation\\n',\n",
              " 'curl 60 ssl certificate unable get local issuer certificate\\tgoogle api curl error\\n',\n",
              " 'get unimplemented methods using typeelement\\tjava reflection find method usage custom abstractprocessor\\n',\n",
              " 'keep footer bottom sticky\\tget sticky footer wordpress theme\\tfooter bottom sticky\\n',\n",
              " 'mingww64 compilation errors libraries\\terror traying build tapi3 c++ example using migw compiler eclipse\\n',\n",
              " 'disconnect user loggin user symfony2\\tprevent duplicate login fosuserbundle\\n',\n",
              " 'query objects value string collection using hibernate criteria\\tsql projection utility matching multiple hibernate alias names sql alias ones\\tpossible get sql alias join table hibernate sqlrestriction\\n',\n",
              " 'ios wifidirect communication\\tpeertopeer wifi possible captive network\\n',\n",
              " 'slowing process creation java\\tneed help performance javas processbuilder solaris\\n',\n",
              " 'javascript css check overflow\\thide fixed size child scalable parent small\\n',\n",
              " 'alternative execfile python 3\\tpython3 runpyrun_path working ubuntu 1010\\n',\n",
              " 'restructuring transposing datatable c#\\ttranspose datatable aspnet\\n',\n",
              " 'google map api v3 parsing xml getting elements tag name\\tgoogle maps ajax xml data\\tgoogle maps api markers xml file displayed\\n',\n",
              " 'js several functions via prototype\\tdifference constructor function prototype object using inheritance\\n',\n",
              " 'remove http url string\\tremoving http string\\tphp regex remove http string\\tphp remove http link title\\n',\n",
              " 'issue selecting row mysql mysqli_connect production\\tget useful error messages php\\n',\n",
              " 'grep git commit diffs contents certain word\\tpass string git log instead word\\n',\n",
              " 'converting year month yyyymm format date\\tstring date conversion gives na r\\n',\n",
              " 'microsoft tech references bulk insert may gaps cant get work\\tload csv blob azure sql server referenced external data source found\\n',\n",
              " 'syntax etag\\thttp generating etag header\\tetag http header\\n',\n",
              " 'django reverse arguments keyword arguments found error\\tdjango forms reverse arguments 7 keyword arguments found\\n',\n",
              " 'update multiple rows entity framework list ids\\tupdate specific property using ef\\terror occurring entity state modified\\n',\n",
              " 'wcf 40 webmessageformatjson working wcf rest template\\tsend ilist via wcf service\\treturn serialized list ilist linq\\n',\n",
              " 'sending email without user interaction android\\tsend mail without user interactions intent android\\tretrieve gmail account details configured android\\n',\n",
              " 'efficient way merge two byte arrays one byte array\\tbest way combine two byte arrays c#\\tarraycopy vs bufferblockcopy\\n',\n",
              " 'make text orbit along circular path using html5 canvas\\thtml5 canvas circle text\\n',\n",
              " 'mixing declarations code forbidden c99\\terror jump case label\\tsigns crosses initialization\\n',\n",
              " 'best design implement page elements model logic\\tuse ternary operator razor specifically html attributes\\n',\n",
              " 'model required attribute doesnt show error messages bad user input\\taspnet mvc htmlvalidationsummary true display model errors\\n',\n",
              " 'uiwindow enddisablinginterfaceautorotationanimated error\\tunknown error uiwindow enddisablinginterfaceautorotation\\n',\n",
              " 'using method linq entities\\tsearch fields linq table\\tentity framework get columns\\n',\n",
              " 'knitr object cannot found converting markdown file html\\txtable error inspite object memory\\n',\n",
              " 'make prngs agree across software\\trandom number range 1 sysmaxsize always 1 mod 210\\n',\n",
              " 'add random override annotations java fxml controller\\tuse javas override annotation\\n',\n",
              " 'javascript\\tnumber ends 1 something\\n',\n",
              " 'handle unexpected exceptions jaxrs\\tcatching unhanded exceptions jax rs\\n',\n",
              " 'using dispatchqueue fix delay updating nstextview switch statement\\tdispatchqueuemainsync returning exc_bad_instruction swift 3\\n',\n",
              " 'xmlnode see node exist\\txmlnodeselectsinglenode syntax search within node c#\\n',\n",
              " 'fixing broken utf8 encoding\\tutf8 way\\tcant get rid diamonds question marks middle since php 56 switch\\n',\n",
              " 'osgi solve\\tmaven choose artifacts runtime\\tadding files java classpath runtime\\n',\n",
              " 'click button open fragment\\tlistview new activity android\\n',\n",
              " 'component interaction via service angular 2\\tcorrect way share result angular 2 http network call rxjs 5\\n',\n",
              " 'laravel custom auth filter\\tcontrolling access routes laravel sentry\\n',\n",
              " 'boost random number generator\\tcrossos distributed computing c++ rand issue\\n',\n",
              " 'jquery ui resizable issue expands beyond containment draggable also used\\tdraggable resizable div containment goes containment\\n',\n",
              " 'read write mapstring object parquet file java scala\\tconvert file json objects parquet file\\n',\n",
              " 'language framework support interacting couchdb\\tusing couchdb serve html\\n',\n",
              " 'simple css dropdown\\tdrag element dropdown list using jquery ui sortable\\n',\n",
              " 'python retrieve items set\\tmoving beyond factories python\\n',\n",
              " 'c serialization techniques\\tread write struct fifo c\\n',\n",
              " 'isnt xmlserializable dictionary net\\ttfs 2010 possible deserialize dictionarystring object xamlwritersave use xamlreader deserializing\\n',\n",
              " 'jquery loading animation issue\\tshow loading spinner jquery\\n',\n",
              " 'call parameter function another one\\taccess variables functions python\\n',\n",
              " 'assign git sha1s file without git\\tdifference sha hash git hashobject git hashobject\\tgit use sha1 compressed objects rather sha1 original objects\\tgit hashobject return different hash openssl sha1\\n',\n",
              " 'solve missing argument 1 apprepositoriesfavoriterepositorydelete laravel 53\\tcall undefined method illuminatedatabasequerybuilderlists seeding updating laravel 53\\tadd dynamic dropdown list column laravel 53 registration\\n',\n",
              " 'twitter api rate limit multiple users\\tapi limitation twitter\\n',\n",
              " 'would go making nav menu\\tcss skew buttons border text\\n',\n",
              " 'execute application client website\\tprocessstart keeps running exe background process mvc aspnet\\texecute application session 0 service\\n',\n",
              " 'android scrollview doesnt scroll keyboard\\tandroid soft keyboard covers edittext field\\n',\n",
              " 'arrow function vs function declaration expressions equivalent exchangeable\\tmake work ie\\n',\n",
              " 'ms word unlink fields one document another\\tvba excel unlink headers footers word\\n',\n",
              " 'mysql statement working\\tconditional insert based last_insert_id\\tmysql insert custom statements\\n',\n",
              " 'background changed switch buttons\\tchange rectangles buttons\\n',\n",
              " 'perl didnt match backslashes\\ttext replacement backslash variable perl\\n',\n",
              " 'custom naming ef one many relation property\\timprove navigation property names reverse engineering database\\n',\n",
              " '500 internal server error jhipster heroku oauth2 app accessing via swift alamofire\\tandroid retrofit converter exception\\n',\n",
              " 'indent xml read httpservlet request body\\tpretty print xml java\\n',\n",
              " 'describe workflow using version control vcs dvcs\\texamples visualize versioning system\\n',\n",
              " 'tools randomly generate source code according language grammar\\tgenerate sentences formal grammar\\n',\n",
              " 'php associative array duplicate keys\\tprinting also duplicate array\\n',\n",
              " 'css conventions code layout models\\tmanaging css explosion\\tcss standards follow writing first stylesheet\\texisting website css replacement reskinning bestpractices without changing html\\tbest method tidying css\\n',\n",
              " 'android manifest restrict tablets\\trestrict app android phones\\tmanifest supported devices showed android market\\n',\n",
              " 'find documentation formatting date javascript\\tminimze date jquery\\n',\n",
              " 'activerecordunknownattributeerror missing attribute user model\\tactiverecordunknownattributeerror\\n',\n",
              " 'confused whether javascript object contain function iterate\\tclass vs static method javascript\\n',\n",
              " 'create object anonymous type dictionary c#\\tconvert string object c#\\n',\n",
              " 'custom delegate example objectivec\\tcustom delegate\\n',\n",
              " 'htmllistbox used save data model\\tsaving model within model\\n',\n",
              " 'getelementbyclass instead getelementbyid javascript\\tcode documentqueryselector class dosomething native javascript\\n',\n",
              " 'correct way tdd file reading word builder\\twriting file temp folder\\n',\n",
              " 'rename committed branch mercurial\\tmercurial rename branch\\n',\n",
              " 'jqueryui function window close\\tjquery ui dialog box open closed\\n',\n",
              " 'issue trying add service reference c# wcf\\terror cannot obtain metadata wcf service\\n',\n",
              " 'extend operators linqtosql supports\\ttell linq2db translate given expression ie split char sql know\\n',\n",
              " 'first packet sent starting browse\\tinterview questions socket programming multithreading\\n',\n",
              " 'buffered audio soundjs\\tsoundjs mix html web audio\\n',\n",
              " 'put # shebang python scripts form take\\tpeople write # usr bin env python first line python script\\n',\n",
              " 'fi_init_freetype variable declaration error\\tfreetype library undefined reference ft_init_freetype\\n',\n",
              " 'transfer table hbase hive\\tright way set hbase hadoop hive access hbase hive\\n',\n",
              " 'left join fast right join slow even though indexes tables\\tutf8 vs latin1\\n',\n",
              " 'deny access folder file\\tcontrol permission aspnet\\tsecure access swf file using aspnet\\n',\n",
              " 'allocating memory releasing constitute side effect c++ program\\tperformance using readonly variable directly different storing object using\\n',\n",
              " 'phpini smtp pass username password\\tsending email ubuntu\\n',\n",
              " 'failed process phase structure deployment\\tcannot deploy ear wildfly 8 due failures processing structure\\n',\n",
              " 'google charts ajax php\\tgoogle charts get json output still graph\\n',\n",
              " 'cssonly masonry layout elements ordered horizontally\\tthree columns height multiple rows dynamic content\\n',\n",
              " 'git postreceivepack hangs tcp zerowindow\\tdebug git gitshell related problems\\n',\n",
              " 'servlet jsp passing attribute\\tcalling servlet jsp file page load\\twebservlet annotation tomcat 7\\tservlet returns http status 404 requested resource servlet available\\tchange default homepage root path servlet doget\\n',\n",
              " 'download zip files authenticated website python\\tdownload file https authentication\\n',\n",
              " 'step code implementing new eclipse linux\\tinstruction level debugging cdt\\tstep system crtl functions eclipse linux\\n',\n",
              " '100 width height anchor inside flexbox webkit browsers\\tmake flexbox children 100 height parent\\n',\n",
              " 'unexpected type resulting ternary operator\\tdifference ifelse conditionaloperator\\n',\n",
              " 'integer nth root\\twrong answer calculating nth root number cpp\\tcalculate nth root integer arithmetic\\twriting square root function\\n',\n",
              " 'source historical stock data\\tusing artificial intelligence ai predict stock prices\\n',\n",
              " 'stdstring part stl\\tstl made completely inline\\n',\n",
              " 'serving static pages database\\tstoring images db yea nay\\n',\n",
              " 'learn android\\tprogramming android apllication\\n',\n",
              " 'deserialize xml object using dynamic\\tdeserialize random unknown types xmlserializer\\n',\n",
              " 'copy elision return value optimization\\tstdmove return value weak_ptrlock messing reference count shared_ptr\\n',\n",
              " 'get current location instant uiimagepickercontroller captures image\\tshow latitude longitude capture image ios\\n',\n",
              " 'unable run docker image main manifest attribute appjar\\tmaven cant execute jar\\n',\n",
              " 'custom parallel extractor usql\\tforce file processing one node without splitting\\n',\n",
              " 'pass data backend http proxy aws custom authorizer\\taws api gateway custom authorizer proxy setup add custom headers request\\n',\n",
              " 'remove last n letters javascript\\tjavascript chop slice trim last character string\\n',\n",
              " 'regex match open tags except xhtml selfcontained tags\\tremove html markup string\\n',\n",
              " 'using jquery ajax post variable php\\trequest monitoring chrome\\n',\n",
              " 'force ossystem use bash instead shell\\tproblems running terminal command via python\\tsyntax error shell command passed ossystem\\n',\n",
              " 'configure iis url rewriting angularjs application html5 mode\\tazure cloud service web role angularjs access denied\\n',\n",
              " 'cancel post request afnetworking 20\\tcancel specific post request afnetworking\\n',\n",
              " 'wanted know detail shared libraries work visavis static library\\tuse dynamic vs static libraries\\n',\n",
              " 'join query codeigniter\\tformatting array specific way show view\\n',\n",
              " 'connect failed access denied user root localhost using password yes php function\\terror connecting mysql database\\n',\n",
              " 'generate random integer specified range divisible 5\\tfind next multiple 10 integer\\n',\n",
              " 'save image uiwebview objective c\\tuiwebview enabling action sheets img tags\\n',\n",
              " 'getting invocationtargetexception classloaderscallstaticfunction java eclipse\\tprevent invocationtargetexception jar running\\n',\n",
              " 'cant select use play selecting video using jquery\\tplay pause html 5 video using jquery\\n',\n",
              " 'ruby class instance variable vs class variable\\texecute code included module class load initialize\\n',\n",
              " 'stop java process gracefully\\tclean recommended way terminate perpetuallyrunning commandline java application\\n',\n",
              " 'payumoney payment gateway issue\\tpayumoney getway error occur ios\\n',\n",
              " 'jquery ui dialog buttons variables\\tset names jqueryui buttons dialog window variable\\n',\n",
              " 'accessing visio uml data\\treading class attribute value visio document using c#\\n',\n",
              " 'hibernate dialect mapping jdbc type 101\\tdialect mapping jdbc type 101 exception using named query hibernate\\n',\n",
              " 'quick elegant way construct mean variance summary table\\tr grouping functions sapply vs lapply vs apply vs tapply vs vs aggregate\\tsummarize dataframe groups\\n',\n",
              " 'newbie gpu programming learn\\tintro gpu programming\\n',\n",
              " 'javascript ordinal suffix numbers specific css class\\tjquery add numeric class word string\\n',\n",
              " 'jquery uncaught typeerror cannot use operator search 324\\tunclear error working json data jquery cannot use operator search length\\n',\n",
              " 'eclipse tabs repositionning\\tretain previous open file tab visible tabs\\n',\n",
              " 'verticalalign inlineblock behaving annoyingly different chrome firefox\\tdiv alignment differs chrome firefox\\n',\n",
              " 'efficient way calculate product discrete convolution\\tcompute product next n elements array\\n',\n",
              " 'handle null compare method arguments comparator\\tjava customized compare method objects dates\\n',\n",
              " 'know portion perl regex matched string\\ttell alternatives matched perl regular expression pattern\\n',\n",
              " 'difference passing options aes outside ggplot2\\taesthetic inside outside aes\\n',\n",
              " 'inflate buffer error zlibbuferror bundle install\\tcannot install ruby gems zlib error\\n',\n",
              " 'undefined reference unresolved external symbol error fix\\tc header file containing prototypes\\n',\n",
              " 'undo redo implementation java\\tusing command pattern undo redo arraylists\\n',\n",
              " 'sort array objects string property value javascript\\tsort array multiple objects\\n',\n",
              " 'linking troubles boostprogram_options osx using llvm\\tcompile boost 157 64 bit c++11 support mac os x\\tcompile boost os x 64b platforms stdlibc++\\n',\n",
              " 'sitecore image field parameter template\\tsitecore parameter templates cannot access image field\\n',\n",
              " 'systemnullreferenceexception code\\tnullreferenceexception fix\\n',\n",
              " 'remove special characters pandas dataframe\\tpandas dataframe remove unwanted parts strings column\\n',\n",
              " 'differences json jsonp\\tsubmitting form getjson succeeding\\n',\n",
              " 'make php lines shorter\\tchange color output php\\tbad practice use php manipulate css classes\\n',\n",
              " 'python irc client write scratch write plugin existing framework\\tprogramming simple irc internetrelaychat client\\n',\n",
              " 'avoid duplication nuget packages\\tspecify one central place nuget packages installed\\n',\n",
              " 'show effective sql string p6spy\\tgenerate sql script hibernate\\n',\n",
              " 'incorrect php script timeout\\tsetting max_executing time\\n',\n",
              " 'convert python tuple two dimentional table\\tdetermine type object\\tconvert tuple containing ordereddict tagged parts table columns named tagged parts\\tconverting values named tuples strings integers\\tconvert columns csvfile ordereddict python\\tmatrix transpose python\\n',\n",
              " 'omnet++ caused debugging error\\tgdb working eclipse working fine command line\\n',\n",
              " 'difference lifecycle lock screen opening application android\\tsaving android activity state using save instance state\\n',\n",
              " 'encrypt post data using ajax jquery\\twhats best way implement security http\\n',\n",
              " 'convert mysql db xml\\tget mysql database output via php xml\\texporting data database xml\\n',\n",
              " 'getting aspnet site publicly available\\taccess aspnet development server intranet\\tusing custom domains iis express\\n',\n",
              " 'open div session set true\\tdjango request template\\tchange way boolean prints django template\\n',\n",
              " 'publish options clickonce made configuration specific visual studio 2013\\tusing different appcongif publish url clickonce depending build configuration\\n',\n",
              " 'jsp caching tag library\\timprove page load time caching springmvc hibernate application\\n',\n",
              " 'c# wpf adding child node selected node treeview\\twpf treeview selecteditem issue adding child items vb net\\n',\n",
              " 'dont use compare strings matlab\\tequality results using matrix strings\\tstring comparison\\n',\n",
              " 'javascript pathname ie quirk\\ttell user indexhtml\\n',\n",
              " 'systemoutprintln print jsp\\tsystemoutprintln jsp page displaying anything\\n',\n",
              " 'git proxy failure need asistance\\tcould resolve host githubcom error cloning remote repository git\\n',\n",
              " 'rails 4 page reload ajax call\\tget id created object rails using jquery\\tjquery ajax response header\\n',\n",
              " 'current aspnet session null\\tknow session set\\tbest way determine session variable null empty c#\\tchecking session null causes exception\\tchecking object null c#\\n',\n",
              " 'error could find load main class myapp running java command prompt\\tcould find load main class mean\\n',\n",
              " 'json response data showing alert\\tknow server jsonp turned\\tajax request returns 200 ok error event fired instead success\\tjquery wont parse json ajax query\\n',\n",
              " 'laravel redirect back original destination login\\tsetting session variables laravel 54\\n',\n",
              " 'orderby object filter pure firebase javascript api\\tprint object returned firebase service array console\\n',\n",
              " 'would count occurrences string within string\\tc# count specific word richtextbox1 send result label1\\n',\n",
              " 'get instance class class object actionscript 3\\tactionscript3 get reference objects class\\n',\n",
              " 'send 2 parameters script\\tsplit one string multiple variables bash shell\\n',\n",
              " 'orgapachecxfinterceptorfault null invoking exception resolution please cannot find reason logs attached\\tpass parameters soap message consume parameterized method webservice\\n',\n",
              " 'transitionend event fires twice\\tchaining css animations multiple elements\\n',\n",
              " 'mysqli last insert id\\tmultipage form url parameters\\tpdo get last id inserted\\n',\n",
              " 'request mapped requestmapping defined interface\\tspring boot create restful ws give requestbody requestheader method parameter\\n',\n",
              " 'call controllers method view call helper ideally\\tlink nested comment edit action parent articles controller index\\n',\n",
              " 'difference directoryenumeratefiles vs directorygetfiles\\tread multiple csv files folder c#\\n',\n",
              " 'put listview scrollview without collapsing\\tshow items listview android\\n',\n",
              " 'emacs create temporary symbolic links modified files\\temacs create broken dot hash filename symlink editing\\n',\n",
              " 'check json data comparing extjs\\trefer store controller codejs file\\n',\n",
              " 'java nodejs code conversion\\tmqtt communication nodejs java\\n',\n",
              " 'visual studio 2010 isnt building run code changes\\tmain entry point properly working add form reportviewer control\\n',\n",
              " 'shimnotsupportedexception running tests mstest resharper\\tshimnotsupportedexception ms visualstudio 2012\\n',\n",
              " 'setting context root webxml servlet\\tspecify root context webapp tags webxml\\n',\n",
              " 'android 3g wifi switch middle app loss network connectivity\\tresetting android setnetworkpreference\\n',\n",
              " 'force javascript execute within html response ajax request\\tinnerhtml ajax javascript working\\n',\n",
              " '2 belongs_to 1 has_many team game relationship\\trails association multiple foreign keys\\n',\n",
              " 'excel vba replace character numeric value string\\texcel vba get data multiplearray json columns\\n',\n",
              " 'ball bounce javascript\\tball ball collision detection handling\\n',\n",
              " 'convert textarea value meaningful content without reloading page\\treplacing text smiley image using jquery\\n',\n",
              " 'pointcuts advices applicable beans spring\\taround advice methods interface\\n',\n",
              " 'unable load app resouces file appbinresoucestxt\\tbest practice aspnet mvc resource files\\n',\n",
              " 'display contents pdf document using pdfbox android\\tpdfbox problem converting pdf page image\\n',\n",
              " 'chain attribute lookups might return none python\\tconvert python operations involving none none values\\tmaybe kindof monad python\\n',\n",
              " 'choosing java web framework\\tanyone recommend simple java webapp framework\\tpros cons assorted java web frameworks\\tbest web applications framework java\\tsuggestion java framework\\n',\n",
              " 'dividing image multiple images equal pixel data\\timage distribution\\n',\n",
              " 'pdf generation phantomjs nodewebkit\\tnode wkhtmltopdf create corrupted pdf node webkit\\n',\n",
              " 'pthread condition variables signalling even though set pthread_process_shared\\tshare condition variable mutex processes mutex locked\\tposix shared memory sync across processes c++ c++11\\n',\n",
              " 'scrapy installation fails installing cryptography package\\terror unable find vcvarsallbat\\n',\n",
              " 'eclipse android sdk slow content assist performance\\teclipse android plugin sluggish\\tusing android sdk mac eclipse really slow speed\\n',\n",
              " 'display values empty using ngif inside ngfor\\tuse ngif else angular 4\\n',\n",
              " 'uinavigation controllers delegates\\tdelegate work objectivec\\n',\n",
              " 'promise pouch returning call inside code\\texplicit promise construction antipattern avoid\\n',\n",
              " 'python get file name change save variable\\tospathsplit changing file name compromising path\\n',\n",
              " 'parse json data jquery javascript\\tshow image ajax response\\n',\n",
              " 'c# replace multiple href values\\tuse html agility pack\\n',\n",
              " 'convert mssql datetime integer yyyy mm dd format javascript\\tconvert unix timestamp time javascript\\n',\n",
              " 'twitter package skipping tweets\\tfunction makes loop run every x mins\\n',\n",
              " 'rails finding users whose relationship specified attribute\\tassociation named found perhaps misspelled issue rails association\\tjoin multiple tables active records\\trails active record querying association exists\\trails 3 has_one has_many lambda condition\\trails 4 scope find parents children\\n',\n",
              " 'display hexadecimal bytes using nslog\\tbest way serialize nsdata hexadeximal string\\n',\n",
              " 'would use interactive without tty docker container\\tcant attach bash running docker container\\n',\n",
              " 'generating cylindery symmetric 3d data revolution 2d plane around one axis\\tgenerating 3d plot revolution curve\\n',\n",
              " 'install avd command line\\tabi error creating android virtual device\\n',\n",
              " 'nonatomicload reordered atomicacquireload\\teffect operations variables independent consume atomicload\\n',\n",
              " 'call mvc async action ajax start task send ajax response task completes\\tasync controller action recalled one minute\\n',\n",
              " 'issue querying teradata python pyodbc\\tpython pyodbc connections ibm netezza erroring\\n',\n",
              " 'objectivec best choice saving data\\tcore data differences managed object entities\\n',\n",
              " 'compelling use case fd_cloexec flag\\tfd_cloexec fcntl flag\\n',\n",
              " 'environment variables python linux\\tmask twilio python variable\\n',\n",
              " 'binding scroll wheel div\\ttrigger dummy mouse wheel event\\tfire mouse wheel event firefox javascript\\n',\n",
              " 'fastest algorithm circle shift n sized array position\\tfast array shift implementation c#\\n',\n",
              " 'debug child executable process\\tset visual studio default postmortem debugger\\n',\n",
              " 'malloc error inserting element red black tree\\tcast result malloc\\n',\n",
              " 'possible make recursive type definition c\\tfunction pointers data pointers incompatible c c++\\trecursive declaration function pointer c\\ttypedef function pointer takes function type argument\\n',\n",
              " 'facebook graph high resolution photos\\tget larger version facebooks thumbnail images\\n',\n",
              " 'get value another activity bring back previous fragment\\tpass value one fragment another android\\n',\n",
              " 'get timezone location offset\\tconvert utc offset timezone date\\tphp timezone list\\n',\n",
              " 'disable builtin functionality sailsjs\\tsailsjs remove bodyparser middleware specific route\\n',\n",
              " 'deal temporary nsmanagedobject instances\\tios 8 creating temporary nsmanagedobjects\\n',\n",
              " 'trigger resize event component\\tonresize div elements\\n',\n",
              " 'top bottom text cut webview\\tpaginating text android\\n',\n",
              " 'static_cast dynamic_cast const_cast reinterpret_cast used\\tc++ multiple inheritance interface\\n',\n",
              " 'multipart identifier cant bound\\tsql join differences\\twrong sql\\n',\n",
              " 'sharing messages kafkacat consumers\\tmessages sent consumers consumer group name\\n',\n",
              " 'jpa entitymanager use persist merge\\tjpa problems running multiple tests spring\\tcannot use persist object taken database\\n',\n",
              " 'extracting data json response java\\tgetting json response string java\\n',\n",
              " 'click iframe make button appear\\tuse windowpostmessage across domains\\n',\n",
              " 'noncapturing group question mark followed colon mean\\tpython 3 regular expression returning unexpected result\\n',\n",
              " 'using regular expressions parse html\\tphp strip_tags remove certain tags contents\\tremove b tags php\\n',\n",
              " 'use cases new django 14 project structure\\tdjango 14 new project folder structure forces project prefixes\\tcreate django apps django 14\\tdjango app management best practice\\n',\n",
              " 'ios 7 sprite kit freeing memory\\tsprite kit delete game scene\\n',\n",
              " 'set limit display records table cell using mysql php\\tphp flip rows columns 2d array\\tprint number vertically grouping\\n',\n",
              " 'android getorientation azimuth gets polluted phone tilted\\tandroid sensor yaw pitch roll\\n',\n",
              " 'stop pygtk gui locking longrunning process\\tpythonpygtk transport data threading\\tgui update realtime udp data python\\turllib2 opener hangs run inside thread\\n',\n",
              " 'validate username password active directory\\tvalidate active directory users vb6\\n',\n",
              " 'mapping 2d points fixed grid\\toptimize assignment tasks agents constraints\\n',\n",
              " 'problem contains selector ie8\\tgood ways improve jquery selector performance\\n',\n",
              " 'make python subprocess output stdout stderr usual also capture output string\\tpython write files console time bash files\\n',\n",
              " 'selfport undefined error mozilla addon sdk 18\\tfirefox sdk content script cant access selfport\\n',\n",
              " 'use mod_rewrite anchors r301\\tavoid htaccess redirectrewrite loop\\n',\n",
              " 'javascript operators\\tjavascript bitwise operators\\texpression java 1 2\\n',\n",
              " 'programmatically indenting python code selfrewriting script\\twhats best way write python code python file\\n',\n",
              " 'mono droid modal popup\\tandroid alertdialog always exits click ok button\\n',\n",
              " 'output different data types\\tinteger arithmetic java char integer literal\\n',\n",
              " 'android couldnt find import class error aidl files comandroidinternaltelephonygsmnetworkinfo\\tandroid aidl import\\n',\n",
              " 'change results ordering mysql query\\tprev next node navigation thumbnail full node\\n',\n",
              " 'javascript object property logged google chrome console declaration\\tcant access directive scope within controller\\n',\n",
              " 'get list available data member pod struct c++\\tc++ iterate nested struct field boost fusion adapt_struct\\tadd reflection c++ application\\n',\n",
              " 'practical applications homomorphic encryption algorithms\\tsearch encrypted fields without decrypting field\\tencryption allows performing mathematical operations encrypted numbers\\tcalculate average three encrypted numbers\\n',\n",
              " 'android change gridview highlight color\\thighlight bitmap like google play\\n',\n",
              " 'enable dynamic pretty print json based http request header spring mvc\\tusing spring mvc rest enable jackson prettyprint rendered json\\n',\n",
              " 'sort two arrays order first one\\tsort multiple arrays php\\n',\n",
              " 'add edittext input data sql database using json android\\tsend radio button value switch case option server using json android\\n',\n",
              " 'combinations values 01 sum 1 r\\tr fails retrieve combinations\\n',\n",
              " 'escape special characters mysql\\tmysql concat quotes\\n',\n",
              " 'configure proxy server polymer cli\\tbower proxy configuration\\n',\n",
              " 'php + highchartsjs + convert mysql mysqli causes error\\tmigrate site mysql mysqli\\n',\n",
              " 'construct manual legend complicated plot\\tggplot2 merge legends geom_line geom_point geom_bar\\n',\n",
              " 'find partial duplicated rows sql table ibm netezza database\\terror finding distinct cobinations muiltiple columns ibm netezza sql table\\n',\n",
              " 'checkstyle module needbraces work nested else blocks\\tcheckstyle rule force else keywords line else ladder\\tcheckstyle pmd findbugs rule force else line\\n',\n",
              " 'viewdata item key xxx type systemint32 must type ienumerableselectlistitem\\tviewdata item type ienumerableselectlistitem key\\n',\n",
              " 'change color div css another one focus\\tprevious sibling css selector\\n',\n",
              " 'format microsoft json date\\tdate filter working\\n',\n",
              " 'filtering loaded kml file openlayers\\trefresh redraw layer openlayers kml networklink auto refresh\\n',\n",
              " 'string erase appends elements backward iterators\\tcall erase reverse iterator\\n',\n",
              " 'expandablelistview cursortreeadapter cursor management\\tsimplecursortreeadapter cursorloader expandablelistview\\n',\n",
              " 'java casting cast operator expressions\\tinteger division produce double\\n',\n",
              " 'rails 4 support queries\\texclude value array conditions\\n',\n",
              " 'correctly switching http https using htaccess\\tredirect single directory https\\n',\n",
              " 'android c# socket decode enconde string64 error 1 frame almost complete\\tandroid receving image socket c# server almost complete\\n',\n",
              " 'sort mapkey value values java\\thappens override hashcode class use set\\tordering key value pairs\\thashmap java 8 implementation\\n',\n",
              " 'remove xmlnsxsi xsitype jaxb marshalled xml file\\txsitype xmlnsxsi generated xml jaxb\\n',\n",
              " 'limitations nsuserdefaults\\tbest way store iphone data custom nsobject\\tstore custom objects nsuserdefaults\\n',\n",
              " 'disable browsers back button\\thide browser back button button click\\n',\n",
              " 'git diff renamed file\\tlonghistoried file git repo suddenly blank log invisible git status\\n',\n",
              " 'generating unique codes php mysql\\tphp generate random unique alphanumeric string\\tphp generating unique string\\n',\n",
              " 'detect javascript disabled\\tdetecting javascript enabled\\n',\n",
              " 'razor htmlpartial vs renderpage\\thtmlaction layout page\\n',\n",
              " 'laravel 53 use auth middleware custom error page\\tlaravel 50 custom 404 use middleware\\tlaravel auth error pages\\tlaravel 52 authcheck exception pages layouts\\n',\n",
              " 'default objecttostring include hashcode\\tunable display object array using get index\\n',\n",
              " 'using dma memory transfer userspace\\tmultithread memory access faster single threaded memory access\\n',\n",
              " 'image inside svg pattern blurried zoom chrome\\tsvg pattern wont load generated javascript\\tsvg pattern element wont resize chrome\\n',\n",
              " 'load dex file dynamically android 50\\tdynamic resource loading apk\\n',\n",
              " 'zip file download cakephp\\tcreate zip file download cakephp\\n',\n",
              " 'editelementquery\\taem cq5 html5smartimage filename lost image upload\\n',\n",
              " 'launching windows batch script using maven exec plugin blocks build even though script uses start\\ttrigger batch file successful maven build\\n',\n",
              " 'silly error looping array\\tforeach array javascript\\n',\n",
              " 'deleting rows cause lock timeout\\tmysql lock wait timeout exceeded\\n',\n",
              " 'regex match open tags except xhtml selfcontained tags\\tget alt value string\\n',\n",
              " 'jqgrid double click row bring edit form\\tjqgrid formatter actions change edit button style\\n',\n",
              " 'prevent buttons submitting forms\\tangularjs buttons inside form triggers submit\\n',\n",
              " 'primary composite keys one entity fluent nhibernate\\tcreate composite unique constraint fluentnhibernate\\n',\n",
              " 'promise vs observable http angular2\\tangular promise vs observable\\n',\n",
              " 'perform find replace selected text notepad++\\tfind replace marked lines notepad++\\n',\n",
              " 'android studio 52 refresh failed causecomgooglecommoncollectmaps\\tfailed refresh gradle project cause comgooglecommoncollectmaps\\tgradle 09+ 092 error unable load class comandroidbuildertestingapideviceprovider\\n',\n",
              " 'get hex dump string php\\tphp array key containing special character found\\n',\n",
              " 'variable type precise calculations java\\tretain precision double java\\n',\n",
              " 'remove port number http localhost8123 use http localhost\\tremove port number url using apache server\\n',\n",
              " 'reference mod_rewrite url rewriting pretty links explained\\tseo friendly url instead query string htaccess\\n',\n",
              " 'hide close second dialogbox opening third dialogbox without hiding closing main winform\\tc# show dialog another dialog winforms\\n',\n",
              " 'return function windows service\\tconnecting via named pipe windows service session#0 desktop app session #1\\n',\n",
              " 'sorting scala list equivalent c# without changing c# order\\tmean string character comparisons swift localesensitive\\n',\n",
              " 'open email program via intents email program\\tsend email intent allow email programs support attachments\\tsend email intent\\n',\n",
              " 'cache jquery objects\\twant change opacity 0 1 element scrolled top page\\n',\n",
              " 'auto login post wordpress php snoopy curl\\tphp curl post login wordpress\\n',\n",
              " 'microsoft tsql oracle pl sql translation\\tconvert sql server stored procedure oracle\\n',\n",
              " 'vim gt command set alternate file expected\\tshow tab close button gvim\\n',\n",
              " '3 different equals\\tphp else isnt working\\n',\n",
              " 'run external script using bq command line tools\\tefficient way exporting 10 datasets 80 tables bigquery google storage\\n',\n",
              " 'use multicore python pyqt4 process\\tuse qthread create multicore pyqt application\\n',\n",
              " 'jpa 2 criteria fetch path navigation\\tquery row table link another table using query builder\\n',\n",
              " 'listener work list view\\tlistview click show image imageview\\n',\n",
              " 'googleapiclient throwing googleapiclient connected yet onconnected function getting called\\tgoogleapiclient connected yet exception cast application\\n',\n",
              " 'hide code jar file\\tjava obfuscators\\tlock compiled java classes prevent decompilation\\n',\n",
              " 'java project administrator privileges\\tjava run administrator\\n',\n",
              " 'permission error populating table postgresql copying csv file\\texport table csv postgres\\n',\n",
              " 'implementation operators enum class\\tdefining operators enums nested within class\\n',\n",
              " 'command substitution backticks dollar sign paren enclosed\\tbash scripting diference command command\\n',\n",
              " 'c++ cli dll namespace found msvs\\tc++ cli dll namespace found msvs c# project successfully reproducable\\n',\n",
              " 'send raw ethernet packet c#\\tsending receiving raw ethernet frame\\n',\n",
              " 'converting js object array duplicate\\tconverting js object array\\n',\n",
              " 'cd python\\tpython path moving documents c drive\\n',\n",
              " 'running ios app non registered device\\ttest ios app device without apple developer program jailbreak\\tbuild install applications jailbroken iphone without iphone developer program\\n',\n",
              " 'search pattern terminated perl\\tsearch pattern terminated filenamepl line 15\\n',\n",
              " 'asynctask android example\\tsettext parsed json object asynctask\\n',\n",
              " 'scala final vs val concurrency visibility\\tscala final variables constructor\\n',\n",
              " 'resolve nested column tableview afetr update version java124 javafx\\trearranging nested column cause npe\\n',\n",
              " 'c++ pass function pointer stored local variable template parameter\\tlocal variable nontype template argument\\n',\n",
              " 'muenchian grouping xslfo table\\txsl fo group columns dynamicaly\\n',\n",
              " 'get query string value javascript\\tget query string values javascript\\n',\n",
              " 'calling external command python\\trun linux system command superuser using python script\\trun external command python script\\n',\n",
              " 'could load file assembly microsoftsqlservermanagementsdksfc version 11000\\tdata base connection error microsoftsqlservermanagementsdksfc\\n',\n",
              " 'call code behind method aspx page\\tset contol property aspnet\\n',\n",
              " 'raw printing directly usb printer bypassing windows spooler\\tsimulate usb printer lpt linux\\tprogrammatically set printer bypass windows spooler\\n',\n",
              " 'code leaking\\toptimize functions\\n',\n",
              " 'adornerlayergetadornerlayer return null controls panel\\tgetadornerlayer mysteriously returning null\\n',\n",
              " 'generating dll assembly dynamically run time\\tbuild assembly save\\tdynamically create class c#\\tcreate dll file runtime save specified location c#\\n',\n",
              " 'open link browser inside ios app web techniques\\tandroid ios custom uri protocol handling\\n',\n",
              " 'write guaranteed deadlock via wait notify\\tdeadlocks using wait notify\\n',\n",
              " 'ember router use transitionto\\temberjs routing one optional param\\n',\n",
              " 'getting constructor error arrayadapter listfragment android\\tconstructor arrayadapterstring fragmentactivity int int int liststring undefined\\n',\n",
              " 'var documentgetelementbyid mynubervalue1 innerhtml + 1\\tadding two numbers javascript incorrectly\\tstring number comparison work javascript\\n',\n",
              " 'positive integer type\\tusing haskells types replace assert statements checks languages\\n',\n",
              " 'pass data another class gui\\tsimulate bring console scanner input jframe application\\n',\n",
              " 'sql server 2005 insert multiple rows single query\\tinsert sql multiple record\\n',\n",
              " 'use classt java\\timplement generic method java\\n',\n",
              " 'weird closure behavior loop\\tjavascript closure inside loops simple practical example\\n',\n",
              " 'benefits new hash syntax ruby 19\\tdifference provider value provider value\\n',\n",
              " 'oracle pl sql alter table columns\\tdescribe table oracle without using describe command\\n',\n",
              " 'android texttospeech takes long load\\tinitialising texttospeech object worker thread\\n',\n",
              " 'memory utiliziation calling objects method via interface\\toverhead implementing interface\\n',\n",
              " 'cant set google drive sdk android sample\\tandroid notepad provider classnotfound error ing google drive sdk examples\\n',\n",
              " 'macro undefined reading u8 using scan\\tread integer input user rust 10\\n',\n",
              " 'one thread writes variable thread reads variable prec++11 protect variable\\tuse volatile multi threading\\n',\n",
              " 'command line output txt file javaexe version returning blank\\tvb run command javaexe output text txt file\\n',\n",
              " 'difference two date\\tjodatime method get months days since older date\\n',\n",
              " 'using asyncio periodic task django\\tusing django cli tool\\n',\n",
              " 'viewing site http localhost instead file using nodejs\\tusing html express instead jade\\tnodejs + express without using jade\\n',\n",
              " 'cant identify error java program\\tnullpointerexception fix\\n',\n",
              " 'change color hamburger icon material design navigation drawer\\tchange hamburger backarrow toolbar color android\\n',\n",
              " 'unexpected output printf\\tintegers numbers printed f specifier\\n',\n",
              " 'libgdx input previous screen registering\\tdetect actor touched libgdx\\n',\n",
              " 'saving jpg transparent png php\\tuse php convert jpegs transparent png\\n',\n",
              " 'best way read chars text file ignoring extra spaces new lines\\traw type shouldnt use\\n',\n",
              " 'finding knearest neighbors implementation\\tclassify data points without label information\\tvisualize ndimensional features\\n',\n",
              " 'connect specific wifi network android programmatically\\tconnect drone wifi via application\\n',\n",
              " 'insert print button website form\\tcorrect usage addeventlistener attachevent\\tinsert print button prints form webpage\\tlink print webpage\\n',\n",
              " 'r knitr possible use cached results across different machines\\ttype files commit versus ignore git repository\\tgit ignoring knitr cache\\n',\n",
              " 'overwrite method extend using original implementation\\tcopy foreign package overwrite function\\tr extend generic methods one package another\\n',\n",
              " 'perl cron scheduler start x time execute every minutes forever\\tcron expression every x minutes exact start date\\n',\n",
              " 'proper currency format displaying native currency culture\\tculture specific currency given culture\\n',\n",
              " 'working java rest client example access cas rest api\\tcas configured rest api redirects v1 tickets login html\\n',\n",
              " 'get current timestamp\\tdatetimenow vs datetimeutcnow\\n',\n",
              " 'android open properties file project\\tdistinguishing development mode release mode environment settings android\\n',\n",
              " 'using clause linqtosqls executequery\\tpassing array parameters stored procedure\\tpassing liststring stored procedure\\n',\n",
              " 'merge many data frames csv files\\tmerge several data frames two common columns\\n',\n",
              " 'java lambda stream distinct arbitrary key\\tjava 8 filter list pojos based nested object attribute\\n',\n",
              " 'neighbors array\\tmain return c c++\\n',\n",
              " 'disable back button android\\thide softkey bar android phone\\tfullscreen activity android\\tuse startlocktask method versions android lower l\\n',\n",
              " 'use session secret\\tsessions secret option\\n',\n",
              " 'trying display original fitted data nls + dnorm ggplot2s geom_smooth\\textract coefficients ggplot2created nls fit\\tmethod extract stat_smooth line fit\\n',\n",
              " 'replacing values pig latin\\tbincod evaluation pig\\n',\n",
              " 'ruby checking east asian width unicode\\tvalidate japanese character active record callback\\n',\n",
              " 'application cache issues android browser\\tload cache manifest file\\n',\n",
              " 'sample saml java config project broken start\\tspring boot saml 20\\n',\n",
              " 'storing multiple values resultset java bean\\tshow collection jsp page\\n',\n",
              " 'justintime jit compiler\\tmeant technically optimized cipher case aes java\\n',\n",
              " 'html top npapi plugin\\tdiv top viewrightplayer\\tdiv top iframe silverlight inside\\n',\n",
              " 'objects array particular object\\tdetermine object one string\\n',\n",
              " 'set multiproject solution c++\\t__declspec dllimport needed\\tmacro dllexport dllimport switch\\n',\n",
              " 'python global variable act local variable method\\tcant set global variable python\\n',\n",
              " 'efficiently convert datasettables listdatatable\\tlinq casting datadatatablecollection\\n',\n",
              " 'uninstall remove homebrew package including dependencies\\terror disabling byobu login mac 10116\\n',\n",
              " 'adonet datadirectory documented\\tset applicationstartuppath may appconfig connectionstring\\n',\n",
              " 'jfree chart legend displaying names values columns instead one column\\taligning text piechart legend right align content inside legend\\tdisplay legend pie chart columns\\n',\n",
              " 'find method empty string\\tfind function python275\\n',\n",
              " 'fetching user user friends videos facebook store database\\tfetching videos facebook user news feed page storing database\\n',\n",
              " 'creating adding items linked list stored object\\tnullpointerexception fix\\n',\n",
              " 'scan entity runtime via hibernate\\tautodetect classes hibernate jar\\tpersistenceunit annotation wont create entitymanagefactory emfnull\\n',\n",
              " 'get php echo php files contents\\techo contents one page another page\\n',\n",
              " 'track memory allocations c++ especially new delete\\tfind memory take boost bimap\\n',\n",
              " 'force excel count page breaks correctly\\twait applicationcalculate finished\\texcel vba refresh wait\\tdoevents doesnt events\\n',\n",
              " 'every value given cell locate highlight value data\\tavoid using select excel vba\\n',\n",
              " 'mvc use viewmodel display data multiple tables perform crud operations\\tmvc database first issues edmx relationships view showing id field\\tsubmit partial view called multiple times data controller\\tviewmodel mvc\\tpost form array without successful\\n',\n",
              " 'css flipper iexplorer\\tpreserve 3d working ie11\\n',\n",
              " 'black screen events ios opengl es 2\\tios eagl video rendering works device rotation\\n',\n",
              " 'using height 100vh goes far beyond browser window\\telement height 100vh covers horizontal scrollbar\\n',\n",
              " 'meteorjs separated interface webapp mobile app\\tmeteor cordova production\\n',\n",
              " 'particular system port avliable checking using java\\tsockets discover port availability using java\\n',\n",
              " 'sort outer array based values inner array javascript\\tsorting 2 dimensional javascript array\\n',\n",
              " 'error itms90086 submitting app\\terror itms90086 missing 64bit support xcode 72\\n',\n",
              " 'getting values method form\\taccessing mainwindow another window\\n',\n",
              " 'codeigniter session issue sign browser back button landed secured page\\tcodeigniter back button logout\\tpreventing cache backbutton safari 5\\n',\n",
              " 'marshal jaxbelement response\\tpossible programmatically configure jaxb\\n',\n",
              " 'java swt shell window closing event\\tserialize class exiting program\\n',\n",
              " 'secure socket communication android laptop\\tssl socket programming\\n',\n",
              " 'node2157 deprecationwarning mongoose mpromise mongooses default promise library deprecated plug promise library instead\\tnode3341 deprecationwarning mongoose mpromise\\n',\n",
              " 'boostany_rangegslstring_span crash release mode\\tboostany_range optimization level o2 causes crash\\n',\n",
              " 'passing variable argument closure\\tscope chain javascript\\n',\n",
              " 'sql fast converted linq slow\\tlinq generally slower equal sql statement\\n',\n",
              " 'android volley strange error http code 401 javaioioexception authentication challenges found\\tandroid volley error authentication challenges found\\n',\n",
              " 'jquerys jquery1102minmap triggering 404 found\\thide jquerymap errors google chrome developer tools\\n',\n",
              " 'jdbc preparedstatements vs objects put initialization\\treusing preparedstatement multiple times\\n',\n",
              " 'watch subchild added event firebase\\tupdating user list sub child event firebase realtime database android\\n',\n",
              " 'merge audio video using avmutablecompositiontrack\\tmixing two audio files using avcomposition ios\\n',\n",
              " 'antlr simplest way recognize dates numbers\\tantlr4 parsing dates\\tcreate antlr4 grammar parse date\\n',\n",
              " 'unable find details private key jks\\tkeytool see public private keys\\n',\n",
              " 'outer classes call methods inner class\\touter java classes access inner class private members\\n',\n",
              " 'nested inlines django admin\\tdjango inlinemodeladmin show partially inline model link complete model\\tadd link django admin page one object admin page related object\\n',\n",
              " 'css external fonts\\tfonts web\\tuse custom font website\\n',\n",
              " 'implement callback ruby\\tpass symbol method call corresponding method\\n',\n",
              " 'get thread id window\\tgetting thread id thread\\n',\n",
              " 'utilitiy dynamic creation static pages im asking want rather becasue\\tusing diff find portions many files bizzarodiff inversediff\\n',\n",
              " 'major php mysql login project session variables\\tstore get user id php session variable\\n',\n",
              " 'fix error mailto link within iframe\\tiframe gmail\\n',\n",
              " 'log logged users springsecurity\\tsessioninformation expiration doesnt lead user log system\\tload java httpsession jsessionid\\n',\n",
              " 'knockoutjs multiple viewmodels single view\\tcall koapplybindings bind partial view\\n',\n",
              " 'set get using tag fragment android\\tget fragment tag id tablayout android\\n',\n",
              " 'open web page automatically full screen mode\\tkeep display web app\\n',\n",
              " 'sql server 2008 convert column value row\\tswitching rows columns columns rows\\tswap rows columns sql server 2008\\n',\n",
              " 'drupal php internal error erasing file upload saving\\tphp 54 calltime passbyreference easy fix available\\n',\n",
              " 'find row count tables postgres\\tperform sum many count queries result initial query\\n',\n",
              " ...]"
            ]
          },
          "metadata": {
            "tags": []
          },
          "execution_count": 54
        }
      ]
    },
    {
      "cell_type": "code",
      "metadata": {
        "id": "nslikSJOgX2S",
        "colab_type": "code",
        "outputId": "7db5733e-b894-4989-eca0-f19cc37e12ff",
        "colab": {
          "base_uri": "https://localhost:8080/",
          "height": 122
        }
      },
      "source": [
        "from google.colab import drive\n",
        "drive.mount('/content/drive/')"
      ],
      "execution_count": 0,
      "outputs": [
        {
          "output_type": "stream",
          "text": [
            "Go to this URL in a browser: https://accounts.google.com/o/oauth2/auth?client_id=947318989803-6bn6qk8qdgf4n4g3pfee6491hc0brc4i.apps.googleusercontent.com&redirect_uri=urn%3aietf%3awg%3aoauth%3a2.0%3aoob&response_type=code&scope=email%20https%3a%2f%2fwww.googleapis.com%2fauth%2fdocs.test%20https%3a%2f%2fwww.googleapis.com%2fauth%2fdrive%20https%3a%2f%2fwww.googleapis.com%2fauth%2fdrive.photos.readonly%20https%3a%2f%2fwww.googleapis.com%2fauth%2fpeopleapi.readonly\n",
            "\n",
            "Enter your authorization code:\n",
            "··········\n",
            "Mounted at /content/drive/\n"
          ],
          "name": "stdout"
        }
      ]
    },
    {
      "cell_type": "code",
      "metadata": {
        "id": "7D2fH8z_gvLT",
        "colab_type": "code",
        "colab": {}
      },
      "source": [
        "f=open('starspace_embedding.tsv','r')"
      ],
      "execution_count": 0,
      "outputs": []
    },
    {
      "cell_type": "code",
      "metadata": {
        "id": "ZSR_-kYEhLJX",
        "colab_type": "code",
        "colab": {}
      },
      "source": [
        "import pickle"
      ],
      "execution_count": 0,
      "outputs": []
    },
    {
      "cell_type": "code",
      "metadata": {
        "id": "SSAPM2vAhBAW",
        "colab_type": "code",
        "outputId": "6418c2ab-9772-4abb-b295-51ecc5f602b1",
        "colab": {
          "base_uri": "https://localhost:8080/",
          "height": 34
        }
      },
      "source": [
        "from shutil import copyfile\n",
        "\n",
        "copyfile('starspace_embedding.tsv', '/content/drive/My Drive/star_emb.tsv')"
      ],
      "execution_count": 0,
      "outputs": [
        {
          "output_type": "execute_result",
          "data": {
            "text/plain": [
              "'/content/drive/My Drive/star_emb.tsv'"
            ]
          },
          "metadata": {
            "tags": []
          },
          "execution_count": 46
        }
      ]
    },
    {
      "cell_type": "markdown",
      "metadata": {
        "collapsed": true,
        "id": "mNyOcAFF1HZI",
        "colab_type": "text"
      },
      "source": [
        "And now we can compare the new embeddings with the previous ones. You can find trained word vectors in the file *[model_file_name].tsv*. Upload the embeddings from StarSpace into a dict. "
      ]
    },
    {
      "cell_type": "code",
      "metadata": {
        "id": "Bct7gRuthTSJ",
        "colab_type": "code",
        "colab": {}
      },
      "source": [
        "from google.colab import drive\n",
        "drive.mount('/content/drive')"
      ],
      "execution_count": 0,
      "outputs": []
    },
    {
      "cell_type": "code",
      "metadata": {
        "id": "5x9QFFCs1HZJ",
        "colab_type": "code",
        "colab": {}
      },
      "source": [
        "starspace_embeddings = dict()\n",
        "for line in open('starspace_embedding.tsv', encoding='utf-8'):\n",
        "    row = line.strip().split('\\t')\n",
        "    starspace_embeddings[row[0]]=np.array(row[1:],dtype=np.float32)"
      ],
      "execution_count": 0,
      "outputs": []
    },
    {
      "cell_type": "code",
      "metadata": {
        "id": "DFZu6DS8pdPJ",
        "colab_type": "code",
        "outputId": "5a0164ca-35f3-456f-d92e-93461195d0d6",
        "colab": {
          "base_uri": "https://localhost:8080/",
          "height": 374
        }
      },
      "source": [
        "starspace_embeddings['c#']"
      ],
      "execution_count": 0,
      "outputs": [
        {
          "output_type": "execute_result",
          "data": {
            "text/plain": [
              "array([-0.00936574, -0.043267  , -0.0372198 ,  0.0289595 , -0.0300371 ,\n",
              "        0.0957715 , -0.0143547 , -0.0696718 , -0.0865368 , -0.0470562 ,\n",
              "       -0.00684005,  0.00543556, -0.00924318,  0.0153839 , -0.0257166 ,\n",
              "        0.0236785 , -0.0290475 ,  0.00332306,  0.0318777 ,  0.0652171 ,\n",
              "       -0.0216727 ,  0.0331706 ,  0.0178807 , -0.104334  , -0.0167171 ,\n",
              "       -0.0322147 , -0.0709295 , -0.0346748 ,  0.0269481 , -0.101017  ,\n",
              "        0.0210414 ,  0.0317284 ,  0.0398955 , -0.0252224 , -0.0122306 ,\n",
              "       -0.011974  , -0.0233894 ,  0.00648666, -0.0568121 ,  0.0253782 ,\n",
              "       -0.10867   ,  0.0459752 , -0.0661663 , -0.0318659 , -0.0271372 ,\n",
              "       -0.00347263, -0.0523363 , -0.0159573 ,  0.0623629 ,  0.00847912,\n",
              "        0.0550495 ,  0.0622077 , -0.0237957 , -0.0202278 , -0.0408406 ,\n",
              "        0.0105969 , -0.0129134 , -0.0932823 , -0.0293615 ,  0.0227902 ,\n",
              "       -0.0323153 ,  0.0262225 ,  0.0533357 ,  0.0692764 ,  0.00700048,\n",
              "       -0.142188  ,  0.0121064 ,  0.0664896 ,  0.0742351 ,  0.0290032 ,\n",
              "       -0.0276174 ,  0.0146425 ,  0.00608221,  0.0186484 ,  0.0305813 ,\n",
              "        0.0349414 ,  0.0302955 ,  0.0238207 , -0.00140392, -0.0110019 ,\n",
              "        0.0179261 ,  0.0442903 ,  0.0301736 ,  0.0111176 ,  0.0002568 ,\n",
              "        0.0431587 ,  0.0114773 ,  0.0437025 , -0.0404193 , -0.0705143 ,\n",
              "        0.0198983 ,  0.042397  , -0.0679396 , -0.0498454 ,  0.073526  ,\n",
              "       -0.0718544 ,  0.0305199 , -0.0115705 ,  0.0932071 , -0.0185642 ],\n",
              "      dtype=float32)"
            ]
          },
          "metadata": {
            "tags": []
          },
          "execution_count": 58
        }
      ]
    },
    {
      "cell_type": "code",
      "metadata": {
        "id": "u1hn9wwe1HZW",
        "colab_type": "code",
        "colab": {}
      },
      "source": [
        "ss_prepared_ranking = []\n",
        "for line in prepared_validation:\n",
        "    q, *ex = line\n",
        "    ranks = rank_candidates(q, ex, starspace_embeddings, 100)\n",
        "    ss_prepared_ranking.append([r[0] for r in ranks].index(0) + 1)"
      ],
      "execution_count": 0,
      "outputs": []
    },
    {
      "cell_type": "code",
      "metadata": {
        "id": "M1hEHU_Z1HZY",
        "colab_type": "code",
        "outputId": "4ec9c6d5-ae44-4e0c-fcdb-e50bc24918f2",
        "colab": {
          "base_uri": "https://localhost:8080/",
          "height": 119
        }
      },
      "source": [
        "for k in [1, 5, 10, 100, 500, 1000]:\n",
        "    print(\"DCG@%4d: %.3f | Hits@%4d: %.3f\" % (k, dcg_score(ss_prepared_ranking, k), \n",
        "                                               k, hits_count(ss_prepared_ranking, k)))"
      ],
      "execution_count": 0,
      "outputs": [
        {
          "output_type": "stream",
          "text": [
            "DCG@   1: 0.515 | Hits@   1: 0.515\n",
            "DCG@   5: 0.614 | Hits@   5: 0.697\n",
            "DCG@  10: 0.633 | Hits@  10: 0.758\n",
            "DCG@ 100: 0.663 | Hits@ 100: 0.903\n",
            "DCG@ 500: 0.674 | Hits@ 500: 0.981\n",
            "DCG@1000: 0.676 | Hits@1000: 1.000\n"
          ],
          "name": "stdout"
        }
      ]
    },
    {
      "cell_type": "code",
      "metadata": {
        "id": "EeDjIC0qH7De",
        "colab_type": "code",
        "colab": {}
      },
      "source": [
        "import pickle"
      ],
      "execution_count": 0,
      "outputs": []
    },
    {
      "cell_type": "markdown",
      "metadata": {
        "id": "473GgOi81HZc",
        "colab_type": "text"
      },
      "source": [
        "Due to training for the particular task with the supervised data, you should expect to obtain a higher quality than for the previous approach. In additiion, despite the fact that StarSpace's trained vectors have a smaller dimension than word2vec's, it provides better results in this task."
      ]
    },
    {
      "cell_type": "markdown",
      "metadata": {
        "id": "Rqo6ruUn1HZc",
        "colab_type": "text"
      },
      "source": [
        "**Task 5 (StarSpaceRanks).** For each question from prepared *test.tsv* submit the ranks of the candidates for trained representation."
      ]
    },
    {
      "cell_type": "code",
      "metadata": {
        "id": "WeXhBMuC1HZd",
        "colab_type": "code",
        "outputId": "dfb15d1f-7e7d-4a8d-9ccc-d79f87e5e7c2",
        "colab": {
          "base_uri": "https://localhost:8080/",
          "height": 54
        }
      },
      "source": [
        "starspace_ranks_results = []\n",
        "prepared_test_data = 'data/test_prep.tsv'\n",
        "for line in open(prepared_test_data):\n",
        "    q, *ex = line.strip().split('\\t')\n",
        "    ranks = rank_candidates(q, ex, starspace_embeddings, 100)\n",
        "    ranked_candidates = [r[0] for r in ranks]\n",
        "    starspace_ranks_results.append([ranked_candidates.index(i) + 1 for i in range(len(ranked_candidates))])\n",
        "    \n",
        "grader.submit_tag('StarSpaceRanks', matrix_to_string(starspace_ranks_results))"
      ],
      "execution_count": 0,
      "outputs": [
        {
          "output_type": "stream",
          "text": [
            "Current answer for task StarSpaceRanks is: 100\t29\t40\t46\t31\t92\t65\t75\t83\t49\t24\t13\t23\t19\t67\t89\t9\t77\t66\t99\t73\t11\t21\t98\t95\t30\t87\t69\t47\t1\t17\t78\t76\t59...\n"
          ],
          "name": "stdout"
        }
      ]
    },
    {
      "cell_type": "markdown",
      "metadata": {
        "id": "1GQGt6cl1HZf",
        "colab_type": "text"
      },
      "source": [
        "Please, **don't remove** the file with these embeddings because you will need them in the final project."
      ]
    },
    {
      "cell_type": "markdown",
      "metadata": {
        "id": "YHfY8EKQ1HZg",
        "colab_type": "text"
      },
      "source": [
        "### Authorization & Submission\n",
        "To submit assignment parts to Cousera platform, please, enter your e-mail and token into variables below. You can generate token on this programming assignment page. <b>Note:</b> Token expires 30 minutes after generation."
      ]
    },
    {
      "cell_type": "code",
      "metadata": {
        "id": "kHYCvP2E1HZh",
        "colab_type": "code",
        "outputId": "985d2b58-3d2d-4837-c2cc-793921d025ea",
        "colab": {
          "base_uri": "https://localhost:8080/",
          "height": 615
        }
      },
      "source": [
        "STUDENT_EMAIL = 'abhishek.s.eee15@iitbhu.ac.in'\n",
        "STUDENT_TOKEN = 'uHe7NUbWZpoJNw8C'\n",
        "grader.status()"
      ],
      "execution_count": 0,
      "outputs": [
        {
          "output_type": "stream",
          "text": [
            "You want to submit these parts:\n",
            "Task Question2Vec: 0.019293891059027776\n",
            "-0.028727213541666668\n",
            "0.046056111653645836\n",
            "0.08525933159722222\n",
            "0.02430555555555...\n",
            "Task HitsCount: 1.0\n",
            "0.5\n",
            "1.0\n",
            "0.5\n",
            "1.0\n",
            "0.3333333333333333\n",
            "0.6666666666666666\n",
            "1.0\n",
            "0.1\n",
            "0.2\n",
            "0.3\n",
            "0.4\n",
            "0.5\n",
            "0.6\n",
            "0.7\n",
            "0.8\n",
            "0.9\n",
            "1....\n",
            "Task DCGScore: 1.0\n",
            "0.5\n",
            "0.8154648767857288\n",
            "0.5\n",
            "0.8154648767857288\n",
            "0.3333333333333333\n",
            "0.5436432511904858\n",
            "0.7103099178...\n",
            "Task W2VTokenizedRanks: 95\t94\t7\t9\t64\t37\t32\t93\t24\t100\t98\t17\t60\t6\t97\t49\t70\t38\t42\t96\t30\t21\t2\t65\t67\t45\t27\t26\t57\t62\t11\t88\t56\t66\t7...\n",
            "Task StarSpaceRanks: 100\t29\t40\t46\t31\t92\t65\t75\t83\t49\t24\t13\t23\t19\t67\t89\t9\t77\t66\t99\t73\t11\t21\t98\t95\t30\t87\t69\t47\t1\t17\t78\t76\t59...\n"
          ],
          "name": "stdout"
        }
      ]
    },
    {
      "cell_type": "markdown",
      "metadata": {
        "id": "pX7jI1ua1HZj",
        "colab_type": "text"
      },
      "source": [
        "If you want to submit these answers, run cell below"
      ]
    },
    {
      "cell_type": "code",
      "metadata": {
        "id": "LZKh0iUe1HZk",
        "colab_type": "code",
        "outputId": "4f446ceb-ebae-441e-8b4f-9c3a115e1eb8",
        "colab": {
          "base_uri": "https://localhost:8080/",
          "height": 34
        }
      },
      "source": [
        "grader.submit(STUDENT_EMAIL, STUDENT_TOKEN)"
      ],
      "execution_count": 0,
      "outputs": [
        {
          "output_type": "stream",
          "text": [
            "Submitted to Coursera platform. See results on assignment page!\n"
          ],
          "name": "stdout"
        }
      ]
    },
    {
      "cell_type": "code",
      "metadata": {
        "id": "tr-0K1xShfQD",
        "colab_type": "code",
        "colab": {}
      },
      "source": [
        ""
      ],
      "execution_count": 0,
      "outputs": []
    }
  ]
}